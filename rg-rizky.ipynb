{
 "cells": [
  {
   "cell_type": "code",
   "execution_count": 1,
   "id": "138be14b-cb95-44ea-bd9d-f609a60d101d",
   "metadata": {},
   "outputs": [],
   "source": [
    "# control seed for reproducibility\n",
    "\n",
    "import os\n",
    "import random\n",
    "import numpy as np\n",
    "import torch\n",
    "\n",
    "\n",
    "def set_all_seeds(seed):\n",
    "    random.seed(seed)\n",
    "    os.environ[\"PYTHONHASHSEED\"] = str(seed)\n",
    "    np.random.seed(seed)\n",
    "    torch.manual_seed(seed)\n",
    "    torch.cuda.manual_seed(seed)\n",
    "    torch.backends.cudnn.deterministic = True\n",
    "\n",
    "\n",
    "seed = 0\n",
    "set_all_seeds(seed)\n"
   ]
  },
  {
   "cell_type": "markdown",
   "id": "0b1e3f04-d047-45a1-9d8c-05a2d0e525f9",
   "metadata": {},
   "source": [
    "Packages used:\n",
    "\n",
    "- py-irt\n",
    "- pyro-ppl (required by py-irt)\n",
    "- torch (required by pyro-ppl)\n",
    "- catboost\n",
    "- sklearn, pandas, numpy, seaborn"
   ]
  },
  {
   "cell_type": "code",
   "execution_count": 2,
   "id": "3fcb8954-def9-4197-a307-9e18ff374a43",
   "metadata": {},
   "outputs": [],
   "source": [
    "# imports\n",
    "\n",
    "import pandas as pd\n",
    "import numpy as np\n",
    "import json\n",
    "import seaborn as sns\n",
    "from sklearn.metrics import roc_auc_score\n",
    "from catboost import CatBoostClassifier\n",
    "from sklearn.model_selection import train_test_split\n",
    "\n",
    "sns.set(rc={\"figure.figsize\": (11.7, 8.27)})\n"
   ]
  },
  {
   "cell_type": "markdown",
   "id": "9e7489cb-a5be-4dbc-b86c-798a221347e5",
   "metadata": {},
   "source": [
    "# Brief overview\n",
    "\n",
    "Given the dataset of historical data of student performances on test, I was asked to predict probability of correct answer for the next question\n",
    "\n",
    "# Table of contents\n",
    "\n",
    "This notebook is structured as following:\n",
    "\n",
    "- Brief overview\n",
    "- Exploratory data analysis\n",
    "  - Data documentation\n",
    "  - Training & test data overview\n",
    "  - aggregated summary of training data\n",
    "  - how the train/test was split?\n",
    "- data splitting\n",
    "- prediction baseline\n",
    "- prediction using model\n",
    "- decomposing student ability and question difficulty\n",
    "- item response theory (IRT)\n",
    "   - preprocessing for IRT\n",
    "   - EDA of IRT on full dataset\n",
    "   - Performance of IRT on split dataset\n",
    "- conclusion of the best model of the experiment\n",
    "- final submission\n",
    "\n",
    "You can use the Outline / Table of Content from jupyter on the left sidebar for easier navigation "
   ]
  },
  {
   "cell_type": "markdown",
   "id": "80ddfaf8-6d9d-4a4d-8913-01639b45e07a",
   "metadata": {},
   "source": [
    "# Exploratory data analysis:\n",
    "\n",
    "## Data Documentation\n",
    "\n",
    "From the documentation, the relationships between columns are explained this way:\n",
    "\n",
    "- 1 topic has many subtopic (one to many)\n",
    "- 1 has many learning node (one to many)\n",
    "- 1 subtopic has many questions (one to many)\n",
    "- learning node to questions are many to many\n",
    "\n",
    "## Training & test data overview"
   ]
  },
  {
   "cell_type": "code",
   "execution_count": 3,
   "id": "c2d4050f-087f-4693-a578-1d4e575a5ac9",
   "metadata": {},
   "outputs": [
    {
     "data": {
      "text/plain": [
       "(286886, 18)"
      ]
     },
     "execution_count": 3,
     "metadata": {},
     "output_type": "execute_result"
    }
   ],
   "source": [
    "df = pd.read_csv(\"train.csv\")\n",
    "df.shape\n"
   ]
  },
  {
   "cell_type": "code",
   "execution_count": 98,
   "id": "d9e7864d-a052-404f-beef-a7e16b9492a0",
   "metadata": {},
   "outputs": [
    {
     "data": {
      "text/plain": [
       "(110854.0, 172131, 0.644009504389099)"
      ]
     },
     "execution_count": 98,
     "metadata": {},
     "output_type": "execute_result"
    }
   ],
   "source": [
    "train.is_correct.sum(), train.is_correct.count(), train.is_correct.sum() / train.is_correct.count()"
   ]
  },
  {
   "cell_type": "markdown",
   "id": "32323aed-b6a8-407e-80a5-42d6c5961181",
   "metadata": {},
   "source": [
    "I will summary both train & test dataframe, checks including:\n",
    "\n",
    "- has nan?\n",
    "- number of unique values\n",
    "- list of unique values"
   ]
  },
  {
   "cell_type": "code",
   "execution_count": 4,
   "id": "97a5799d-5001-4279-a520-80ee91c64d3f",
   "metadata": {},
   "outputs": [
    {
     "data": {
      "text/html": [
       "<div>\n",
       "<style scoped>\n",
       "    .dataframe tbody tr th:only-of-type {\n",
       "        vertical-align: middle;\n",
       "    }\n",
       "\n",
       "    .dataframe tbody tr th {\n",
       "        vertical-align: top;\n",
       "    }\n",
       "\n",
       "    .dataframe thead th {\n",
       "        text-align: right;\n",
       "    }\n",
       "</style>\n",
       "<table border=\"1\" class=\"dataframe\">\n",
       "  <thead>\n",
       "    <tr style=\"text-align: right;\">\n",
       "      <th></th>\n",
       "      <th>has nan?</th>\n",
       "      <th>num of unique values</th>\n",
       "      <th>list of unique values</th>\n",
       "    </tr>\n",
       "  </thead>\n",
       "  <tbody>\n",
       "    <tr>\n",
       "      <th>user_id</th>\n",
       "      <td>False</td>\n",
       "      <td>7000</td>\n",
       "      <td>[2348875, 2766044, 3604867, 4061807, 5713467, ...</td>\n",
       "    </tr>\n",
       "    <tr>\n",
       "      <th>session_id</th>\n",
       "      <td>False</td>\n",
       "      <td>47222</td>\n",
       "      <td>[5473538500, 3206055652, 9605991415, 725546045...</td>\n",
       "    </tr>\n",
       "    <tr>\n",
       "      <th>session_no</th>\n",
       "      <td>False</td>\n",
       "      <td>1311</td>\n",
       "      <td>[1.0, 2.0, 3.0, 4.0, 5.0, 6.0, 7.0, 8.0, 9.0, ...</td>\n",
       "    </tr>\n",
       "    <tr>\n",
       "      <th>topic</th>\n",
       "      <td>False</td>\n",
       "      <td>1639</td>\n",
       "      <td>[1064573894, 4794286044, 1737274108, 484457666...</td>\n",
       "    </tr>\n",
       "    <tr>\n",
       "      <th>sub_topic</th>\n",
       "      <td>False</td>\n",
       "      <td>2265</td>\n",
       "      <td>[6164056362, 6471306273, 2158335016, 688757428...</td>\n",
       "    </tr>\n",
       "    <tr>\n",
       "      <th>learning_node</th>\n",
       "      <td>False</td>\n",
       "      <td>12093</td>\n",
       "      <td>[1683819444, 3791168789, 7856645946, 281267882...</td>\n",
       "    </tr>\n",
       "    <tr>\n",
       "      <th>question_id</th>\n",
       "      <td>False</td>\n",
       "      <td>30653</td>\n",
       "      <td>[2226271822, 5592568637, 1243898418, 473279859...</td>\n",
       "    </tr>\n",
       "    <tr>\n",
       "      <th>question_type</th>\n",
       "      <td>False</td>\n",
       "      <td>3</td>\n",
       "      <td>[Single choice, Multi choice, single choice]</td>\n",
       "    </tr>\n",
       "    <tr>\n",
       "      <th>session_question_no</th>\n",
       "      <td>False</td>\n",
       "      <td>44</td>\n",
       "      <td>[1, 2, 3, 4, 5, 6, 7, 8, 9, 10, 11, 12, 13, 14...</td>\n",
       "    </tr>\n",
       "    <tr>\n",
       "      <th>learning_node_question_no</th>\n",
       "      <td>False</td>\n",
       "      <td>32</td>\n",
       "      <td>[1, 2, 3, 4, 5, 6, 7, 8, 9, 10, 11, 12, 13, 14...</td>\n",
       "    </tr>\n",
       "    <tr>\n",
       "      <th>question_difficulty</th>\n",
       "      <td>True</td>\n",
       "      <td>4</td>\n",
       "      <td>[medium, nan, easy, hard, hots]</td>\n",
       "    </tr>\n",
       "    <tr>\n",
       "      <th>question_number_of_choice</th>\n",
       "      <td>False</td>\n",
       "      <td>5</td>\n",
       "      <td>[4, 3, 5, 2, 6]</td>\n",
       "    </tr>\n",
       "    <tr>\n",
       "      <th>question_number_of_correct_choice</th>\n",
       "      <td>False</td>\n",
       "      <td>1</td>\n",
       "      <td>[1]</td>\n",
       "    </tr>\n",
       "    <tr>\n",
       "      <th>question_number_of_correct_selected</th>\n",
       "      <td>False</td>\n",
       "      <td>2</td>\n",
       "      <td>[0, 1]</td>\n",
       "    </tr>\n",
       "    <tr>\n",
       "      <th>question_number_of_wrong_selected</th>\n",
       "      <td>False</td>\n",
       "      <td>4</td>\n",
       "      <td>[1, 0, 2, 3]</td>\n",
       "    </tr>\n",
       "    <tr>\n",
       "      <th>ms_first_response</th>\n",
       "      <td>False</td>\n",
       "      <td>8806</td>\n",
       "      <td>[18.0, 12.0, 11.0, 47.0, 7.0, 88.0, 22.0, 8.0,...</td>\n",
       "    </tr>\n",
       "    <tr>\n",
       "      <th>is_correct</th>\n",
       "      <td>False</td>\n",
       "      <td>2</td>\n",
       "      <td>[0.0, 1.0]</td>\n",
       "    </tr>\n",
       "    <tr>\n",
       "      <th>row_id</th>\n",
       "      <td>False</td>\n",
       "      <td>286886</td>\n",
       "      <td>[0, 1, 2, 3, 4, 5, 6, 7, 8, 9, 10, 11, 12, 13,...</td>\n",
       "    </tr>\n",
       "  </tbody>\n",
       "</table>\n",
       "</div>"
      ],
      "text/plain": [
       "                                     has nan?  num of unique values  \\\n",
       "user_id                                 False                  7000   \n",
       "session_id                              False                 47222   \n",
       "session_no                              False                  1311   \n",
       "topic                                   False                  1639   \n",
       "sub_topic                               False                  2265   \n",
       "learning_node                           False                 12093   \n",
       "question_id                             False                 30653   \n",
       "question_type                           False                     3   \n",
       "session_question_no                     False                    44   \n",
       "learning_node_question_no               False                    32   \n",
       "question_difficulty                      True                     4   \n",
       "question_number_of_choice               False                     5   \n",
       "question_number_of_correct_choice       False                     1   \n",
       "question_number_of_correct_selected     False                     2   \n",
       "question_number_of_wrong_selected       False                     4   \n",
       "ms_first_response                       False                  8806   \n",
       "is_correct                              False                     2   \n",
       "row_id                                  False                286886   \n",
       "\n",
       "                                                                 list of unique values  \n",
       "user_id                              [2348875, 2766044, 3604867, 4061807, 5713467, ...  \n",
       "session_id                           [5473538500, 3206055652, 9605991415, 725546045...  \n",
       "session_no                           [1.0, 2.0, 3.0, 4.0, 5.0, 6.0, 7.0, 8.0, 9.0, ...  \n",
       "topic                                [1064573894, 4794286044, 1737274108, 484457666...  \n",
       "sub_topic                            [6164056362, 6471306273, 2158335016, 688757428...  \n",
       "learning_node                        [1683819444, 3791168789, 7856645946, 281267882...  \n",
       "question_id                          [2226271822, 5592568637, 1243898418, 473279859...  \n",
       "question_type                             [Single choice, Multi choice, single choice]  \n",
       "session_question_no                  [1, 2, 3, 4, 5, 6, 7, 8, 9, 10, 11, 12, 13, 14...  \n",
       "learning_node_question_no            [1, 2, 3, 4, 5, 6, 7, 8, 9, 10, 11, 12, 13, 14...  \n",
       "question_difficulty                                    [medium, nan, easy, hard, hots]  \n",
       "question_number_of_choice                                              [4, 3, 5, 2, 6]  \n",
       "question_number_of_correct_choice                                                  [1]  \n",
       "question_number_of_correct_selected                                             [0, 1]  \n",
       "question_number_of_wrong_selected                                         [1, 0, 2, 3]  \n",
       "ms_first_response                    [18.0, 12.0, 11.0, 47.0, 7.0, 88.0, 22.0, 8.0,...  \n",
       "is_correct                                                                  [0.0, 1.0]  \n",
       "row_id                               [0, 1, 2, 3, 4, 5, 6, 7, 8, 9, 10, 11, 12, 13,...  "
      ]
     },
     "execution_count": 4,
     "metadata": {},
     "output_type": "execute_result"
    }
   ],
   "source": [
    "def df_summarier(df):\n",
    "    a = df.isna().any(axis=0)\n",
    "    b = df.nunique()\n",
    "    c = pd.Series({col: df[col].unique() for col in df})\n",
    "    return pd.concat([a, b, c], axis=1).rename(\n",
    "        columns={0: \"has nan?\", 1: \"num of unique values\", 2: \"list of unique values\"}\n",
    "    )\n",
    "\n",
    "\n",
    "# train\n",
    "\n",
    "\n",
    "df_summarier(df)\n"
   ]
  },
  {
   "cell_type": "code",
   "execution_count": 5,
   "id": "e97b0135-50ce-42b7-b118-fe8f4faed302",
   "metadata": {},
   "outputs": [
    {
     "data": {
      "text/html": [
       "<div>\n",
       "<style scoped>\n",
       "    .dataframe tbody tr th:only-of-type {\n",
       "        vertical-align: middle;\n",
       "    }\n",
       "\n",
       "    .dataframe tbody tr th {\n",
       "        vertical-align: top;\n",
       "    }\n",
       "\n",
       "    .dataframe thead th {\n",
       "        text-align: right;\n",
       "    }\n",
       "</style>\n",
       "<table border=\"1\" class=\"dataframe\">\n",
       "  <thead>\n",
       "    <tr style=\"text-align: right;\">\n",
       "      <th></th>\n",
       "      <th>has nan?</th>\n",
       "      <th>num of unique values</th>\n",
       "      <th>list of unique values</th>\n",
       "    </tr>\n",
       "  </thead>\n",
       "  <tbody>\n",
       "    <tr>\n",
       "      <th>user_id</th>\n",
       "      <td>False</td>\n",
       "      <td>7000</td>\n",
       "      <td>[2348875, 2766044, 3604867, 4061807, 5713467, ...</td>\n",
       "    </tr>\n",
       "    <tr>\n",
       "      <th>session_id</th>\n",
       "      <td>False</td>\n",
       "      <td>7000</td>\n",
       "      <td>[3206055652, 2972889287, 8630265714, 731591200...</td>\n",
       "    </tr>\n",
       "    <tr>\n",
       "      <th>session_no</th>\n",
       "      <td>False</td>\n",
       "      <td>116</td>\n",
       "      <td>[2.0, 11.0, 4.0, 10.0, 3.0, 9.0, 1.0, 16.0, 6....</td>\n",
       "    </tr>\n",
       "    <tr>\n",
       "      <th>topic</th>\n",
       "      <td>False</td>\n",
       "      <td>1132</td>\n",
       "      <td>[1064573894, 1737274108, 2624511878, 147927464...</td>\n",
       "    </tr>\n",
       "    <tr>\n",
       "      <th>sub_topic</th>\n",
       "      <td>False</td>\n",
       "      <td>1229</td>\n",
       "      <td>[6164056362, 6197171301, 5665086549, 277442736...</td>\n",
       "    </tr>\n",
       "    <tr>\n",
       "      <th>learning_node</th>\n",
       "      <td>False</td>\n",
       "      <td>3591</td>\n",
       "      <td>[1683819444, 8772005155, 1064446677, 746987330...</td>\n",
       "    </tr>\n",
       "    <tr>\n",
       "      <th>question_id</th>\n",
       "      <td>False</td>\n",
       "      <td>4829</td>\n",
       "      <td>[2226271822, 8350981375, 7911407965, 236807865...</td>\n",
       "    </tr>\n",
       "    <tr>\n",
       "      <th>question_type</th>\n",
       "      <td>False</td>\n",
       "      <td>2</td>\n",
       "      <td>[Single choice, Multi choice]</td>\n",
       "    </tr>\n",
       "    <tr>\n",
       "      <th>session_question_no</th>\n",
       "      <td>False</td>\n",
       "      <td>27</td>\n",
       "      <td>[2, 6, 8, 7, 9, 1, 4, 12, 10, 14, 5, 3, 15, 18...</td>\n",
       "    </tr>\n",
       "    <tr>\n",
       "      <th>learning_node_question_no</th>\n",
       "      <td>False</td>\n",
       "      <td>9</td>\n",
       "      <td>[2, 1, 3, 7, 6, 4, 33, 13, 12]</td>\n",
       "    </tr>\n",
       "    <tr>\n",
       "      <th>question_difficulty</th>\n",
       "      <td>True</td>\n",
       "      <td>4</td>\n",
       "      <td>[medium, nan, easy, hots, hard]</td>\n",
       "    </tr>\n",
       "    <tr>\n",
       "      <th>question_number_of_choice</th>\n",
       "      <td>False</td>\n",
       "      <td>4</td>\n",
       "      <td>[4, 3, 5, 2]</td>\n",
       "    </tr>\n",
       "    <tr>\n",
       "      <th>question_number_of_correct_choice</th>\n",
       "      <td>False</td>\n",
       "      <td>1</td>\n",
       "      <td>[1]</td>\n",
       "    </tr>\n",
       "    <tr>\n",
       "      <th>row_id</th>\n",
       "      <td>False</td>\n",
       "      <td>7000</td>\n",
       "      <td>[0, 1, 2, 3, 4, 5, 6, 7, 8, 9, 10, 11, 12, 13,...</td>\n",
       "    </tr>\n",
       "  </tbody>\n",
       "</table>\n",
       "</div>"
      ],
      "text/plain": [
       "                                   has nan?  num of unique values  \\\n",
       "user_id                               False                  7000   \n",
       "session_id                            False                  7000   \n",
       "session_no                            False                   116   \n",
       "topic                                 False                  1132   \n",
       "sub_topic                             False                  1229   \n",
       "learning_node                         False                  3591   \n",
       "question_id                           False                  4829   \n",
       "question_type                         False                     2   \n",
       "session_question_no                   False                    27   \n",
       "learning_node_question_no             False                     9   \n",
       "question_difficulty                    True                     4   \n",
       "question_number_of_choice             False                     4   \n",
       "question_number_of_correct_choice     False                     1   \n",
       "row_id                                False                  7000   \n",
       "\n",
       "                                                               list of unique values  \n",
       "user_id                            [2348875, 2766044, 3604867, 4061807, 5713467, ...  \n",
       "session_id                         [3206055652, 2972889287, 8630265714, 731591200...  \n",
       "session_no                         [2.0, 11.0, 4.0, 10.0, 3.0, 9.0, 1.0, 16.0, 6....  \n",
       "topic                              [1064573894, 1737274108, 2624511878, 147927464...  \n",
       "sub_topic                          [6164056362, 6197171301, 5665086549, 277442736...  \n",
       "learning_node                      [1683819444, 8772005155, 1064446677, 746987330...  \n",
       "question_id                        [2226271822, 8350981375, 7911407965, 236807865...  \n",
       "question_type                                          [Single choice, Multi choice]  \n",
       "session_question_no                [2, 6, 8, 7, 9, 1, 4, 12, 10, 14, 5, 3, 15, 18...  \n",
       "learning_node_question_no                             [2, 1, 3, 7, 6, 4, 33, 13, 12]  \n",
       "question_difficulty                                  [medium, nan, easy, hots, hard]  \n",
       "question_number_of_choice                                               [4, 3, 5, 2]  \n",
       "question_number_of_correct_choice                                                [1]  \n",
       "row_id                             [0, 1, 2, 3, 4, 5, 6, 7, 8, 9, 10, 11, 12, 13,...  "
      ]
     },
     "execution_count": 5,
     "metadata": {},
     "output_type": "execute_result"
    }
   ],
   "source": [
    "# test\n",
    "\n",
    "testdf = pd.read_csv(\"test.csv\")\n",
    "df_summarier(testdf)\n"
   ]
  },
  {
   "cell_type": "markdown",
   "id": "5099eaf0-8300-4f82-bfec-cf3a6f55d3e8",
   "metadata": {},
   "source": [
    "#### Fixing data"
   ]
  },
  {
   "cell_type": "markdown",
   "id": "2cc8504b-cadf-46de-b458-af39b231886f",
   "metadata": {},
   "source": [
    "Given the existence of wrong case (`Single choice` vs `single choice`) and unknown (NaN) difficulty, I will rename the cells and impute the `nan`s with `others` before I proceed"
   ]
  },
  {
   "cell_type": "code",
   "execution_count": 6,
   "id": "5df2480f-422a-4ee6-8cce-148b087c3a36",
   "metadata": {},
   "outputs": [],
   "source": [
    "# fixing data\n",
    "\n",
    "df.replace({\"single choice\": \"Single choice\"}, inplace=True)\n",
    "df.fillna(\"other\", inplace=True)\n",
    "testdf.fillna(\"other\", inplace=True)\n"
   ]
  },
  {
   "cell_type": "code",
   "execution_count": 7,
   "id": "e2e8fab0-4076-44b9-ab3f-e38938813c89",
   "metadata": {},
   "outputs": [
    {
     "data": {
      "text/html": [
       "<div>\n",
       "<style scoped>\n",
       "    .dataframe tbody tr th:only-of-type {\n",
       "        vertical-align: middle;\n",
       "    }\n",
       "\n",
       "    .dataframe tbody tr th {\n",
       "        vertical-align: top;\n",
       "    }\n",
       "\n",
       "    .dataframe thead th {\n",
       "        text-align: right;\n",
       "    }\n",
       "</style>\n",
       "<table border=\"1\" class=\"dataframe\">\n",
       "  <thead>\n",
       "    <tr style=\"text-align: right;\">\n",
       "      <th></th>\n",
       "      <th>has nan?</th>\n",
       "      <th>num of unique values</th>\n",
       "      <th>list of unique values</th>\n",
       "    </tr>\n",
       "  </thead>\n",
       "  <tbody>\n",
       "    <tr>\n",
       "      <th>user_id</th>\n",
       "      <td>False</td>\n",
       "      <td>7000</td>\n",
       "      <td>[2348875, 2766044, 3604867, 4061807, 5713467, ...</td>\n",
       "    </tr>\n",
       "    <tr>\n",
       "      <th>session_id</th>\n",
       "      <td>False</td>\n",
       "      <td>47222</td>\n",
       "      <td>[5473538500, 3206055652, 9605991415, 725546045...</td>\n",
       "    </tr>\n",
       "    <tr>\n",
       "      <th>session_no</th>\n",
       "      <td>False</td>\n",
       "      <td>1311</td>\n",
       "      <td>[1.0, 2.0, 3.0, 4.0, 5.0, 6.0, 7.0, 8.0, 9.0, ...</td>\n",
       "    </tr>\n",
       "    <tr>\n",
       "      <th>topic</th>\n",
       "      <td>False</td>\n",
       "      <td>1639</td>\n",
       "      <td>[1064573894, 4794286044, 1737274108, 484457666...</td>\n",
       "    </tr>\n",
       "    <tr>\n",
       "      <th>sub_topic</th>\n",
       "      <td>False</td>\n",
       "      <td>2265</td>\n",
       "      <td>[6164056362, 6471306273, 2158335016, 688757428...</td>\n",
       "    </tr>\n",
       "    <tr>\n",
       "      <th>learning_node</th>\n",
       "      <td>False</td>\n",
       "      <td>12093</td>\n",
       "      <td>[1683819444, 3791168789, 7856645946, 281267882...</td>\n",
       "    </tr>\n",
       "    <tr>\n",
       "      <th>question_id</th>\n",
       "      <td>False</td>\n",
       "      <td>30653</td>\n",
       "      <td>[2226271822, 5592568637, 1243898418, 473279859...</td>\n",
       "    </tr>\n",
       "    <tr>\n",
       "      <th>question_type</th>\n",
       "      <td>False</td>\n",
       "      <td>2</td>\n",
       "      <td>[Single choice, Multi choice]</td>\n",
       "    </tr>\n",
       "    <tr>\n",
       "      <th>session_question_no</th>\n",
       "      <td>False</td>\n",
       "      <td>44</td>\n",
       "      <td>[1, 2, 3, 4, 5, 6, 7, 8, 9, 10, 11, 12, 13, 14...</td>\n",
       "    </tr>\n",
       "    <tr>\n",
       "      <th>learning_node_question_no</th>\n",
       "      <td>False</td>\n",
       "      <td>32</td>\n",
       "      <td>[1, 2, 3, 4, 5, 6, 7, 8, 9, 10, 11, 12, 13, 14...</td>\n",
       "    </tr>\n",
       "    <tr>\n",
       "      <th>question_difficulty</th>\n",
       "      <td>False</td>\n",
       "      <td>5</td>\n",
       "      <td>[medium, other, easy, hard, hots]</td>\n",
       "    </tr>\n",
       "    <tr>\n",
       "      <th>question_number_of_choice</th>\n",
       "      <td>False</td>\n",
       "      <td>5</td>\n",
       "      <td>[4, 3, 5, 2, 6]</td>\n",
       "    </tr>\n",
       "    <tr>\n",
       "      <th>question_number_of_correct_choice</th>\n",
       "      <td>False</td>\n",
       "      <td>1</td>\n",
       "      <td>[1]</td>\n",
       "    </tr>\n",
       "    <tr>\n",
       "      <th>question_number_of_correct_selected</th>\n",
       "      <td>False</td>\n",
       "      <td>2</td>\n",
       "      <td>[0, 1]</td>\n",
       "    </tr>\n",
       "    <tr>\n",
       "      <th>question_number_of_wrong_selected</th>\n",
       "      <td>False</td>\n",
       "      <td>4</td>\n",
       "      <td>[1, 0, 2, 3]</td>\n",
       "    </tr>\n",
       "    <tr>\n",
       "      <th>ms_first_response</th>\n",
       "      <td>False</td>\n",
       "      <td>8806</td>\n",
       "      <td>[18.0, 12.0, 11.0, 47.0, 7.0, 88.0, 22.0, 8.0,...</td>\n",
       "    </tr>\n",
       "    <tr>\n",
       "      <th>is_correct</th>\n",
       "      <td>False</td>\n",
       "      <td>2</td>\n",
       "      <td>[0.0, 1.0]</td>\n",
       "    </tr>\n",
       "    <tr>\n",
       "      <th>row_id</th>\n",
       "      <td>False</td>\n",
       "      <td>286886</td>\n",
       "      <td>[0, 1, 2, 3, 4, 5, 6, 7, 8, 9, 10, 11, 12, 13,...</td>\n",
       "    </tr>\n",
       "  </tbody>\n",
       "</table>\n",
       "</div>"
      ],
      "text/plain": [
       "                                     has nan?  num of unique values  \\\n",
       "user_id                                 False                  7000   \n",
       "session_id                              False                 47222   \n",
       "session_no                              False                  1311   \n",
       "topic                                   False                  1639   \n",
       "sub_topic                               False                  2265   \n",
       "learning_node                           False                 12093   \n",
       "question_id                             False                 30653   \n",
       "question_type                           False                     2   \n",
       "session_question_no                     False                    44   \n",
       "learning_node_question_no               False                    32   \n",
       "question_difficulty                     False                     5   \n",
       "question_number_of_choice               False                     5   \n",
       "question_number_of_correct_choice       False                     1   \n",
       "question_number_of_correct_selected     False                     2   \n",
       "question_number_of_wrong_selected       False                     4   \n",
       "ms_first_response                       False                  8806   \n",
       "is_correct                              False                     2   \n",
       "row_id                                  False                286886   \n",
       "\n",
       "                                                                 list of unique values  \n",
       "user_id                              [2348875, 2766044, 3604867, 4061807, 5713467, ...  \n",
       "session_id                           [5473538500, 3206055652, 9605991415, 725546045...  \n",
       "session_no                           [1.0, 2.0, 3.0, 4.0, 5.0, 6.0, 7.0, 8.0, 9.0, ...  \n",
       "topic                                [1064573894, 4794286044, 1737274108, 484457666...  \n",
       "sub_topic                            [6164056362, 6471306273, 2158335016, 688757428...  \n",
       "learning_node                        [1683819444, 3791168789, 7856645946, 281267882...  \n",
       "question_id                          [2226271822, 5592568637, 1243898418, 473279859...  \n",
       "question_type                                            [Single choice, Multi choice]  \n",
       "session_question_no                  [1, 2, 3, 4, 5, 6, 7, 8, 9, 10, 11, 12, 13, 14...  \n",
       "learning_node_question_no            [1, 2, 3, 4, 5, 6, 7, 8, 9, 10, 11, 12, 13, 14...  \n",
       "question_difficulty                                  [medium, other, easy, hard, hots]  \n",
       "question_number_of_choice                                              [4, 3, 5, 2, 6]  \n",
       "question_number_of_correct_choice                                                  [1]  \n",
       "question_number_of_correct_selected                                             [0, 1]  \n",
       "question_number_of_wrong_selected                                         [1, 0, 2, 3]  \n",
       "ms_first_response                    [18.0, 12.0, 11.0, 47.0, 7.0, 88.0, 22.0, 8.0,...  \n",
       "is_correct                                                                  [0.0, 1.0]  \n",
       "row_id                               [0, 1, 2, 3, 4, 5, 6, 7, 8, 9, 10, 11, 12, 13,...  "
      ]
     },
     "execution_count": 7,
     "metadata": {},
     "output_type": "execute_result"
    }
   ],
   "source": [
    "# train\n",
    "\n",
    "df_summarier(df)\n"
   ]
  },
  {
   "cell_type": "code",
   "execution_count": 8,
   "id": "1ffbb643-4d68-4f52-9a73-ae3984f340ff",
   "metadata": {},
   "outputs": [
    {
     "data": {
      "text/html": [
       "<div>\n",
       "<style scoped>\n",
       "    .dataframe tbody tr th:only-of-type {\n",
       "        vertical-align: middle;\n",
       "    }\n",
       "\n",
       "    .dataframe tbody tr th {\n",
       "        vertical-align: top;\n",
       "    }\n",
       "\n",
       "    .dataframe thead th {\n",
       "        text-align: right;\n",
       "    }\n",
       "</style>\n",
       "<table border=\"1\" class=\"dataframe\">\n",
       "  <thead>\n",
       "    <tr style=\"text-align: right;\">\n",
       "      <th></th>\n",
       "      <th>has nan?</th>\n",
       "      <th>num of unique values</th>\n",
       "      <th>list of unique values</th>\n",
       "    </tr>\n",
       "  </thead>\n",
       "  <tbody>\n",
       "    <tr>\n",
       "      <th>user_id</th>\n",
       "      <td>False</td>\n",
       "      <td>7000</td>\n",
       "      <td>[2348875, 2766044, 3604867, 4061807, 5713467, ...</td>\n",
       "    </tr>\n",
       "    <tr>\n",
       "      <th>session_id</th>\n",
       "      <td>False</td>\n",
       "      <td>7000</td>\n",
       "      <td>[3206055652, 2972889287, 8630265714, 731591200...</td>\n",
       "    </tr>\n",
       "    <tr>\n",
       "      <th>session_no</th>\n",
       "      <td>False</td>\n",
       "      <td>116</td>\n",
       "      <td>[2.0, 11.0, 4.0, 10.0, 3.0, 9.0, 1.0, 16.0, 6....</td>\n",
       "    </tr>\n",
       "    <tr>\n",
       "      <th>topic</th>\n",
       "      <td>False</td>\n",
       "      <td>1132</td>\n",
       "      <td>[1064573894, 1737274108, 2624511878, 147927464...</td>\n",
       "    </tr>\n",
       "    <tr>\n",
       "      <th>sub_topic</th>\n",
       "      <td>False</td>\n",
       "      <td>1229</td>\n",
       "      <td>[6164056362, 6197171301, 5665086549, 277442736...</td>\n",
       "    </tr>\n",
       "    <tr>\n",
       "      <th>learning_node</th>\n",
       "      <td>False</td>\n",
       "      <td>3591</td>\n",
       "      <td>[1683819444, 8772005155, 1064446677, 746987330...</td>\n",
       "    </tr>\n",
       "    <tr>\n",
       "      <th>question_id</th>\n",
       "      <td>False</td>\n",
       "      <td>4829</td>\n",
       "      <td>[2226271822, 8350981375, 7911407965, 236807865...</td>\n",
       "    </tr>\n",
       "    <tr>\n",
       "      <th>question_type</th>\n",
       "      <td>False</td>\n",
       "      <td>2</td>\n",
       "      <td>[Single choice, Multi choice]</td>\n",
       "    </tr>\n",
       "    <tr>\n",
       "      <th>session_question_no</th>\n",
       "      <td>False</td>\n",
       "      <td>27</td>\n",
       "      <td>[2, 6, 8, 7, 9, 1, 4, 12, 10, 14, 5, 3, 15, 18...</td>\n",
       "    </tr>\n",
       "    <tr>\n",
       "      <th>learning_node_question_no</th>\n",
       "      <td>False</td>\n",
       "      <td>9</td>\n",
       "      <td>[2, 1, 3, 7, 6, 4, 33, 13, 12]</td>\n",
       "    </tr>\n",
       "    <tr>\n",
       "      <th>question_difficulty</th>\n",
       "      <td>False</td>\n",
       "      <td>5</td>\n",
       "      <td>[medium, other, easy, hots, hard]</td>\n",
       "    </tr>\n",
       "    <tr>\n",
       "      <th>question_number_of_choice</th>\n",
       "      <td>False</td>\n",
       "      <td>4</td>\n",
       "      <td>[4, 3, 5, 2]</td>\n",
       "    </tr>\n",
       "    <tr>\n",
       "      <th>question_number_of_correct_choice</th>\n",
       "      <td>False</td>\n",
       "      <td>1</td>\n",
       "      <td>[1]</td>\n",
       "    </tr>\n",
       "    <tr>\n",
       "      <th>row_id</th>\n",
       "      <td>False</td>\n",
       "      <td>7000</td>\n",
       "      <td>[0, 1, 2, 3, 4, 5, 6, 7, 8, 9, 10, 11, 12, 13,...</td>\n",
       "    </tr>\n",
       "  </tbody>\n",
       "</table>\n",
       "</div>"
      ],
      "text/plain": [
       "                                   has nan?  num of unique values  \\\n",
       "user_id                               False                  7000   \n",
       "session_id                            False                  7000   \n",
       "session_no                            False                   116   \n",
       "topic                                 False                  1132   \n",
       "sub_topic                             False                  1229   \n",
       "learning_node                         False                  3591   \n",
       "question_id                           False                  4829   \n",
       "question_type                         False                     2   \n",
       "session_question_no                   False                    27   \n",
       "learning_node_question_no             False                     9   \n",
       "question_difficulty                   False                     5   \n",
       "question_number_of_choice             False                     4   \n",
       "question_number_of_correct_choice     False                     1   \n",
       "row_id                                False                  7000   \n",
       "\n",
       "                                                               list of unique values  \n",
       "user_id                            [2348875, 2766044, 3604867, 4061807, 5713467, ...  \n",
       "session_id                         [3206055652, 2972889287, 8630265714, 731591200...  \n",
       "session_no                         [2.0, 11.0, 4.0, 10.0, 3.0, 9.0, 1.0, 16.0, 6....  \n",
       "topic                              [1064573894, 1737274108, 2624511878, 147927464...  \n",
       "sub_topic                          [6164056362, 6197171301, 5665086549, 277442736...  \n",
       "learning_node                      [1683819444, 8772005155, 1064446677, 746987330...  \n",
       "question_id                        [2226271822, 8350981375, 7911407965, 236807865...  \n",
       "question_type                                          [Single choice, Multi choice]  \n",
       "session_question_no                [2, 6, 8, 7, 9, 1, 4, 12, 10, 14, 5, 3, 15, 18...  \n",
       "learning_node_question_no                             [2, 1, 3, 7, 6, 4, 33, 13, 12]  \n",
       "question_difficulty                                [medium, other, easy, hots, hard]  \n",
       "question_number_of_choice                                               [4, 3, 5, 2]  \n",
       "question_number_of_correct_choice                                                [1]  \n",
       "row_id                             [0, 1, 2, 3, 4, 5, 6, 7, 8, 9, 10, 11, 12, 13,...  "
      ]
     },
     "execution_count": 8,
     "metadata": {},
     "output_type": "execute_result"
    }
   ],
   "source": [
    "# test\n",
    "\n",
    "df_summarier(testdf)\n"
   ]
  },
  {
   "cell_type": "markdown",
   "id": "5a3ed696-4d6a-440a-9e7e-01b771c692d4",
   "metadata": {},
   "source": [
    "There are many categorical columns.\n",
    "\n",
    "- High cardinality includes: session_id, topic, sub_topic, learning_node, question_id\n",
    "- Low cardinality includes: question_type, question_difficulty, question_number_of_choice"
   ]
  },
  {
   "cell_type": "code",
   "execution_count": 9,
   "id": "c1884aed-39e6-41d3-948f-f2821a528411",
   "metadata": {},
   "outputs": [
    {
     "data": {
      "text/plain": [
       "{'is_correct',\n",
       " 'ms_first_response',\n",
       " 'question_number_of_correct_selected',\n",
       " 'question_number_of_wrong_selected'}"
      ]
     },
     "execution_count": 9,
     "metadata": {},
     "output_type": "execute_result"
    }
   ],
   "source": [
    "# column difference between train and test\n",
    "\n",
    "different_columns = set(df.columns) - set(testdf.columns)\n",
    "different_columns\n"
   ]
  },
  {
   "cell_type": "markdown",
   "id": "48e402bf-f68f-4e79-99d8-c385a46ed621",
   "metadata": {},
   "source": [
    "since `is_correct` is the label, it wont be available on the test set. the same goes with the rest three columns\n",
    "\n",
    "Here I will display the intersection between train df and test df"
   ]
  },
  {
   "cell_type": "code",
   "execution_count": 10,
   "id": "738dd8c5-d780-4f42-921d-6d633e31c4df",
   "metadata": {
    "tags": []
   },
   "outputs": [
    {
     "data": {
      "text/html": [
       "<div>\n",
       "<style scoped>\n",
       "    .dataframe tbody tr th:only-of-type {\n",
       "        vertical-align: middle;\n",
       "    }\n",
       "\n",
       "    .dataframe tbody tr th {\n",
       "        vertical-align: top;\n",
       "    }\n",
       "\n",
       "    .dataframe thead th {\n",
       "        text-align: right;\n",
       "    }\n",
       "</style>\n",
       "<table border=\"1\" class=\"dataframe\">\n",
       "  <thead>\n",
       "    <tr style=\"text-align: right;\">\n",
       "      <th></th>\n",
       "      <th>colname</th>\n",
       "      <th>train_nunique</th>\n",
       "      <th>test_nunique</th>\n",
       "      <th>intersecting_elements</th>\n",
       "      <th>%intersection_test_and_train(jaccard)</th>\n",
       "      <th>%subset_test_in_train</th>\n",
       "    </tr>\n",
       "  </thead>\n",
       "  <tbody>\n",
       "    <tr>\n",
       "      <th>0</th>\n",
       "      <td>user_id</td>\n",
       "      <td>7000</td>\n",
       "      <td>7000</td>\n",
       "      <td>7000</td>\n",
       "      <td>1.000000</td>\n",
       "      <td>1.000000</td>\n",
       "    </tr>\n",
       "    <tr>\n",
       "      <th>1</th>\n",
       "      <td>session_id</td>\n",
       "      <td>47222</td>\n",
       "      <td>7000</td>\n",
       "      <td>6377</td>\n",
       "      <td>0.133285</td>\n",
       "      <td>0.911000</td>\n",
       "    </tr>\n",
       "    <tr>\n",
       "      <th>2</th>\n",
       "      <td>topic</td>\n",
       "      <td>1639</td>\n",
       "      <td>1132</td>\n",
       "      <td>1127</td>\n",
       "      <td>0.685523</td>\n",
       "      <td>0.995583</td>\n",
       "    </tr>\n",
       "    <tr>\n",
       "      <th>3</th>\n",
       "      <td>sub_topic</td>\n",
       "      <td>2265</td>\n",
       "      <td>1229</td>\n",
       "      <td>1225</td>\n",
       "      <td>0.539885</td>\n",
       "      <td>0.996745</td>\n",
       "    </tr>\n",
       "    <tr>\n",
       "      <th>4</th>\n",
       "      <td>learning_node</td>\n",
       "      <td>12093</td>\n",
       "      <td>3591</td>\n",
       "      <td>3517</td>\n",
       "      <td>0.289061</td>\n",
       "      <td>0.979393</td>\n",
       "    </tr>\n",
       "    <tr>\n",
       "      <th>5</th>\n",
       "      <td>question_id</td>\n",
       "      <td>30653</td>\n",
       "      <td>4829</td>\n",
       "      <td>4470</td>\n",
       "      <td>0.144138</td>\n",
       "      <td>0.925657</td>\n",
       "    </tr>\n",
       "    <tr>\n",
       "      <th>6</th>\n",
       "      <td>question_type</td>\n",
       "      <td>2</td>\n",
       "      <td>2</td>\n",
       "      <td>2</td>\n",
       "      <td>1.000000</td>\n",
       "      <td>1.000000</td>\n",
       "    </tr>\n",
       "    <tr>\n",
       "      <th>7</th>\n",
       "      <td>question_difficulty</td>\n",
       "      <td>5</td>\n",
       "      <td>5</td>\n",
       "      <td>5</td>\n",
       "      <td>1.000000</td>\n",
       "      <td>1.000000</td>\n",
       "    </tr>\n",
       "    <tr>\n",
       "      <th>8</th>\n",
       "      <td>question_number_of_choice</td>\n",
       "      <td>5</td>\n",
       "      <td>4</td>\n",
       "      <td>4</td>\n",
       "      <td>0.800000</td>\n",
       "      <td>1.000000</td>\n",
       "    </tr>\n",
       "    <tr>\n",
       "      <th>9</th>\n",
       "      <td>question_number_of_correct_choice</td>\n",
       "      <td>1</td>\n",
       "      <td>1</td>\n",
       "      <td>1</td>\n",
       "      <td>1.000000</td>\n",
       "      <td>1.000000</td>\n",
       "    </tr>\n",
       "  </tbody>\n",
       "</table>\n",
       "</div>"
      ],
      "text/plain": [
       "                             colname  train_nunique  test_nunique  \\\n",
       "0                            user_id           7000          7000   \n",
       "1                         session_id          47222          7000   \n",
       "2                              topic           1639          1132   \n",
       "3                          sub_topic           2265          1229   \n",
       "4                      learning_node          12093          3591   \n",
       "5                        question_id          30653          4829   \n",
       "6                      question_type              2             2   \n",
       "7                question_difficulty              5             5   \n",
       "8          question_number_of_choice              5             4   \n",
       "9  question_number_of_correct_choice              1             1   \n",
       "\n",
       "   intersecting_elements  %intersection_test_and_train(jaccard)  \\\n",
       "0                   7000                               1.000000   \n",
       "1                   6377                               0.133285   \n",
       "2                   1127                               0.685523   \n",
       "3                   1225                               0.539885   \n",
       "4                   3517                               0.289061   \n",
       "5                   4470                               0.144138   \n",
       "6                      2                               1.000000   \n",
       "7                      5                               1.000000   \n",
       "8                      4                               0.800000   \n",
       "9                      1                               1.000000   \n",
       "\n",
       "   %subset_test_in_train  \n",
       "0               1.000000  \n",
       "1               0.911000  \n",
       "2               0.995583  \n",
       "3               0.996745  \n",
       "4               0.979393  \n",
       "5               0.925657  \n",
       "6               1.000000  \n",
       "7               1.000000  \n",
       "8               1.000000  \n",
       "9               1.000000  "
      ]
     },
     "execution_count": 10,
     "metadata": {},
     "output_type": "execute_result"
    }
   ],
   "source": [
    "def inter(list1, list2):\n",
    "    set1 = set(list1)\n",
    "    set2 = set(list2)\n",
    "\n",
    "    intersection = len(set1 & set2)\n",
    "    return intersection\n",
    "\n",
    "\n",
    "def jaccard_similarity(list1, list2):\n",
    "    set1 = set(list1)\n",
    "    set2 = set(list2)\n",
    "\n",
    "    intersection = len(set1 & set2)\n",
    "    union = len(set1 | set2)\n",
    "    return float(intersection) / union\n",
    "\n",
    "\n",
    "def per_subset(list1, list2):\n",
    "    set1 = set(list1)\n",
    "    set2 = set(list2)\n",
    "\n",
    "    intersection = len(set1 & set2)\n",
    "\n",
    "    return intersection / len(set2)\n",
    "\n",
    "\n",
    "# summarize the intersection between train and test dataset\n",
    "\n",
    "\n",
    "intersectiondf = pd.DataFrame(\n",
    "    [\n",
    "        {\n",
    "            \"colname\": col,\n",
    "            \"train_nunique\": len(set(df[col])),\n",
    "            \"test_nunique\": len(set(testdf[col])),\n",
    "            \"intersecting_elements\": inter(df[col], testdf[col]),\n",
    "            \"%intersection_test_and_train(jaccard)\": jaccard_similarity(\n",
    "                df[col], testdf[col]\n",
    "            ),\n",
    "            \"%subset_test_in_train\": per_subset(df[col], testdf[col]),\n",
    "        }\n",
    "        for col in testdf.columns\n",
    "        if col not in [\"row_id\"] and not col.endswith(\"no\")\n",
    "    ]\n",
    ")\n",
    "intersectiondf\n"
   ]
  },
  {
   "cell_type": "markdown",
   "id": "9a8ed7cf-d8b4-44f1-9ece-4c23bf238b4f",
   "metadata": {},
   "source": [
    "here we are interested in the intersection between the two datasets:\n",
    "\n",
    "- user_id is 100% same between training and testing. Modelling the users could be very important, especially for personalization\n",
    "- test dataset has lot of similarity with the training dataset, given 90% of test elements contained in the training dataset\n",
    "- `question_number_of_correct_choice` has only 1 value and would be discarded"
   ]
  },
  {
   "cell_type": "markdown",
   "id": "5893e533-89b6-4933-bc77-fc59f00219c5",
   "metadata": {},
   "source": [
    "## Aggregated summary on training data"
   ]
  },
  {
   "cell_type": "code",
   "execution_count": 11,
   "id": "02fc87ad-abbb-4887-aa44-51498df8f67a",
   "metadata": {},
   "outputs": [
    {
     "data": {
      "text/html": [
       "<div>\n",
       "<style scoped>\n",
       "    .dataframe tbody tr th:only-of-type {\n",
       "        vertical-align: middle;\n",
       "    }\n",
       "\n",
       "    .dataframe tbody tr th {\n",
       "        vertical-align: top;\n",
       "    }\n",
       "\n",
       "    .dataframe thead th {\n",
       "        text-align: right;\n",
       "    }\n",
       "</style>\n",
       "<table border=\"1\" class=\"dataframe\">\n",
       "  <thead>\n",
       "    <tr style=\"text-align: right;\">\n",
       "      <th></th>\n",
       "      <th>Mean</th>\n",
       "      <th>correct</th>\n",
       "      <th>total</th>\n",
       "    </tr>\n",
       "    <tr>\n",
       "      <th>question_number_of_choice</th>\n",
       "      <th></th>\n",
       "      <th></th>\n",
       "      <th></th>\n",
       "    </tr>\n",
       "  </thead>\n",
       "  <tbody>\n",
       "    <tr>\n",
       "      <th>2</th>\n",
       "      <td>0.814815</td>\n",
       "      <td>66.0</td>\n",
       "      <td>81</td>\n",
       "    </tr>\n",
       "    <tr>\n",
       "      <th>3</th>\n",
       "      <td>0.799153</td>\n",
       "      <td>55307.0</td>\n",
       "      <td>69207</td>\n",
       "    </tr>\n",
       "    <tr>\n",
       "      <th>4</th>\n",
       "      <td>0.625896</td>\n",
       "      <td>97912.0</td>\n",
       "      <td>156435</td>\n",
       "    </tr>\n",
       "    <tr>\n",
       "      <th>5</th>\n",
       "      <td>0.515705</td>\n",
       "      <td>31540.0</td>\n",
       "      <td>61159</td>\n",
       "    </tr>\n",
       "    <tr>\n",
       "      <th>6</th>\n",
       "      <td>1.000000</td>\n",
       "      <td>4.0</td>\n",
       "      <td>4</td>\n",
       "    </tr>\n",
       "  </tbody>\n",
       "</table>\n",
       "</div>"
      ],
      "text/plain": [
       "                               Mean  correct   total\n",
       "question_number_of_choice                           \n",
       "2                          0.814815     66.0      81\n",
       "3                          0.799153  55307.0   69207\n",
       "4                          0.625896  97912.0  156435\n",
       "5                          0.515705  31540.0   61159\n",
       "6                          1.000000      4.0       4"
      ]
     },
     "execution_count": 11,
     "metadata": {},
     "output_type": "execute_result"
    }
   ],
   "source": [
    "df.groupby(\"question_number_of_choice\").agg(\n",
    "    Mean=(\"is_correct\", np.mean),\n",
    "    correct=(\"is_correct\", np.sum),\n",
    "    total=(\"is_correct\", len),\n",
    ")\n"
   ]
  },
  {
   "cell_type": "markdown",
   "id": "40c1b40c-95f9-4765-8886-a8344d883a73",
   "metadata": {},
   "source": [
    "users perform better on question with the lesser number of choice, except for 6 which is only 4 rows in the training dataset"
   ]
  },
  {
   "cell_type": "code",
   "execution_count": 12,
   "id": "4bdae94e-755e-49ce-98eb-516e78f8ab25",
   "metadata": {},
   "outputs": [
    {
     "data": {
      "text/html": [
       "<div>\n",
       "<style scoped>\n",
       "    .dataframe tbody tr th:only-of-type {\n",
       "        vertical-align: middle;\n",
       "    }\n",
       "\n",
       "    .dataframe tbody tr th {\n",
       "        vertical-align: top;\n",
       "    }\n",
       "\n",
       "    .dataframe thead th {\n",
       "        text-align: right;\n",
       "    }\n",
       "</style>\n",
       "<table border=\"1\" class=\"dataframe\">\n",
       "  <thead>\n",
       "    <tr style=\"text-align: right;\">\n",
       "      <th></th>\n",
       "      <th>Mean</th>\n",
       "      <th>correct</th>\n",
       "      <th>total</th>\n",
       "    </tr>\n",
       "    <tr>\n",
       "      <th>question_type</th>\n",
       "      <th></th>\n",
       "      <th></th>\n",
       "      <th></th>\n",
       "    </tr>\n",
       "  </thead>\n",
       "  <tbody>\n",
       "    <tr>\n",
       "      <th>Multi choice</th>\n",
       "      <td>0.479592</td>\n",
       "      <td>141.0</td>\n",
       "      <td>294</td>\n",
       "    </tr>\n",
       "    <tr>\n",
       "      <th>Single choice</th>\n",
       "      <td>0.644428</td>\n",
       "      <td>184688.0</td>\n",
       "      <td>286592</td>\n",
       "    </tr>\n",
       "  </tbody>\n",
       "</table>\n",
       "</div>"
      ],
      "text/plain": [
       "                   Mean   correct   total\n",
       "question_type                            \n",
       "Multi choice   0.479592     141.0     294\n",
       "Single choice  0.644428  184688.0  286592"
      ]
     },
     "execution_count": 12,
     "metadata": {},
     "output_type": "execute_result"
    }
   ],
   "source": [
    "df.fillna(\"other\").groupby(\"question_type\").agg(\n",
    "    Mean=(\"is_correct\", np.mean),\n",
    "    correct=(\"is_correct\", np.sum),\n",
    "    total=(\"is_correct\", len),\n",
    ")\n"
   ]
  },
  {
   "cell_type": "markdown",
   "id": "6a81f511-8742-4eb3-a7b8-9a4e53af3f8a",
   "metadata": {},
   "source": [
    "users perform better on single choice questions than on multi choice. but the existence of multi choice questions are rare"
   ]
  },
  {
   "cell_type": "code",
   "execution_count": 69,
   "id": "c785c9a9-5fc3-4e66-9a2c-a58975b65eae",
   "metadata": {},
   "outputs": [
    {
     "data": {
      "text/html": [
       "<div>\n",
       "<style scoped>\n",
       "    .dataframe tbody tr th:only-of-type {\n",
       "        vertical-align: middle;\n",
       "    }\n",
       "\n",
       "    .dataframe tbody tr th {\n",
       "        vertical-align: top;\n",
       "    }\n",
       "\n",
       "    .dataframe thead th {\n",
       "        text-align: right;\n",
       "    }\n",
       "</style>\n",
       "<table border=\"1\" class=\"dataframe\">\n",
       "  <thead>\n",
       "    <tr style=\"text-align: right;\">\n",
       "      <th></th>\n",
       "      <th>mean</th>\n",
       "      <th>correct</th>\n",
       "      <th>total</th>\n",
       "    </tr>\n",
       "    <tr>\n",
       "      <th>question_difficulty</th>\n",
       "      <th></th>\n",
       "      <th></th>\n",
       "      <th></th>\n",
       "    </tr>\n",
       "  </thead>\n",
       "  <tbody>\n",
       "    <tr>\n",
       "      <th>easy</th>\n",
       "      <td>0.682595</td>\n",
       "      <td>3314.0</td>\n",
       "      <td>4855</td>\n",
       "    </tr>\n",
       "    <tr>\n",
       "      <th>hard</th>\n",
       "      <td>0.548100</td>\n",
       "      <td>678.0</td>\n",
       "      <td>1237</td>\n",
       "    </tr>\n",
       "    <tr>\n",
       "      <th>hots</th>\n",
       "      <td>0.554852</td>\n",
       "      <td>263.0</td>\n",
       "      <td>474</td>\n",
       "    </tr>\n",
       "    <tr>\n",
       "      <th>medium</th>\n",
       "      <td>0.533157</td>\n",
       "      <td>60677.0</td>\n",
       "      <td>113807</td>\n",
       "    </tr>\n",
       "    <tr>\n",
       "      <th>other</th>\n",
       "      <td>0.720046</td>\n",
       "      <td>119897.0</td>\n",
       "      <td>166513</td>\n",
       "    </tr>\n",
       "  </tbody>\n",
       "</table>\n",
       "</div>"
      ],
      "text/plain": [
       "                         mean   correct   total\n",
       "question_difficulty                            \n",
       "easy                 0.682595    3314.0    4855\n",
       "hard                 0.548100     678.0    1237\n",
       "hots                 0.554852     263.0     474\n",
       "medium               0.533157   60677.0  113807\n",
       "other                0.720046  119897.0  166513"
      ]
     },
     "execution_count": 69,
     "metadata": {},
     "output_type": "execute_result"
    }
   ],
   "source": [
    "df.fillna(\"other\").groupby(\"question_difficulty\").agg(\n",
    "    mean=(\"is_correct\", np.mean),\n",
    "    correct=(\"is_correct\", np.sum),\n",
    "    total=(\"is_correct\", len),\n",
    ")\n"
   ]
  },
  {
   "cell_type": "markdown",
   "id": "cf214fe3-c39c-4427-93c6-1d182eb7889d",
   "metadata": {},
   "source": [
    "- interestingly users perform better in this order of difficulty: `other > easy > hots > hard > medium`, rather than `hard > medium > easy`\n",
    "- users had more success with`other` than `easy`, while `medium` is the hardest of them all compared to `hard` and `hots`\n",
    "- `medium` and `other` has many samples. `easy, hard, and hots` has less than 5000 rows"
   ]
  },
  {
   "cell_type": "markdown",
   "id": "702fca6d-92fe-4b38-ad61-e1198e259e36",
   "metadata": {},
   "source": [
    "## Was the testing data split chronologically?\n",
    "\n",
    "Is testing data happen strictly after training data?"
   ]
  },
  {
   "cell_type": "code",
   "execution_count": 14,
   "id": "2263b400-a742-4efd-9345-0ffc411913a5",
   "metadata": {},
   "outputs": [
    {
     "data": {
      "text/html": [
       "<div>\n",
       "<style scoped>\n",
       "    .dataframe tbody tr th:only-of-type {\n",
       "        vertical-align: middle;\n",
       "    }\n",
       "\n",
       "    .dataframe tbody tr th {\n",
       "        vertical-align: top;\n",
       "    }\n",
       "\n",
       "    .dataframe thead th {\n",
       "        text-align: right;\n",
       "    }\n",
       "</style>\n",
       "<table border=\"1\" class=\"dataframe\">\n",
       "  <thead>\n",
       "    <tr style=\"text-align: right;\">\n",
       "      <th></th>\n",
       "      <th>user_id</th>\n",
       "      <th>session_id</th>\n",
       "      <th>session_no</th>\n",
       "      <th>topic</th>\n",
       "      <th>sub_topic</th>\n",
       "      <th>learning_node</th>\n",
       "      <th>question_id</th>\n",
       "      <th>question_type</th>\n",
       "      <th>session_question_no</th>\n",
       "      <th>learning_node_question_no</th>\n",
       "      <th>question_difficulty</th>\n",
       "      <th>question_number_of_choice</th>\n",
       "      <th>question_number_of_correct_choice</th>\n",
       "      <th>row_id</th>\n",
       "    </tr>\n",
       "  </thead>\n",
       "  <tbody>\n",
       "    <tr>\n",
       "      <th>6</th>\n",
       "      <td>8411515</td>\n",
       "      <td>2944192518</td>\n",
       "      <td>1.0</td>\n",
       "      <td>9497051691</td>\n",
       "      <td>2169408725</td>\n",
       "      <td>4507088908</td>\n",
       "      <td>7137101883</td>\n",
       "      <td>Single choice</td>\n",
       "      <td>4</td>\n",
       "      <td>1</td>\n",
       "      <td>medium</td>\n",
       "      <td>4</td>\n",
       "      <td>1</td>\n",
       "      <td>6</td>\n",
       "    </tr>\n",
       "    <tr>\n",
       "      <th>8</th>\n",
       "      <td>10434119</td>\n",
       "      <td>1948335987</td>\n",
       "      <td>1.0</td>\n",
       "      <td>836785970</td>\n",
       "      <td>3125507700</td>\n",
       "      <td>1399112274</td>\n",
       "      <td>9707454783</td>\n",
       "      <td>Single choice</td>\n",
       "      <td>6</td>\n",
       "      <td>3</td>\n",
       "      <td>medium</td>\n",
       "      <td>4</td>\n",
       "      <td>1</td>\n",
       "      <td>8</td>\n",
       "    </tr>\n",
       "    <tr>\n",
       "      <th>9</th>\n",
       "      <td>11855819</td>\n",
       "      <td>4479660934</td>\n",
       "      <td>1.0</td>\n",
       "      <td>8346451289</td>\n",
       "      <td>3142361831</td>\n",
       "      <td>5939885926</td>\n",
       "      <td>5030807848</td>\n",
       "      <td>Single choice</td>\n",
       "      <td>6</td>\n",
       "      <td>3</td>\n",
       "      <td>medium</td>\n",
       "      <td>4</td>\n",
       "      <td>1</td>\n",
       "      <td>9</td>\n",
       "    </tr>\n",
       "    <tr>\n",
       "      <th>11</th>\n",
       "      <td>14706019</td>\n",
       "      <td>7389186610</td>\n",
       "      <td>1.0</td>\n",
       "      <td>6089180138</td>\n",
       "      <td>5665086549</td>\n",
       "      <td>4134891942</td>\n",
       "      <td>7787387786</td>\n",
       "      <td>Single choice</td>\n",
       "      <td>4</td>\n",
       "      <td>2</td>\n",
       "      <td>other</td>\n",
       "      <td>4</td>\n",
       "      <td>1</td>\n",
       "      <td>11</td>\n",
       "    </tr>\n",
       "    <tr>\n",
       "      <th>12</th>\n",
       "      <td>17368199</td>\n",
       "      <td>4642112795</td>\n",
       "      <td>1.0</td>\n",
       "      <td>3214173988</td>\n",
       "      <td>272680675</td>\n",
       "      <td>921703945</td>\n",
       "      <td>4040758340</td>\n",
       "      <td>Single choice</td>\n",
       "      <td>10</td>\n",
       "      <td>2</td>\n",
       "      <td>medium</td>\n",
       "      <td>3</td>\n",
       "      <td>1</td>\n",
       "      <td>12</td>\n",
       "    </tr>\n",
       "  </tbody>\n",
       "</table>\n",
       "</div>"
      ],
      "text/plain": [
       "     user_id  session_id  session_no       topic   sub_topic  learning_node  \\\n",
       "6    8411515  2944192518         1.0  9497051691  2169408725     4507088908   \n",
       "8   10434119  1948335987         1.0   836785970  3125507700     1399112274   \n",
       "9   11855819  4479660934         1.0  8346451289  3142361831     5939885926   \n",
       "11  14706019  7389186610         1.0  6089180138  5665086549     4134891942   \n",
       "12  17368199  4642112795         1.0  3214173988   272680675      921703945   \n",
       "\n",
       "    question_id  question_type  session_question_no  \\\n",
       "6    7137101883  Single choice                    4   \n",
       "8    9707454783  Single choice                    6   \n",
       "9    5030807848  Single choice                    6   \n",
       "11   7787387786  Single choice                    4   \n",
       "12   4040758340  Single choice                   10   \n",
       "\n",
       "    learning_node_question_no question_difficulty  question_number_of_choice  \\\n",
       "6                           1              medium                          4   \n",
       "8                           3              medium                          4   \n",
       "9                           3              medium                          4   \n",
       "11                          2               other                          4   \n",
       "12                          2              medium                          3   \n",
       "\n",
       "    question_number_of_correct_choice  row_id  \n",
       "6                                   1       6  \n",
       "8                                   1       8  \n",
       "9                                   1       9  \n",
       "11                                  1      11  \n",
       "12                                  1      12  "
      ]
     },
     "execution_count": 14,
     "metadata": {},
     "output_type": "execute_result"
    }
   ],
   "source": [
    "testdf[testdf.session_no == 1].head()\n"
   ]
  },
  {
   "cell_type": "code",
   "execution_count": 15,
   "id": "05fb7c30-f82c-4445-b7a9-99bdb994f28b",
   "metadata": {},
   "outputs": [],
   "source": [
    "sett = set(testdf[testdf.session_no == 1].user_id)\n"
   ]
  },
  {
   "cell_type": "code",
   "execution_count": 16,
   "id": "f9aa0bec-cead-4bbd-b636-6abd30687c8f",
   "metadata": {},
   "outputs": [
    {
     "data": {
      "text/html": [
       "<div>\n",
       "<style scoped>\n",
       "    .dataframe tbody tr th:only-of-type {\n",
       "        vertical-align: middle;\n",
       "    }\n",
       "\n",
       "    .dataframe tbody tr th {\n",
       "        vertical-align: top;\n",
       "    }\n",
       "\n",
       "    .dataframe thead th {\n",
       "        text-align: right;\n",
       "    }\n",
       "</style>\n",
       "<table border=\"1\" class=\"dataframe\">\n",
       "  <thead>\n",
       "    <tr style=\"text-align: right;\">\n",
       "      <th></th>\n",
       "      <th>user_id</th>\n",
       "      <th>session_id</th>\n",
       "      <th>session_no</th>\n",
       "      <th>topic</th>\n",
       "      <th>sub_topic</th>\n",
       "      <th>learning_node</th>\n",
       "      <th>question_id</th>\n",
       "      <th>question_type</th>\n",
       "      <th>session_question_no</th>\n",
       "      <th>learning_node_question_no</th>\n",
       "      <th>question_difficulty</th>\n",
       "      <th>question_number_of_choice</th>\n",
       "      <th>question_number_of_correct_choice</th>\n",
       "      <th>question_number_of_correct_selected</th>\n",
       "      <th>question_number_of_wrong_selected</th>\n",
       "      <th>ms_first_response</th>\n",
       "      <th>is_correct</th>\n",
       "      <th>row_id</th>\n",
       "    </tr>\n",
       "  </thead>\n",
       "  <tbody>\n",
       "    <tr>\n",
       "      <th>247</th>\n",
       "      <td>8411515</td>\n",
       "      <td>2944192518</td>\n",
       "      <td>1.0</td>\n",
       "      <td>9497051691</td>\n",
       "      <td>1469843971</td>\n",
       "      <td>5136679131</td>\n",
       "      <td>3227503528</td>\n",
       "      <td>Single choice</td>\n",
       "      <td>1</td>\n",
       "      <td>1</td>\n",
       "      <td>medium</td>\n",
       "      <td>4</td>\n",
       "      <td>1</td>\n",
       "      <td>1</td>\n",
       "      <td>0</td>\n",
       "      <td>25.0</td>\n",
       "      <td>1.0</td>\n",
       "      <td>247</td>\n",
       "    </tr>\n",
       "    <tr>\n",
       "      <th>248</th>\n",
       "      <td>8411515</td>\n",
       "      <td>2944192518</td>\n",
       "      <td>1.0</td>\n",
       "      <td>9497051691</td>\n",
       "      <td>1469843971</td>\n",
       "      <td>5136679131</td>\n",
       "      <td>9483284731</td>\n",
       "      <td>Single choice</td>\n",
       "      <td>2</td>\n",
       "      <td>2</td>\n",
       "      <td>medium</td>\n",
       "      <td>4</td>\n",
       "      <td>1</td>\n",
       "      <td>0</td>\n",
       "      <td>1</td>\n",
       "      <td>34.0</td>\n",
       "      <td>0.0</td>\n",
       "      <td>248</td>\n",
       "    </tr>\n",
       "    <tr>\n",
       "      <th>249</th>\n",
       "      <td>8411515</td>\n",
       "      <td>2944192518</td>\n",
       "      <td>1.0</td>\n",
       "      <td>9497051691</td>\n",
       "      <td>1469843971</td>\n",
       "      <td>5136679131</td>\n",
       "      <td>2539781090</td>\n",
       "      <td>Single choice</td>\n",
       "      <td>3</td>\n",
       "      <td>3</td>\n",
       "      <td>medium</td>\n",
       "      <td>4</td>\n",
       "      <td>1</td>\n",
       "      <td>0</td>\n",
       "      <td>1</td>\n",
       "      <td>20.0</td>\n",
       "      <td>0.0</td>\n",
       "      <td>249</td>\n",
       "    </tr>\n",
       "    <tr>\n",
       "      <th>415</th>\n",
       "      <td>10434119</td>\n",
       "      <td>1948335987</td>\n",
       "      <td>1.0</td>\n",
       "      <td>836785970</td>\n",
       "      <td>3125507700</td>\n",
       "      <td>8654954538</td>\n",
       "      <td>9857897229</td>\n",
       "      <td>Single choice</td>\n",
       "      <td>1</td>\n",
       "      <td>1</td>\n",
       "      <td>medium</td>\n",
       "      <td>4</td>\n",
       "      <td>1</td>\n",
       "      <td>1</td>\n",
       "      <td>0</td>\n",
       "      <td>59.0</td>\n",
       "      <td>1.0</td>\n",
       "      <td>415</td>\n",
       "    </tr>\n",
       "    <tr>\n",
       "      <th>416</th>\n",
       "      <td>10434119</td>\n",
       "      <td>1948335987</td>\n",
       "      <td>1.0</td>\n",
       "      <td>836785970</td>\n",
       "      <td>3125507700</td>\n",
       "      <td>8654954538</td>\n",
       "      <td>787959041</td>\n",
       "      <td>Multi choice</td>\n",
       "      <td>2</td>\n",
       "      <td>2</td>\n",
       "      <td>medium</td>\n",
       "      <td>4</td>\n",
       "      <td>1</td>\n",
       "      <td>0</td>\n",
       "      <td>1</td>\n",
       "      <td>56.0</td>\n",
       "      <td>0.0</td>\n",
       "      <td>416</td>\n",
       "    </tr>\n",
       "    <tr>\n",
       "      <th>...</th>\n",
       "      <td>...</td>\n",
       "      <td>...</td>\n",
       "      <td>...</td>\n",
       "      <td>...</td>\n",
       "      <td>...</td>\n",
       "      <td>...</td>\n",
       "      <td>...</td>\n",
       "      <td>...</td>\n",
       "      <td>...</td>\n",
       "      <td>...</td>\n",
       "      <td>...</td>\n",
       "      <td>...</td>\n",
       "      <td>...</td>\n",
       "      <td>...</td>\n",
       "      <td>...</td>\n",
       "      <td>...</td>\n",
       "      <td>...</td>\n",
       "      <td>...</td>\n",
       "    </tr>\n",
       "    <tr>\n",
       "      <th>286556</th>\n",
       "      <td>9986414625</td>\n",
       "      <td>4689780633</td>\n",
       "      <td>1.0</td>\n",
       "      <td>9922825353</td>\n",
       "      <td>1678010373</td>\n",
       "      <td>1545161003</td>\n",
       "      <td>2648738180</td>\n",
       "      <td>Single choice</td>\n",
       "      <td>1</td>\n",
       "      <td>1</td>\n",
       "      <td>medium</td>\n",
       "      <td>4</td>\n",
       "      <td>1</td>\n",
       "      <td>1</td>\n",
       "      <td>0</td>\n",
       "      <td>141.0</td>\n",
       "      <td>1.0</td>\n",
       "      <td>286556</td>\n",
       "    </tr>\n",
       "    <tr>\n",
       "      <th>286557</th>\n",
       "      <td>9986414625</td>\n",
       "      <td>4689780633</td>\n",
       "      <td>1.0</td>\n",
       "      <td>9922825353</td>\n",
       "      <td>3624053133</td>\n",
       "      <td>3160370456</td>\n",
       "      <td>2176526969</td>\n",
       "      <td>Single choice</td>\n",
       "      <td>2</td>\n",
       "      <td>1</td>\n",
       "      <td>medium</td>\n",
       "      <td>4</td>\n",
       "      <td>1</td>\n",
       "      <td>1</td>\n",
       "      <td>0</td>\n",
       "      <td>112.0</td>\n",
       "      <td>1.0</td>\n",
       "      <td>286557</td>\n",
       "    </tr>\n",
       "    <tr>\n",
       "      <th>286558</th>\n",
       "      <td>9986414625</td>\n",
       "      <td>4689780633</td>\n",
       "      <td>1.0</td>\n",
       "      <td>9922825353</td>\n",
       "      <td>3624053133</td>\n",
       "      <td>4655369784</td>\n",
       "      <td>9074043238</td>\n",
       "      <td>Single choice</td>\n",
       "      <td>3</td>\n",
       "      <td>1</td>\n",
       "      <td>medium</td>\n",
       "      <td>4</td>\n",
       "      <td>1</td>\n",
       "      <td>1</td>\n",
       "      <td>0</td>\n",
       "      <td>27.0</td>\n",
       "      <td>1.0</td>\n",
       "      <td>286558</td>\n",
       "    </tr>\n",
       "    <tr>\n",
       "      <th>286559</th>\n",
       "      <td>9986414625</td>\n",
       "      <td>4689780633</td>\n",
       "      <td>1.0</td>\n",
       "      <td>9922825353</td>\n",
       "      <td>7631249768</td>\n",
       "      <td>5801494200</td>\n",
       "      <td>956896945</td>\n",
       "      <td>Single choice</td>\n",
       "      <td>4</td>\n",
       "      <td>1</td>\n",
       "      <td>medium</td>\n",
       "      <td>5</td>\n",
       "      <td>1</td>\n",
       "      <td>0</td>\n",
       "      <td>1</td>\n",
       "      <td>225.0</td>\n",
       "      <td>0.0</td>\n",
       "      <td>286559</td>\n",
       "    </tr>\n",
       "    <tr>\n",
       "      <th>286560</th>\n",
       "      <td>9986414625</td>\n",
       "      <td>4689780633</td>\n",
       "      <td>1.0</td>\n",
       "      <td>9922825353</td>\n",
       "      <td>1698816542</td>\n",
       "      <td>5647738212</td>\n",
       "      <td>6425750121</td>\n",
       "      <td>Single choice</td>\n",
       "      <td>5</td>\n",
       "      <td>1</td>\n",
       "      <td>medium</td>\n",
       "      <td>4</td>\n",
       "      <td>1</td>\n",
       "      <td>0</td>\n",
       "      <td>1</td>\n",
       "      <td>73.0</td>\n",
       "      <td>0.0</td>\n",
       "      <td>286560</td>\n",
       "    </tr>\n",
       "  </tbody>\n",
       "</table>\n",
       "<p>14042 rows × 18 columns</p>\n",
       "</div>"
      ],
      "text/plain": [
       "           user_id  session_id  session_no       topic   sub_topic  \\\n",
       "247        8411515  2944192518         1.0  9497051691  1469843971   \n",
       "248        8411515  2944192518         1.0  9497051691  1469843971   \n",
       "249        8411515  2944192518         1.0  9497051691  1469843971   \n",
       "415       10434119  1948335987         1.0   836785970  3125507700   \n",
       "416       10434119  1948335987         1.0   836785970  3125507700   \n",
       "...            ...         ...         ...         ...         ...   \n",
       "286556  9986414625  4689780633         1.0  9922825353  1678010373   \n",
       "286557  9986414625  4689780633         1.0  9922825353  3624053133   \n",
       "286558  9986414625  4689780633         1.0  9922825353  3624053133   \n",
       "286559  9986414625  4689780633         1.0  9922825353  7631249768   \n",
       "286560  9986414625  4689780633         1.0  9922825353  1698816542   \n",
       "\n",
       "        learning_node  question_id  question_type  session_question_no  \\\n",
       "247        5136679131   3227503528  Single choice                    1   \n",
       "248        5136679131   9483284731  Single choice                    2   \n",
       "249        5136679131   2539781090  Single choice                    3   \n",
       "415        8654954538   9857897229  Single choice                    1   \n",
       "416        8654954538    787959041   Multi choice                    2   \n",
       "...               ...          ...            ...                  ...   \n",
       "286556     1545161003   2648738180  Single choice                    1   \n",
       "286557     3160370456   2176526969  Single choice                    2   \n",
       "286558     4655369784   9074043238  Single choice                    3   \n",
       "286559     5801494200    956896945  Single choice                    4   \n",
       "286560     5647738212   6425750121  Single choice                    5   \n",
       "\n",
       "        learning_node_question_no question_difficulty  \\\n",
       "247                             1              medium   \n",
       "248                             2              medium   \n",
       "249                             3              medium   \n",
       "415                             1              medium   \n",
       "416                             2              medium   \n",
       "...                           ...                 ...   \n",
       "286556                          1              medium   \n",
       "286557                          1              medium   \n",
       "286558                          1              medium   \n",
       "286559                          1              medium   \n",
       "286560                          1              medium   \n",
       "\n",
       "        question_number_of_choice  question_number_of_correct_choice  \\\n",
       "247                             4                                  1   \n",
       "248                             4                                  1   \n",
       "249                             4                                  1   \n",
       "415                             4                                  1   \n",
       "416                             4                                  1   \n",
       "...                           ...                                ...   \n",
       "286556                          4                                  1   \n",
       "286557                          4                                  1   \n",
       "286558                          4                                  1   \n",
       "286559                          5                                  1   \n",
       "286560                          4                                  1   \n",
       "\n",
       "        question_number_of_correct_selected  \\\n",
       "247                                       1   \n",
       "248                                       0   \n",
       "249                                       0   \n",
       "415                                       1   \n",
       "416                                       0   \n",
       "...                                     ...   \n",
       "286556                                    1   \n",
       "286557                                    1   \n",
       "286558                                    1   \n",
       "286559                                    0   \n",
       "286560                                    0   \n",
       "\n",
       "        question_number_of_wrong_selected  ms_first_response  is_correct  \\\n",
       "247                                     0               25.0         1.0   \n",
       "248                                     1               34.0         0.0   \n",
       "249                                     1               20.0         0.0   \n",
       "415                                     0               59.0         1.0   \n",
       "416                                     1               56.0         0.0   \n",
       "...                                   ...                ...         ...   \n",
       "286556                                  0              141.0         1.0   \n",
       "286557                                  0              112.0         1.0   \n",
       "286558                                  0               27.0         1.0   \n",
       "286559                                  1              225.0         0.0   \n",
       "286560                                  1               73.0         0.0   \n",
       "\n",
       "        row_id  \n",
       "247        247  \n",
       "248        248  \n",
       "249        249  \n",
       "415        415  \n",
       "416        416  \n",
       "...        ...  \n",
       "286556  286556  \n",
       "286557  286557  \n",
       "286558  286558  \n",
       "286559  286559  \n",
       "286560  286560  \n",
       "\n",
       "[14042 rows x 18 columns]"
      ]
     },
     "execution_count": 16,
     "metadata": {},
     "output_type": "execute_result"
    }
   ],
   "source": [
    "df[df.user_id.isin(sett)]\n"
   ]
  },
  {
   "cell_type": "markdown",
   "id": "784d25be-7941-4857-9351-5256730593fa",
   "metadata": {},
   "source": [
    "Looks like the data are not split in a time-series way, so I will just split the data randomly using train_test_split"
   ]
  },
  {
   "cell_type": "markdown",
   "id": "23f04b29-d573-4d50-af5e-bcf33ed1a08d",
   "metadata": {},
   "source": [
    "# Splitting\n",
    "\n",
    "I split the data into 60:20:20 train:validation:testing"
   ]
  },
  {
   "cell_type": "code",
   "execution_count": 17,
   "id": "bf9ff1b2-f5cc-4a14-8059-b15bfe87e4f7",
   "metadata": {},
   "outputs": [],
   "source": [
    "train, test_and_valid = train_test_split(df, test_size=0.4, random_state=seed)\n",
    "test, valid = train_test_split(test_and_valid, test_size=0.5, random_state=seed)"
   ]
  },
  {
   "cell_type": "markdown",
   "id": "8a793949-30c8-40ba-a38f-620cd225f9e7",
   "metadata": {},
   "source": [
    "# Prediction baseline\n",
    "\n",
    "Di sini kita ingin memprediksi probabilitas suatu soal $s$ berhasil dijawab oleh User $u$.  \n",
    "Secara sederhana, faktor-faktor yang berpengaruh dalam terjawabnya soal oleh user adalah kemampuan user dan kesulitan soal.\n",
    "\n",
    "sebagai baseline, saya akan melakukan prediksi tanpa menggunakan model machine learning, tetapi hanya dengan menggunakan dictionary aggregat sederhana dari topik, subtopik, dan difficulty.  "
   ]
  },
  {
   "cell_type": "code",
   "execution_count": 70,
   "id": "03960f0a-0a55-4f0d-af84-405576dd9fc6",
   "metadata": {},
   "outputs": [
    {
     "data": {
      "text/plain": [
       "Index(['user_id', 'session_id', 'session_no', 'topic', 'sub_topic',\n",
       "       'learning_node', 'question_id', 'question_type', 'session_question_no',\n",
       "       'learning_node_question_no', 'question_difficulty',\n",
       "       'question_number_of_choice', 'question_number_of_correct_choice',\n",
       "       'question_number_of_correct_selected',\n",
       "       'question_number_of_wrong_selected', 'ms_first_response', 'is_correct',\n",
       "       'row_id'],\n",
       "      dtype='object')"
      ]
     },
     "execution_count": 70,
     "metadata": {},
     "output_type": "execute_result"
    }
   ],
   "source": [
    "train.columns\n"
   ]
  },
  {
   "cell_type": "code",
   "execution_count": 71,
   "id": "eb98cd1c-1e34-4b9b-9a59-1215d862764d",
   "metadata": {},
   "outputs": [],
   "source": [
    "dfbaseline = (\n",
    "    train.groupby([\"topic\", \"sub_topic\", \"learning_node\"])\n",
    "    .agg({\"is_correct\": \"mean\", \"question_id\": \"nunique\", \"user_id\": \"nunique\"})\n",
    "    .sort_values(by=[\"user_id\", \"is_correct\"], ascending=False)\n",
    "    .reset_index()\n",
    ")\n"
   ]
  },
  {
   "cell_type": "markdown",
   "id": "b906c626-61cd-482d-bcc8-12a239109a35",
   "metadata": {},
   "source": [
    "## Baseline - training score"
   ]
  },
  {
   "cell_type": "code",
   "execution_count": 104,
   "id": "fe43fc5e-a534-4ba9-8cd9-b263c5dfb882",
   "metadata": {},
   "outputs": [
    {
     "data": {
      "text/plain": [
       "0.7942529199751017"
      ]
     },
     "execution_count": 104,
     "metadata": {},
     "output_type": "execute_result"
    }
   ],
   "source": [
    "train2 = train.merge(\n",
    "    dfbaseline[[\"topic\", \"sub_topic\", \"learning_node\", \"is_correct\"]].rename(\n",
    "        columns={\"is_correct\": \"pred_correct\"}\n",
    "    ),\n",
    "    on=[\"topic\", \"sub_topic\", \"learning_node\"],\n",
    "    how=\"left\",\n",
    ").copy()\n",
    "roc_auc_score(train2[\"is_correct\"], train2[\"pred_correct\"])"
   ]
  },
  {
   "cell_type": "markdown",
   "id": "9283865d-6bf0-4f5b-aafe-d0d7f4904008",
   "metadata": {},
   "source": [
    "## Baseline - validation score"
   ]
  },
  {
   "cell_type": "code",
   "execution_count": 119,
   "id": "aee16c60-ec63-4cc1-8ca9-6259f08d2a7a",
   "metadata": {},
   "outputs": [
    {
     "data": {
      "text/plain": [
       "0.6981546605164384"
      ]
     },
     "execution_count": 119,
     "metadata": {},
     "output_type": "execute_result"
    }
   ],
   "source": [
    "val2 = valid.merge(\n",
    "    dfbaseline[[\"topic\", \"sub_topic\", \"learning_node\", \"is_correct\"]].rename(\n",
    "        columns={\"is_correct\": \"pred_correct\"}\n",
    "    ),\n",
    "    on=[\"topic\", \"sub_topic\", \"learning_node\"],\n",
    "    how=\"left\",\n",
    ").copy()\n",
    "val2.pred_correct = val2.pred_correct.fillna(val2.pred_correct.mean())\n",
    "roc_auc_score(test2[\"is_correct\"], test2[\"pred_correct\"])\n"
   ]
  },
  {
   "cell_type": "markdown",
   "id": "7f4accf8-6b8d-42eb-bd58-91630c3ef8c7",
   "metadata": {},
   "source": [
    "## Baseline - test score"
   ]
  },
  {
   "cell_type": "code",
   "execution_count": 187,
   "id": "1da6a6c6-155c-4ff8-a59a-34288ff266fa",
   "metadata": {},
   "outputs": [
    {
     "data": {
      "text/plain": [
       "0.6917575213595224"
      ]
     },
     "execution_count": 187,
     "metadata": {},
     "output_type": "execute_result"
    }
   ],
   "source": [
    "test2 = test.merge(\n",
    "    dfbaseline[[\"topic\", \"sub_topic\", \"learning_node\", \"is_correct\"]].rename(\n",
    "        columns={\"is_correct\": \"pred_correct\"}\n",
    "    ),\n",
    "    on=[\"topic\", \"sub_topic\", \"learning_node\"],\n",
    "    how=\"left\",\n",
    ").copy()\n",
    "test2.pred_correct = test2.pred_correct.fillna(test2.pred_correct.mean())\n",
    "\n",
    "ypbaseline=test2.pred_correct\n",
    "roc_auc_score(test2[\"is_correct\"], test2[\"pred_correct\"])\n"
   ]
  },
  {
   "cell_type": "markdown",
   "id": "8ad92d51-64be-4688-a351-aa000c97dadc",
   "metadata": {},
   "source": [
    "Dengan menggunakan baseline sederhana, didapatkan auc sebesar 0.69. Sehingga, model yang akan dibuat harus bisa lebih tinggi dari baseline sederhana ini"
   ]
  },
  {
   "cell_type": "markdown",
   "id": "ea2ebe1e-de7f-4b0a-b0b9-1ee7ed615995",
   "metadata": {},
   "source": [
    "# Prediction using CatBoost\n",
    "\n",
    "Gradient Boosting adalah teknik yang memiliki performa baik dan sering dipakai di kaggle. Contoh library terkenal adalah XGBoost, namun pada assignment ini saya menggunakan Catboost, karena:\n",
    "\n",
    "- memiliki parameter default yang cukup baik, dibanding xgboost yang perlu banyak tuning\n",
    "- learning rate otomatis sesuai dataset\n",
    "- handle categorical features secara otomatis, tidak perlu melakukan onehot untuk kolom low-cardinality, ataupun trik encoding lainnya untuk kolom high-cardinality\n",
    "\n",
    "sehingga:\n",
    "\n",
    "- mempercepat proses modelling untuk waktu yang terbatas ini; dan\n",
    "- kode lebih mudah di-maintain"
   ]
  },
  {
   "cell_type": "code",
   "execution_count": 24,
   "id": "26ba5fe0-3915-452a-87fc-1df58f977fca",
   "metadata": {},
   "outputs": [],
   "source": [
    "cat_features = [\n",
    "    \"question_difficulty\",\n",
    "    \"question_type\",\n",
    "    \"sub_topic\",\n",
    "    \"question_number_of_choice\",\n",
    "    \"learning_node\",\n",
    "    \"topic\",\n",
    "    \"question_id\",\n",
    "]\n",
    "drop_cols = [\n",
    "    \"user_id\",\n",
    "    \"session_id\",\n",
    "    \"session_no\",\n",
    "    \"row_id\",\n",
    "    \"session_question_no\",\n",
    "    \"learning_node_question_no\",\n",
    "    \"question_number_of_correct_choice\",\n",
    "]\n",
    "list_inter = list(set(df.columns) & set(testdf.columns))\n",
    "\n"
   ]
  },
  {
   "cell_type": "code",
   "execution_count": 25,
   "id": "21ce5ae3-b08f-4cb4-bd35-9c37377cb37a",
   "metadata": {},
   "outputs": [],
   "source": [
    "X_train = train[list_inter].drop(drop_cols, axis=1)\n",
    "y_train = train.is_correct\n",
    "\n",
    "X_valid = valid[list_inter].drop(drop_cols, axis=1)\n",
    "y_valid = valid.is_correct\n",
    "\n",
    "X_test = test[list_inter].drop(drop_cols, axis=1)\n",
    "y_test = test.is_correct\n"
   ]
  },
  {
   "cell_type": "markdown",
   "id": "e2e9a58d-30f2-4bbf-b3ef-3bcb517484ed",
   "metadata": {},
   "source": [
    "Beberapa parameter CatBoost yang akan kita override adalah jumlah max iterasi, loss function, evaluation metric, random seed, dan early stopping:\n"
   ]
  },
  {
   "cell_type": "code",
   "execution_count": 26,
   "id": "c0a288fb-e01b-426b-afff-9967e7daf9db",
   "metadata": {},
   "outputs": [],
   "source": [
    "CATBOOST_PARAM = {\n",
    "    \"iterations\": 200,\n",
    "    \"loss_function\": \"Logloss\",\n",
    "    \"eval_metric\": \"AUC\",\n",
    "    \"random_seed\": seed,\n",
    "}\n",
    "CATBOOST_FIT_PARAM = {\n",
    "    \"use_best_model\": True,\n",
    "    \"verbose\": False,\n",
    "    \"plot\": True,\n",
    "    \"early_stopping_rounds\": 50,\n",
    "}\n"
   ]
  },
  {
   "cell_type": "markdown",
   "id": "732b5232-0be3-4810-9593-c8dc371dca2f",
   "metadata": {},
   "source": [
    "Berikut kita ujicobakan model dengan dataset yang kebanyakan menggunakan data categorical:"
   ]
  },
  {
   "cell_type": "code",
   "execution_count": 27,
   "id": "69a032bf-84c4-4a49-9cbd-8d2d0a75812b",
   "metadata": {},
   "outputs": [
    {
     "data": {
      "application/vnd.jupyter.widget-view+json": {
       "model_id": "1c6a81cd3d9541128f75542d1daa7a09",
       "version_major": 2,
       "version_minor": 0
      },
      "text/plain": [
       "MetricVisualizer(layout=Layout(align_self='stretch', height='500px'))"
      ]
     },
     "metadata": {},
     "output_type": "display_data"
    },
    {
     "data": {
      "text/plain": [
       "<catboost.core.CatBoostClassifier at 0x1ca6d005fd0>"
      ]
     },
     "execution_count": 27,
     "metadata": {},
     "output_type": "execute_result"
    }
   ],
   "source": [
    "clf = CatBoostClassifier(**CATBOOST_PARAM)\n",
    "clf.fit(\n",
    "    X_train, y_train, cat_features, eval_set=(X_valid, y_valid), **CATBOOST_FIT_PARAM\n",
    ")\n"
   ]
  },
  {
   "cell_type": "code",
   "execution_count": 191,
   "id": "628cb790-6e8e-4c7f-88ff-c2a6e7c31de5",
   "metadata": {},
   "outputs": [
    {
     "data": {
      "text/plain": [
       "(0.8092758276298564, 0.737109453637798, 0.736325570775935)"
      ]
     },
     "execution_count": 191,
     "metadata": {},
     "output_type": "execute_result"
    }
   ],
   "source": [
    "yp = clf.predict_proba(X_train)\n",
    "tr = roc_auc_score(y_train, yp[:, 1])\n",
    "\n",
    "yp = clf.predict_proba(X_valid)\n",
    "va = roc_auc_score(y_valid, yp[:, 1])\n",
    "\n",
    "yp2 = clf.predict_proba(X_test)\n",
    "te = roc_auc_score(y_test, yp2[:, 1])\n",
    "\n",
    "ypredcbonly=yp2\n",
    "\n",
    "tr, va, te\n"
   ]
  },
  {
   "cell_type": "markdown",
   "id": "bcac2231-0361-4e12-b6ca-8774c37213e3",
   "metadata": {},
   "source": [
    "Oleh modelling sederhana dengan catboost, didapatkan validation score 0.73, dan test score 0.73."
   ]
  },
  {
   "cell_type": "code",
   "execution_count": 145,
   "id": "0c2eadd2-e7e4-432c-ad5c-e4c4e8992aa0",
   "metadata": {},
   "outputs": [
    {
     "data": {
      "text/html": [
       "<div>\n",
       "<style scoped>\n",
       "    .dataframe tbody tr th:only-of-type {\n",
       "        vertical-align: middle;\n",
       "    }\n",
       "\n",
       "    .dataframe tbody tr th {\n",
       "        vertical-align: top;\n",
       "    }\n",
       "\n",
       "    .dataframe thead th {\n",
       "        text-align: right;\n",
       "    }\n",
       "</style>\n",
       "<table border=\"1\" class=\"dataframe\">\n",
       "  <thead>\n",
       "    <tr style=\"text-align: right;\">\n",
       "      <th></th>\n",
       "      <th>0</th>\n",
       "      <th>1</th>\n",
       "    </tr>\n",
       "  </thead>\n",
       "  <tbody>\n",
       "    <tr>\n",
       "      <th>0</th>\n",
       "      <td>question_number_of_choice</td>\n",
       "      <td>6.623377</td>\n",
       "    </tr>\n",
       "    <tr>\n",
       "      <th>1</th>\n",
       "      <td>question_id</td>\n",
       "      <td>27.207969</td>\n",
       "    </tr>\n",
       "    <tr>\n",
       "      <th>2</th>\n",
       "      <td>topic</td>\n",
       "      <td>28.9309</td>\n",
       "    </tr>\n",
       "    <tr>\n",
       "      <th>3</th>\n",
       "      <td>question_difficulty</td>\n",
       "      <td>6.052052</td>\n",
       "    </tr>\n",
       "    <tr>\n",
       "      <th>4</th>\n",
       "      <td>question_type</td>\n",
       "      <td>0.027813</td>\n",
       "    </tr>\n",
       "    <tr>\n",
       "      <th>5</th>\n",
       "      <td>learning_node</td>\n",
       "      <td>23.30947</td>\n",
       "    </tr>\n",
       "    <tr>\n",
       "      <th>6</th>\n",
       "      <td>sub_topic</td>\n",
       "      <td>7.848419</td>\n",
       "    </tr>\n",
       "  </tbody>\n",
       "</table>\n",
       "</div>"
      ],
      "text/plain": [
       "                           0          1\n",
       "0  question_number_of_choice   6.623377\n",
       "1                question_id  27.207969\n",
       "2                      topic    28.9309\n",
       "3        question_difficulty   6.052052\n",
       "4              question_type   0.027813\n",
       "5              learning_node   23.30947\n",
       "6                  sub_topic   7.848419"
      ]
     },
     "execution_count": 145,
     "metadata": {},
     "output_type": "execute_result"
    }
   ],
   "source": [
    "pd.DataFrame([clf.feature_names_, clf.get_feature_importance()]).T "
   ]
  },
  {
   "cell_type": "markdown",
   "id": "55715678-376c-445d-bcd4-c8dea098b7b2",
   "metadata": {},
   "source": [
    "Dari hasil feature importances:\n",
    "\n",
    "- `question_type` memiliki importances yang sangat rendah dibanding fitur lain, sehingga bisa di-remove"
   ]
  },
  {
   "cell_type": "markdown",
   "id": "baea5111-7f22-4881-bb7f-775b0340ae54",
   "metadata": {},
   "source": [
    "# Decomposing student ability and question difficulty\n",
    "\n",
    "Pada pembahasan sebelumnya, kita telah membahas bahwa faktor utama probabilitas soal terjawab adalah sebagai berikut:\n",
    "\n",
    "- kesulitan soal\n",
    "- kemampuan user\n",
    "- randomness dari user (keberuntungan, keteledoran)\n",
    "\n",
    "Kita sudah mencoba membangun baseline walau hanya dengan agregat. Pada kesempatan kali ini, kita mencoba untuk dekomposisi kemampuan pelajar, kessulitan soal, dan faktor-faktor lain hingga menjadi fitur/kolom tersendiri.\n",
    "\n",
    "Yang pertama terlintas di pikiran saya adalah Multilevel Modelling seperti pada dataset Radon https://docs.pymc.io/en/v3/pymc-examples/examples/case_studies/multilevel_modeling.html\n",
    "\n",
    "Kira-kira seperti ini: Prob = intercept + difficulty_soal[id_soal] + ability_user[id_user] + luck_user[id_user] + carelessness_user[id_user] + ... \n",
    "\n",
    "Namun  dari hasil studi literatur, didapatkan salah satu model untuk memodelkan ini sudah ada, yaitu Item Response Theory.  \n",
    "Selain itu, ditemukan fitur lain seperti `question_discrimination` dan luck/carelessness yaitu `lambda`, dan bersifat sebagai pengali, bukan additive seperti contoh di atas.\n",
    "\n",
    "Oleh karena itu, saya melakukan eksperimen dengan IRT\n"
   ]
  },
  {
   "cell_type": "markdown",
   "id": "d349a5d9-fd13-44a3-b703-869c8e3892b0",
   "metadata": {},
   "source": [
    "# Item Response Theory\n",
    "\n",
    "Berikut referensi yang saya sarankan untuk memahami IRT dengan mudah:\n",
    "- https://www.publichealth.columbia.edu/research/population-health-methods/item-response-theory\n",
    "- https://arxiv.org/abs/2203.01282\n",
    "- https://en.wikipedia.org/wiki/Item_response_theory#The_item_response_function\n",
    "\n",
    "Ada beberapa variasi model IRT, secara singkat perbedaan terdapat pada latent variable-nya :\n",
    "\n",
    "- 1PL: ability, difficulty\n",
    "- 2PL: ability, difficulty, discrimination\n",
    "- 4PL: ability, difficulty, discrimination, luck, carelessness"
   ]
  },
  {
   "cell_type": "markdown",
   "id": "c934bcab-95ab-4740-a282-bd70c51b3299",
   "metadata": {
    "tags": []
   },
   "source": [
    "## Preprocessing for item response theory\n",
    "\n",
    "library yang digunakan adalah py-irt. cara kerja ada di paper  https://arxiv.org/abs/2203.01282"
   ]
  },
  {
   "cell_type": "code",
   "execution_count": 29,
   "id": "96e2ed77-9557-4a5b-98d1-6d71f1a0ada7",
   "metadata": {},
   "outputs": [],
   "source": [
    "# transform to irt input\n",
    "def transform_to_irt_input(df_input: \"pd.DataFrame\", jsonl_name: str):\n",
    "    dik1 = {}\n",
    "    for row in df_input.itertuples():\n",
    "        if row.user_id not in dik1:\n",
    "            dik1[row.user_id] = {\"responses\": {}}\n",
    "\n",
    "        dik1[row.user_id][\"responses\"][str(row.question_id)] = (\n",
    "            1 if row.is_correct else 0\n",
    "        )\n",
    "\n",
    "    lisdik2 = [{\"subject_id\": k, \"responses\": v[\"responses\"]} for k, v in dik1.items()]\n",
    "\n",
    "    import json\n",
    "\n",
    "    with open(jsonl_name, \"w\") as outfile:\n",
    "        for entry in lisdik2:\n",
    "            json.dump(entry, outfile)\n",
    "            outfile.write(\"\\n\")\n"
   ]
  },
  {
   "cell_type": "markdown",
   "id": "3612cc14-75de-4305-a8c5-47154619ecf7",
   "metadata": {},
   "source": [
    "Berikut rumus prediksi dari Item Response Theory untuk n-PL (Parameter Logistic):"
   ]
  },
  {
   "cell_type": "code",
   "execution_count": 30,
   "id": "674a09d5-c129-4d9a-8d0c-e4bfe03c0a14",
   "metadata": {},
   "outputs": [],
   "source": [
    "\"\"\"\n",
    "abilities = kemampuan user\n",
    "diffs = difficulty dari soal\n",
    "disc = discrimination factor dari soal\n",
    "lambdas= faktor randomness dari user (tebakan benar / keteledoran)\n",
    "\"\"\"\n",
    "\n",
    "\n",
    "def predict_1pl(abilities, diffs):\n",
    "    return 1 / (1 + np.exp(-(abilities - diffs)))\n",
    "\n",
    "\n",
    "def predict_2pl(abilities, diffs, discs):\n",
    "    return 1 / (1 + np.exp(-discs * (abilities - diffs)))\n",
    "\n",
    "\n",
    "def predict_4pl(abilities, diffs, discs, lambdas):\n",
    "    return lambdas / (1 + np.exp(-discs * (abilities - diffs)))\n"
   ]
  },
  {
   "cell_type": "markdown",
   "id": "a82cf652-da63-46f2-a246-5867b2190d1f",
   "metadata": {
    "tags": []
   },
   "source": [
    "## Item Response Theory on the full training dataset and EDA\n",
    "\n",
    "Untuk kebutuhan EDA, dilakukan fitting model Item Response Theory.  \n",
    "(Berikutnya juga akan dilakukan evaluasi terhadap splitted dataset. Untuk bagian ini, strictly untuk EDA.)"
   ]
  },
  {
   "cell_type": "code",
   "execution_count": 31,
   "id": "2411ae4f-916b-4e3d-b0df-b47d0ca4479f",
   "metadata": {
    "tags": []
   },
   "outputs": [],
   "source": [
    "fulltrain = df.copy()\n",
    "transform_to_irt_input(fulltrain, \"fulltrain.jsonl\")\n"
   ]
  },
  {
   "cell_type": "markdown",
   "id": "9015fe2e-f827-48b0-acba-27f60620d460",
   "metadata": {},
   "source": [
    "### 1PL on full training data"
   ]
  },
  {
   "cell_type": "code",
   "execution_count": 32,
   "id": "4b8a4b2a-64dc-412e-974e-a834f2880d72",
   "metadata": {},
   "outputs": [
    {
     "name": "stdout",
     "output_type": "stream",
     "text": [
      "[19:38:35] config: model_type='1pl' epochs=2000 priors=None           cli.py:66\n",
      "           initializers=[] dims=None lr=0.1 lr_decay=0.9999                    \n",
      "           dropout=0.5 hidden=100 vocab_size=None                              \n",
      "           data_path: final.jsonl                                     cli.py:68\n",
      "           output directory: fulltrain1pl                             cli.py:69\n",
      "False\n",
      "None\n",
      "[19:38:37] Training Model...                                          cli.py:73\n",
      "{'device': 'cpu', 'num_items': 30653, 'num_subjects': 7000}\n",
      "[19:38:37] Parsed Model Args: {'device': 'cpu', 'num_items':    training.py:124\n",
      "           30653, 'num_subjects': 7000, 'priors': 'vague',                     \n",
      "           'dropout': 0.5, 'hidden': 100, 'vocab_size': None}                  \n",
      "torch.Size([172995]) torch.Size([172995])\n",
      "Training Pyro IRT Model for 2000 epochs\n",
      "+------------------------------------------------+\n",
      "| Epoch | Loss          | Best Loss     | New LR |\n",
      "|-------+---------------+---------------+--------|\n",
      "| 1     | 69771528.0000 | 69771528.0000 | 0.1000 |\n",
      "| 101   | 2573956.6240  | 2573956.6240  | 0.0990 |\n",
      "| 201   | 977556.3057   | 977556.3057   | 0.0980 |\n",
      "| 301   | 602875.2852   | 596558.0742   | 0.0970 |\n",
      "| 401   | 452905.0283   | 447312.1123   | 0.0961 |\n",
      "| 501   | 381669.3218   | 381096.8560   | 0.0951 |\n",
      "| 601   | 342158.7534   | 341391.0361   | 0.0942 |\n",
      "| 701   | 311820.5205   | 311820.5205   | 0.0932 |\n",
      "| 801   | 296532.6753   | 293310.0820   | 0.0923 |\n",
      "| 901   | 282464.2266   | 281448.2051   | 0.0914 |\n",
      "| 1001  | 273162.9219   | 271818.5249   | 0.0905 |\n",
      "| 1101  | 265729.2754   | 265242.2935   | 0.0896 |\n",
      "| 1201  | 260495.8423   | 258746.9253   | 0.0887 |\n",
      "| 1301  | 255293.6509   | 254711.4312   | 0.0878 |\n",
      "| 1401  | 251899.8066   | 251310.8184   | 0.0869 |\n",
      "| 1501  | 249014.8291   | 249014.8291   | 0.0861 |\n",
      "| 1601  | 247310.3770   | 246193.8647   | 0.0852 |\n",
      "| 1701  | 244953.3403   | 244529.3950   | 0.0844 |\n",
      "| 1801  | 243537.6006   | 242903.2500   | 0.0835 |\n",
      "| 1901  | 242085.4502   | 241575.2637   | 0.0827 |\n",
      "| 2000  | 240925.2900   | 240345.3315   | 0.0819 |\n",
      "+------------------------------------------------+[19:39:27] Train time: 52.101359367370605                             cli.py:79\n"
     ]
    }
   ],
   "source": [
    "!py-irt train 1pl final.jsonl fulltrain1pl\n"
   ]
  },
  {
   "cell_type": "code",
   "execution_count": 33,
   "id": "d63bbb25-3de8-4f3f-8273-680192e4a8e4",
   "metadata": {},
   "outputs": [
    {
     "data": {
      "text/html": [
       "<div>\n",
       "<style scoped>\n",
       "    .dataframe tbody tr th:only-of-type {\n",
       "        vertical-align: middle;\n",
       "    }\n",
       "\n",
       "    .dataframe tbody tr th {\n",
       "        vertical-align: top;\n",
       "    }\n",
       "\n",
       "    .dataframe thead th {\n",
       "        text-align: right;\n",
       "    }\n",
       "</style>\n",
       "<table border=\"1\" class=\"dataframe\">\n",
       "  <thead>\n",
       "    <tr style=\"text-align: right;\">\n",
       "      <th></th>\n",
       "      <th>Mean_is_correct</th>\n",
       "      <th>Mean_diff_IRT</th>\n",
       "      <th>correct</th>\n",
       "      <th>total</th>\n",
       "    </tr>\n",
       "    <tr>\n",
       "      <th>question_difficulty</th>\n",
       "      <th></th>\n",
       "      <th></th>\n",
       "      <th></th>\n",
       "      <th></th>\n",
       "    </tr>\n",
       "  </thead>\n",
       "  <tbody>\n",
       "    <tr>\n",
       "      <th>other</th>\n",
       "      <td>0.720046</td>\n",
       "      <td>-3.605294</td>\n",
       "      <td>119897.0</td>\n",
       "      <td>166513</td>\n",
       "    </tr>\n",
       "    <tr>\n",
       "      <th>easy</th>\n",
       "      <td>0.682595</td>\n",
       "      <td>-2.825878</td>\n",
       "      <td>3314.0</td>\n",
       "      <td>4855</td>\n",
       "    </tr>\n",
       "    <tr>\n",
       "      <th>hard</th>\n",
       "      <td>0.548100</td>\n",
       "      <td>-2.265519</td>\n",
       "      <td>678.0</td>\n",
       "      <td>1237</td>\n",
       "    </tr>\n",
       "    <tr>\n",
       "      <th>hots</th>\n",
       "      <td>0.554852</td>\n",
       "      <td>-0.190259</td>\n",
       "      <td>263.0</td>\n",
       "      <td>474</td>\n",
       "    </tr>\n",
       "    <tr>\n",
       "      <th>medium</th>\n",
       "      <td>0.533157</td>\n",
       "      <td>-0.083921</td>\n",
       "      <td>60677.0</td>\n",
       "      <td>113807</td>\n",
       "    </tr>\n",
       "  </tbody>\n",
       "</table>\n",
       "</div>"
      ],
      "text/plain": [
       "                     Mean_is_correct  Mean_diff_IRT   correct   total\n",
       "question_difficulty                                                  \n",
       "other                       0.720046      -3.605294  119897.0  166513\n",
       "easy                        0.682595      -2.825878    3314.0    4855\n",
       "hard                        0.548100      -2.265519     678.0    1237\n",
       "hots                        0.554852      -0.190259     263.0     474\n",
       "medium                      0.533157      -0.083921   60677.0  113807"
      ]
     },
     "execution_count": 33,
     "metadata": {},
     "output_type": "execute_result"
    }
   ],
   "source": [
    "# transform from irt input\n",
    "import json\n",
    "\n",
    "f = open(\"fulltrain1pl/best_parameters.json\").read()\n",
    "d = json.loads(f)\n",
    "duid = {int(k): int(v) for k, v in d[\"subject_ids\"].items()}\n",
    "dability = dict(zip(map(int, d[\"subject_ids\"].values()), d[\"ability\"]))\n",
    "ddiff = dict(zip(map(int, d[\"item_ids\"].values()), d[\"diff\"]))\n",
    "\n",
    "fulltrain1pl = fulltrain.copy()\n",
    "\n",
    "# transform to irt\n",
    "fulltrain1pl[\"ability\"] = fulltrain1pl.user_id.map(dability)\n",
    "fulltrain1pl[\"diff\"] = fulltrain1pl.question_id.map(ddiff)\n",
    "\n",
    "fulltrain1pl.fillna(\"other\").groupby(\"question_difficulty\").agg(\n",
    "    Mean_is_correct=(\"is_correct\", np.mean),\n",
    "    Mean_diff_IRT=(\"diff\", np.mean),\n",
    "    correct=(\"is_correct\", np.sum),\n",
    "    total=(\"is_correct\", len),\n",
    ").sort_values(\"Mean_diff_IRT\")\n"
   ]
  },
  {
   "cell_type": "markdown",
   "id": "ec83c9a3-3219-43ff-97bb-afe575aeb1ad",
   "metadata": {},
   "source": [
    "### 2PL on full training data"
   ]
  },
  {
   "cell_type": "code",
   "execution_count": 34,
   "id": "c5fd14b5-71a8-4695-9a42-b03789383e85",
   "metadata": {
    "tags": []
   },
   "outputs": [
    {
     "name": "stdout",
     "output_type": "stream",
     "text": [
      "[19:39:33] config: model_type='2pl' epochs=2000 priors=None           cli.py:66\n",
      "           initializers=[] dims=None lr=0.1 lr_decay=0.9999                    \n",
      "           dropout=0.5 hidden=100 vocab_size=None                              \n",
      "           data_path: final.jsonl                                     cli.py:68\n",
      "           output directory: fulltrain2pl                             cli.py:69\n",
      "False\n",
      "None\n",
      "[19:39:35] Training Model...                                          cli.py:73\n",
      "{'device': 'cpu', 'num_items': 30653, 'num_subjects': 7000}\n",
      "[19:39:35] Parsed Model Args: {'device': 'cpu', 'num_items':    training.py:124\n",
      "           30653, 'num_subjects': 7000, 'priors': 'vague',                     \n",
      "           'dropout': 0.5, 'hidden': 100, 'vocab_size': None}                  \n",
      "torch.Size([172995]) torch.Size([172995])\n",
      "Training Pyro IRT Model for 2000 epochs\n",
      "+--------------------------------------------------+\n",
      "| Epoch | Loss           | Best Loss      | New LR |\n",
      "|-------+----------------+----------------+--------|\n",
      "| 1     | 154654060.7891 | 154654060.7891 | 0.1000 |\n",
      "| 101   | 2327599.8750   | 2327599.8750   | 0.0990 |\n",
      "| 201   | 1028392.9043   | 1028392.9043   | 0.0980 |\n",
      "| 301   | 636256.9824    | 631761.7227    | 0.0970 |\n",
      "| 401   | 452127.5752    | 449085.8262    | 0.0961 |\n",
      "| 501   | 348937.7373    | 348937.7373    | 0.0951 |\n",
      "| 601   | 289102.8115    | 286853.7480    | 0.0942 |\n",
      "| 701   | 250830.2910    | 246892.1006    | 0.0932 |\n",
      "| 801   | 220086.8921    | 219887.8462    | 0.0923 |\n",
      "| 901   | 199664.8801    | 198150.8169    | 0.0914 |\n",
      "| 1001  | 183964.2183    | 183964.2183    | 0.0905 |\n",
      "| 1101  | 172880.0392    | 171644.6194    | 0.0896 |\n",
      "| 1201  | 164161.6892    | 162957.1936    | 0.0887 |\n",
      "| 1301  | 156694.8770    | 155404.2378    | 0.0878 |\n",
      "| 1401  | 150911.3770    | 149939.8301    | 0.0869 |\n",
      "| 1501  | 145652.0654    | 145442.9229    | 0.0861 |\n",
      "| 1601  | 141931.9180    | 141240.6104    | 0.0852 |\n",
      "| 1701  | 138580.4160    | 138138.6562    | 0.0844 |\n",
      "| 1801  | 136638.9297    | 135548.7666    | 0.0835 |\n",
      "| 1901  | 134352.6038    | 133733.6262    | 0.0827 |\n",
      "| 2000  | 132419.6586    | 131732.5279    | 0.0819 |\n",
      "+--------------------------------------------------+[19:40:50] Train time: 76.63152956962585                              cli.py:79\n"
     ]
    }
   ],
   "source": [
    "!py-irt train 2pl final.jsonl fulltrain2pl\n"
   ]
  },
  {
   "cell_type": "code",
   "execution_count": 35,
   "id": "7c46b557-61a3-4989-928d-de27e2cae885",
   "metadata": {
    "tags": []
   },
   "outputs": [
    {
     "data": {
      "text/html": [
       "<div>\n",
       "<style scoped>\n",
       "    .dataframe tbody tr th:only-of-type {\n",
       "        vertical-align: middle;\n",
       "    }\n",
       "\n",
       "    .dataframe tbody tr th {\n",
       "        vertical-align: top;\n",
       "    }\n",
       "\n",
       "    .dataframe thead th {\n",
       "        text-align: right;\n",
       "    }\n",
       "</style>\n",
       "<table border=\"1\" class=\"dataframe\">\n",
       "  <thead>\n",
       "    <tr style=\"text-align: right;\">\n",
       "      <th></th>\n",
       "      <th>correct</th>\n",
       "      <th>total</th>\n",
       "      <th>Mean_is_correct</th>\n",
       "      <th>Mean_diff_IRT</th>\n",
       "      <th>Mean_disc_IRT</th>\n",
       "    </tr>\n",
       "    <tr>\n",
       "      <th>question_difficulty</th>\n",
       "      <th></th>\n",
       "      <th></th>\n",
       "      <th></th>\n",
       "      <th></th>\n",
       "      <th></th>\n",
       "    </tr>\n",
       "  </thead>\n",
       "  <tbody>\n",
       "    <tr>\n",
       "      <th>easy</th>\n",
       "      <td>3314.0</td>\n",
       "      <td>4855</td>\n",
       "      <td>0.682595</td>\n",
       "      <td>-0.070469</td>\n",
       "      <td>0.177989</td>\n",
       "    </tr>\n",
       "    <tr>\n",
       "      <th>other</th>\n",
       "      <td>119897.0</td>\n",
       "      <td>166513</td>\n",
       "      <td>0.720046</td>\n",
       "      <td>-0.016404</td>\n",
       "      <td>0.137478</td>\n",
       "    </tr>\n",
       "    <tr>\n",
       "      <th>medium</th>\n",
       "      <td>60677.0</td>\n",
       "      <td>113807</td>\n",
       "      <td>0.533157</td>\n",
       "      <td>-0.001365</td>\n",
       "      <td>0.032827</td>\n",
       "    </tr>\n",
       "    <tr>\n",
       "      <th>hots</th>\n",
       "      <td>263.0</td>\n",
       "      <td>474</td>\n",
       "      <td>0.554852</td>\n",
       "      <td>-0.000090</td>\n",
       "      <td>0.053356</td>\n",
       "    </tr>\n",
       "    <tr>\n",
       "      <th>hard</th>\n",
       "      <td>678.0</td>\n",
       "      <td>1237</td>\n",
       "      <td>0.548100</td>\n",
       "      <td>0.010486</td>\n",
       "      <td>0.022351</td>\n",
       "    </tr>\n",
       "  </tbody>\n",
       "</table>\n",
       "</div>"
      ],
      "text/plain": [
       "                      correct   total  Mean_is_correct  Mean_diff_IRT  \\\n",
       "question_difficulty                                                     \n",
       "easy                   3314.0    4855         0.682595      -0.070469   \n",
       "other                119897.0  166513         0.720046      -0.016404   \n",
       "medium                60677.0  113807         0.533157      -0.001365   \n",
       "hots                    263.0     474         0.554852      -0.000090   \n",
       "hard                    678.0    1237         0.548100       0.010486   \n",
       "\n",
       "                     Mean_disc_IRT  \n",
       "question_difficulty                 \n",
       "easy                      0.177989  \n",
       "other                     0.137478  \n",
       "medium                    0.032827  \n",
       "hots                      0.053356  \n",
       "hard                      0.022351  "
      ]
     },
     "execution_count": 35,
     "metadata": {},
     "output_type": "execute_result"
    }
   ],
   "source": [
    "# transform from irt input\n",
    "import json\n",
    "\n",
    "f = open(\"fulltrain2pl/best_parameters.json\").read()\n",
    "d = json.loads(f)\n",
    "duid = {int(k): int(v) for k, v in d[\"subject_ids\"].items()}\n",
    "dability = dict(zip(map(int, d[\"subject_ids\"].values()), d[\"ability\"]))\n",
    "ddiff = dict(zip(map(int, d[\"item_ids\"].values()), d[\"diff\"]))\n",
    "ddisc = dict(zip(map(int, d[\"item_ids\"].values()), d[\"disc\"]))\n",
    "\n",
    "\n",
    "fulltrain2pl = fulltrain.copy()\n",
    "\n",
    "# transform to irt\n",
    "fulltrain2pl[\"ability\"] = fulltrain2pl.user_id.map(dability)\n",
    "fulltrain2pl[\"diff\"] = fulltrain2pl.question_id.map(ddiff)\n",
    "fulltrain2pl[\"disc\"] = fulltrain2pl.question_id.map(ddisc)\n",
    "\n",
    "\n",
    "fulltrain2pl.fillna(\"other\").groupby(\"question_difficulty\").agg(\n",
    "    correct=(\"is_correct\", np.sum),\n",
    "    total=(\"is_correct\", len),\n",
    "    Mean_is_correct=(\"is_correct\", np.mean),\n",
    "    Mean_diff_IRT=(\"diff\", np.mean),\n",
    "    Mean_disc_IRT=(\"disc\", np.mean),\n",
    ").sort_values(\"Mean_diff_IRT\")\n"
   ]
  },
  {
   "cell_type": "markdown",
   "id": "0b0cd2e5-099a-4a7f-a3fb-cd789d8b1bc5",
   "metadata": {},
   "source": [
    "Dapat dilihat bahwa IRT mampu dekomposisi ke individual ability user dan difficulty soal, terutama IRT-2PL yang mampu memodelkan kesulitan soal dengan `easy < medium < hard`\n",
    "\n",
    "Model IRT ini sebenarnya bisa langsung digunakan, karena sebenarnya ia bisa mengeluarkan prediksi lewat rumus logistic-nya. \n",
    "\n",
    "Namun hal tersebut tidak saya lakukan karena jika ada missing, unknown person & unknown soal, hasilnya akan buruk. Sehingga fitur categorical seperti `topic, sub_topic` akan sangat membantu bila terjadi missing value. Oleh karena itu, saya masukkan lagi ke model, dalam kasus ini adalah CatBoost.\n"
   ]
  },
  {
   "cell_type": "markdown",
   "id": "f1e06404-03ae-43ca-9a96-7c0b9b79b605",
   "metadata": {
    "tags": []
   },
   "source": [
    "## Item Response Theory on splitted dataset\n",
    "\n",
    "Eksperimen lanjutan adalah bertujuan untuk menjawab pertanyaan berikut:\n",
    "\n",
    "- apakah IRT dapat menaikkan skor AUC pada split dataset\n",
    "- model IRT yang mana yang paling meningkatkan skor AUC?\n",
    "- jika terjadi missing value, strategi imputasi mana yang paling baik? impute dengan mean, median, atau cara lain?\n",
    "\n",
    "DataFrame yang diguanakan adalah fitur kategorikal (difficulty, topic, sub_topic, learning_node, question_id) bersama fitur IRT, yaitu:\n",
    "\n",
    "- 1PL: ability, difficulty\n",
    "- 2PL: ability, discrimination factor\n",
    "- 4PL: ability, discrimination factor, lambda (user randomness)\n"
   ]
  },
  {
   "cell_type": "markdown",
   "id": "09fbd00e-fb5d-4ad3-8d35-eb1b048a2eda",
   "metadata": {},
   "source": [
    "### IRT-1PL on split"
   ]
  },
  {
   "cell_type": "code",
   "execution_count": 36,
   "id": "b1f4b04b-8ddf-4517-be18-dbdf3734bdd0",
   "metadata": {},
   "outputs": [
    {
     "name": "stdout",
     "output_type": "stream",
     "text": [
      "[19:40:58] config: model_type='1pl' epochs=2000 priors=None           cli.py:66\n",
      "           initializers=[] dims=None lr=0.1 lr_decay=0.9999                    \n",
      "           dropout=0.5 hidden=100 vocab_size=None                              \n",
      "           data_path: trainsplit.jsonl                                cli.py:68\n",
      "           output directory: train1pl                                 cli.py:69\n",
      "False\n",
      "None\n",
      "[19:40:59] Training Model...                                          cli.py:73\n",
      "{'device': 'cpu', 'num_items': 26206, 'num_subjects': 6723}\n",
      "[19:40:59] Parsed Model Args: {'device': 'cpu', 'num_items':    training.py:124\n",
      "           26206, 'num_subjects': 6723, 'priors': 'vague',                     \n",
      "           'dropout': 0.5, 'hidden': 100, 'vocab_size': None}                  \n",
      "torch.Size([120884]) torch.Size([120884])\n",
      "Training Pyro IRT Model for 2000 epochs\n",
      "+------------------------------------------------+\n",
      "| Epoch | Loss          | Best Loss     | New LR |\n",
      "|-------+---------------+---------------+--------|\n",
      "| 1     | 48519668.0000 | 48519668.0000 | 0.1000 |\n",
      "| 101   | 1864026.8418  | 1864026.8418  | 0.0990 |\n",
      "| 201   | 717844.4785   | 717844.4785   | 0.0980 |\n",
      "| 301   | 436821.5283   | 430009.0557   | 0.0970 |\n",
      "| 401   | 329149.3789   | 329149.3789   | 0.0961 |\n",
      "| 501   | 281181.5010   | 281181.5010   | 0.0951 |\n",
      "| 601   | 252752.3193   | 252752.3193   | 0.0942 |\n",
      "| 701   | 235386.5215   | 234987.3608   | 0.0932 |\n",
      "| 801   | 224770.6836   | 221606.7358   | 0.0923 |\n",
      "| 901   | 214751.4639   | 214165.7290   | 0.0914 |\n",
      "| 1001  | 209196.3867   | 208380.7451   | 0.0905 |\n",
      "| 1101  | 204438.2969   | 203330.0889   | 0.0896 |\n",
      "| 1201  | 199962.2979   | 199372.6064   | 0.0887 |\n",
      "| 1301  | 196999.4360   | 196194.2173   | 0.0878 |\n",
      "| 1401  | 194960.1816   | 194231.2744   | 0.0869 |\n",
      "| 1501  | 192071.1187   | 192071.1187   | 0.0861 |\n",
      "| 1601  | 191271.0093   | 190468.6475   | 0.0852 |\n",
      "| 1701  | 189069.7749   | 189069.7749   | 0.0844 |\n",
      "| 1801  | 188576.3193   | 188424.1909   | 0.0835 |\n",
      "| 1901  | 187766.7148   | 187360.0264   | 0.0827 |\n",
      "| 2000  | 186655.6025   | 186366.2295   | 0.0819 |\n",
      "+------------------------------------------------+[19:41:40] Train time: 42.011433839797974                             cli.py:79\n"
     ]
    }
   ],
   "source": [
    "!py-irt train 1pl trainsplit.jsonl train1pl\n"
   ]
  },
  {
   "cell_type": "code",
   "execution_count": 37,
   "id": "532c7ad3-241c-421c-884d-b372241c13d1",
   "metadata": {},
   "outputs": [
    {
     "data": {
      "text/html": [
       "<div>\n",
       "<style scoped>\n",
       "    .dataframe tbody tr th:only-of-type {\n",
       "        vertical-align: middle;\n",
       "    }\n",
       "\n",
       "    .dataframe tbody tr th {\n",
       "        vertical-align: top;\n",
       "    }\n",
       "\n",
       "    .dataframe thead th {\n",
       "        text-align: right;\n",
       "    }\n",
       "</style>\n",
       "<table border=\"1\" class=\"dataframe\">\n",
       "  <thead>\n",
       "    <tr style=\"text-align: right;\">\n",
       "      <th></th>\n",
       "      <th>0</th>\n",
       "      <th>1</th>\n",
       "    </tr>\n",
       "  </thead>\n",
       "  <tbody>\n",
       "    <tr>\n",
       "      <th>user_id</th>\n",
       "      <td>0</td>\n",
       "      <td>0</td>\n",
       "    </tr>\n",
       "    <tr>\n",
       "      <th>session_id</th>\n",
       "      <td>0</td>\n",
       "      <td>0</td>\n",
       "    </tr>\n",
       "    <tr>\n",
       "      <th>session_no</th>\n",
       "      <td>0</td>\n",
       "      <td>0</td>\n",
       "    </tr>\n",
       "    <tr>\n",
       "      <th>topic</th>\n",
       "      <td>0</td>\n",
       "      <td>0</td>\n",
       "    </tr>\n",
       "    <tr>\n",
       "      <th>sub_topic</th>\n",
       "      <td>0</td>\n",
       "      <td>0</td>\n",
       "    </tr>\n",
       "    <tr>\n",
       "      <th>learning_node</th>\n",
       "      <td>0</td>\n",
       "      <td>0</td>\n",
       "    </tr>\n",
       "    <tr>\n",
       "      <th>question_id</th>\n",
       "      <td>0</td>\n",
       "      <td>0</td>\n",
       "    </tr>\n",
       "    <tr>\n",
       "      <th>question_type</th>\n",
       "      <td>0</td>\n",
       "      <td>0</td>\n",
       "    </tr>\n",
       "    <tr>\n",
       "      <th>session_question_no</th>\n",
       "      <td>0</td>\n",
       "      <td>0</td>\n",
       "    </tr>\n",
       "    <tr>\n",
       "      <th>learning_node_question_no</th>\n",
       "      <td>0</td>\n",
       "      <td>0</td>\n",
       "    </tr>\n",
       "    <tr>\n",
       "      <th>question_difficulty</th>\n",
       "      <td>0</td>\n",
       "      <td>0</td>\n",
       "    </tr>\n",
       "    <tr>\n",
       "      <th>question_number_of_choice</th>\n",
       "      <td>0</td>\n",
       "      <td>0</td>\n",
       "    </tr>\n",
       "    <tr>\n",
       "      <th>question_number_of_correct_choice</th>\n",
       "      <td>0</td>\n",
       "      <td>0</td>\n",
       "    </tr>\n",
       "    <tr>\n",
       "      <th>question_number_of_correct_selected</th>\n",
       "      <td>0</td>\n",
       "      <td>0</td>\n",
       "    </tr>\n",
       "    <tr>\n",
       "      <th>question_number_of_wrong_selected</th>\n",
       "      <td>0</td>\n",
       "      <td>0</td>\n",
       "    </tr>\n",
       "    <tr>\n",
       "      <th>ms_first_response</th>\n",
       "      <td>0</td>\n",
       "      <td>0</td>\n",
       "    </tr>\n",
       "    <tr>\n",
       "      <th>is_correct</th>\n",
       "      <td>0</td>\n",
       "      <td>0</td>\n",
       "    </tr>\n",
       "    <tr>\n",
       "      <th>row_id</th>\n",
       "      <td>0</td>\n",
       "      <td>0</td>\n",
       "    </tr>\n",
       "    <tr>\n",
       "      <th>ability</th>\n",
       "      <td>0</td>\n",
       "      <td>210</td>\n",
       "    </tr>\n",
       "    <tr>\n",
       "      <th>diff</th>\n",
       "      <td>0</td>\n",
       "      <td>2987</td>\n",
       "    </tr>\n",
       "  </tbody>\n",
       "</table>\n",
       "</div>"
      ],
      "text/plain": [
       "                                     0     1\n",
       "user_id                              0     0\n",
       "session_id                           0     0\n",
       "session_no                           0     0\n",
       "topic                                0     0\n",
       "sub_topic                            0     0\n",
       "learning_node                        0     0\n",
       "question_id                          0     0\n",
       "question_type                        0     0\n",
       "session_question_no                  0     0\n",
       "learning_node_question_no            0     0\n",
       "question_difficulty                  0     0\n",
       "question_number_of_choice            0     0\n",
       "question_number_of_correct_choice    0     0\n",
       "question_number_of_correct_selected  0     0\n",
       "question_number_of_wrong_selected    0     0\n",
       "ms_first_response                    0     0\n",
       "is_correct                           0     0\n",
       "row_id                               0     0\n",
       "ability                              0   210\n",
       "diff                                 0  2987"
      ]
     },
     "execution_count": 37,
     "metadata": {},
     "output_type": "execute_result"
    }
   ],
   "source": [
    "# transform from irt input\n",
    "import json\n",
    "\n",
    "f = open(\"train1pl/best_parameters.json\").read()\n",
    "d = json.loads(f)\n",
    "duid = {int(k): int(v) for k, v in d[\"subject_ids\"].items()}\n",
    "dability = dict(zip(map(int, d[\"subject_ids\"].values()), d[\"ability\"]))\n",
    "ddiff = dict(zip(map(int, d[\"item_ids\"].values()), d[\"diff\"]))\n",
    "\n",
    "train1pl = train.copy()\n",
    "valid1pl = valid.copy()\n",
    "test1pl = test.copy()\n",
    "\n",
    "# transform to irt\n",
    "train1pl[\"ability\"] = train1pl.user_id.map(dability)\n",
    "train1pl[\"diff\"] = train1pl.question_id.map(ddiff)\n",
    "\n",
    "valid1pl[\"ability\"] = valid1pl.user_id.map(dability)\n",
    "valid1pl[\"diff\"] = valid1pl.question_id.map(ddiff)\n",
    "\n",
    "test1pl[\"ability\"] = test1pl.user_id.map(dability)\n",
    "test1pl[\"diff\"] = test1pl.question_id.map(ddiff)\n",
    "\n",
    "pd.DataFrame([train1pl.isna().sum(), valid1pl.isna().sum()]).T\n"
   ]
  },
  {
   "cell_type": "markdown",
   "id": "94674009-7ccf-4449-9471-68c96ab47b26",
   "metadata": {},
   "source": [
    "Dapat dilihat di sini adanya missing value pada validation set. Terutama pada `ability` dan `diff` yang merupakan fitur bawaan dari IRT. missing value timbul akibat adanya question_id dan user_id hanya ada pada training set kita. "
   ]
  },
  {
   "cell_type": "code",
   "execution_count": 181,
   "id": "3d29c63c-89d6-4a07-9eb7-cafa8629757c",
   "metadata": {},
   "outputs": [
    {
     "data": {
      "text/plain": [
       "['question_number_of_choice',\n",
       " 'question_id',\n",
       " 'topic',\n",
       " 'question_difficulty',\n",
       " 'question_type',\n",
       " 'learning_node',\n",
       " 'sub_topic',\n",
       " 'ability',\n",
       " 'diff']"
      ]
     },
     "execution_count": 181,
     "metadata": {},
     "output_type": "execute_result"
    }
   ],
   "source": [
    "lis_int2 = list_inter + [ \"ability\", \"diff\", ]\n",
    "drop_cols = [ \"user_id\", \"session_id\", \"session_no\", \"row_id\", \"session_question_no\", \"learning_node_question_no\", \"question_number_of_correct_choice\", ]\n",
    "\n",
    "X_train1pl = train1pl[lis_int2].drop(drop_cols, axis=1)\n",
    "y_train1pl = train1pl.is_correct\n",
    "\n",
    "X_valid1pl = valid1pl[lis_int2].drop(drop_cols, axis=1)\n",
    "y_valid1pl = valid1pl.is_correct\n",
    "\n",
    "X_train1pl.columns.tolist()"
   ]
  },
  {
   "cell_type": "code",
   "execution_count": 39,
   "id": "30cb5a42-23f1-42ac-9ea9-f2b914ba206c",
   "metadata": {},
   "outputs": [
    {
     "data": {
      "application/vnd.jupyter.widget-view+json": {
       "model_id": "b281c60f23a1499ea8246fa6c4b71728",
       "version_major": 2,
       "version_minor": 0
      },
      "text/plain": [
       "MetricVisualizer(layout=Layout(align_self='stretch', height='500px'))"
      ]
     },
     "metadata": {},
     "output_type": "display_data"
    },
    {
     "data": {
      "text/plain": [
       "<catboost.core.CatBoostClassifier at 0x1ca02b61df0>"
      ]
     },
     "execution_count": 39,
     "metadata": {},
     "output_type": "execute_result"
    }
   ],
   "source": [
    "clft1pl = CatBoostClassifier(**CATBOOST_PARAM)\n",
    "clft1pl.fit(\n",
    "    X_train1pl,\n",
    "    y_train1pl,\n",
    "    cat_features,\n",
    "    eval_set=(X_valid1pl, y_valid1pl),\n",
    "    **CATBOOST_FIT_PARAM\n",
    ")\n"
   ]
  },
  {
   "cell_type": "markdown",
   "id": "7d14805f",
   "metadata": {},
   "source": [
    "Di sini kita akan melihat performa validation set dan membandingkan skor AUC terbaik dari imputation yang ada:"
   ]
  },
  {
   "cell_type": "code",
   "execution_count": 182,
   "id": "e2aa6840-9226-4554-b272-195fde6766c5",
   "metadata": {},
   "outputs": [
    {
     "name": "stderr",
     "output_type": "stream",
     "text": [
      "C:\\Users\\mrlut\\AppData\\Local\\Temp/ipykernel_7796/3191904981.py:8: FutureWarning: Dropping of nuisance columns in DataFrame reductions (with 'numeric_only=None') is deprecated; in a future version this will raise TypeError.  Select only valid columns before calling the reduction.\n",
      "  yp = clft1pl.predict_proba(X_valid1pl.fillna(X_valid1pl.mean()))\n",
      "C:\\Users\\mrlut\\AppData\\Local\\Temp/ipykernel_7796/3191904981.py:11: FutureWarning: Dropping of nuisance columns in DataFrame reductions (with 'numeric_only=None') is deprecated; in a future version this will raise TypeError.  Select only valid columns before calling the reduction.\n",
      "  yp = clft1pl.predict_proba(X_valid1pl.fillna(X_valid1pl.median()))\n"
     ]
    },
    {
     "data": {
      "text/plain": [
       "('train, validation(no imputation), validation(impute=mean), validation(impute=median)',\n",
       " (0.8642752092265978,\n",
       "  0.7093973433349632,\n",
       "  0.7286426842554472,\n",
       "  0.7408016706252516))"
      ]
     },
     "execution_count": 182,
     "metadata": {},
     "output_type": "execute_result"
    }
   ],
   "source": [
    "yp = clft1pl.predict_proba(X_train1pl)\n",
    "tr = roc_auc_score(y_train1pl, yp[:, 1])\n",
    "\n",
    "\n",
    "yp = clft1pl.predict_proba(X_valid1pl)\n",
    "va1 = roc_auc_score(y_valid1pl, yp[:, 1])\n",
    "\n",
    "yp = clft1pl.predict_proba(X_valid1pl.fillna(X_valid1pl.mean()))\n",
    "va2 = roc_auc_score(y_valid1pl, yp[:, 1])\n",
    "\n",
    "yp = clft1pl.predict_proba(X_valid1pl.fillna(X_valid1pl.median()))\n",
    "va3 = roc_auc_score(y_valid1pl, yp[:, 1])\n",
    "# yp2=clf.predict_proba(X_test)\n",
    "# te=roc_auc_score(y_test,yp2[:,1])\n",
    "\n",
    "\n",
    "(\n",
    "    \"train, validation(no imputation), validation(impute=mean), validation(impute=median)\",\n",
    "    (tr, va1, va2, va3),\n",
    ")\n"
   ]
  },
  {
   "cell_type": "markdown",
   "id": "f4e1fc86-36f9-48bc-9666-01e4464e1ec1",
   "metadata": {},
   "source": [
    "Dari sini didapatkan bahwa imputasi dengan median jauh lebih baik daripada imputasi dengan mean\n",
    "\n",
    "#### Validation"
   ]
  },
  {
   "cell_type": "code",
   "execution_count": 183,
   "id": "bbfa3e1d-638a-4084-bc50-f13aab468cb7",
   "metadata": {},
   "outputs": [
    {
     "name": "stderr",
     "output_type": "stream",
     "text": [
      "C:\\Users\\mrlut\\AppData\\Local\\Temp/ipykernel_7796/2542633026.py:8: FutureWarning: Dropping of nuisance columns in DataFrame reductions (with 'numeric_only=None') is deprecated; in a future version this will raise TypeError.  Select only valid columns before calling the reduction.\n",
      "  yp = clft1pl.predict_proba(X_valid1pl.fillna(X_valid1pl.mean()))\n",
      "C:\\Users\\mrlut\\AppData\\Local\\Temp/ipykernel_7796/2542633026.py:11: FutureWarning: Dropping of nuisance columns in DataFrame reductions (with 'numeric_only=None') is deprecated; in a future version this will raise TypeError.  Select only valid columns before calling the reduction.\n",
      "  yp = clft1pl.predict_proba(X_valid1pl.fillna(X_valid1pl.median()))\n"
     ]
    },
    {
     "data": {
      "text/plain": [
       "(0.8642752092265978,\n",
       " 0.7093973433349632,\n",
       " 0.7286426842554472,\n",
       " 0.7408016706252516)"
      ]
     },
     "execution_count": 183,
     "metadata": {},
     "output_type": "execute_result"
    }
   ],
   "source": [
    "yp = clft1pl.predict_proba(X_train1pl)\n",
    "tr = roc_auc_score(y_train1pl, yp[:, 1])\n",
    "\n",
    "\n",
    "yp = clft1pl.predict_proba(X_valid1pl)\n",
    "va1 = roc_auc_score(y_valid1pl, yp[:, 1])\n",
    "\n",
    "yp = clft1pl.predict_proba(X_valid1pl.fillna(X_valid1pl.mean()))\n",
    "va2 = roc_auc_score(y_valid1pl, yp[:, 1])\n",
    "\n",
    "yp = clft1pl.predict_proba(X_valid1pl.fillna(X_valid1pl.median()))\n",
    "va3 = roc_auc_score(y_valid1pl, yp[:, 1])\n",
    "\n",
    "tr, va1, va2, va3\n"
   ]
  },
  {
   "cell_type": "markdown",
   "id": "15228511-3174-4d0e-ab24-7e5823afd7af",
   "metadata": {},
   "source": [
    "#### Test"
   ]
  },
  {
   "cell_type": "code",
   "execution_count": 184,
   "id": "312e4494-3c97-4b09-9c76-7a8a2876e398",
   "metadata": {},
   "outputs": [
    {
     "name": "stderr",
     "output_type": "stream",
     "text": [
      "C:\\Users\\mrlut\\AppData\\Local\\Temp/ipykernel_7796/1817959673.py:8: FutureWarning: Dropping of nuisance columns in DataFrame reductions (with 'numeric_only=None') is deprecated; in a future version this will raise TypeError.  Select only valid columns before calling the reduction.\n",
      "  yp = clft1pl.predict_proba(X_test1pl.fillna(X_test1pl.mean()))\n",
      "C:\\Users\\mrlut\\AppData\\Local\\Temp/ipykernel_7796/1817959673.py:11: FutureWarning: Dropping of nuisance columns in DataFrame reductions (with 'numeric_only=None') is deprecated; in a future version this will raise TypeError.  Select only valid columns before calling the reduction.\n",
      "  yp = clft1pl.predict_proba(X_test1pl.fillna(X_test1pl.median()))\n"
     ]
    },
    {
     "data": {
      "text/plain": [
       "(0.8642752092265978, 0.708663269815445, 0.7297388954512897, 0.743569630200682)"
      ]
     },
     "execution_count": 184,
     "metadata": {},
     "output_type": "execute_result"
    }
   ],
   "source": [
    "X_test1pl = test1pl[lis_int2].drop(drop_cols, axis=1)\n",
    "y_test1pl = test1pl.is_correct\n",
    "\n",
    "\n",
    "yp = clft1pl.predict_proba(X_test1pl)\n",
    "te1 = roc_auc_score(y_test1pl, yp[:, 1])\n",
    "\n",
    "yp = clft1pl.predict_proba(X_test1pl.fillna(X_test1pl.mean()))\n",
    "te2 = roc_auc_score(y_test1pl, yp[:, 1])\n",
    "\n",
    "yp = clft1pl.predict_proba(X_test1pl.fillna(X_test1pl.median()))\n",
    "te3 = roc_auc_score(y_test1pl, yp[:, 1])\n",
    "# yp2=clf.predict_proba(X_test)\n",
    "# te=roc_auc_score(y_test,yp2[:,1])\n",
    "\n",
    "ypred1pl=yp\n",
    "\n",
    "tr, te1, te2, te3\n"
   ]
  },
  {
   "cell_type": "markdown",
   "id": "8a427de0-01cb-4a91-83be-eba9807665bd",
   "metadata": {},
   "source": [
    "### IRT-2L-not-multiplied on split"
   ]
  },
  {
   "cell_type": "code",
   "execution_count": 43,
   "id": "8bd6d8dc-e3dd-44a6-b686-89844fde8399",
   "metadata": {},
   "outputs": [
    {
     "name": "stdout",
     "output_type": "stream",
     "text": [
      "[19:42:34] config: model_type='2pl' epochs=2000 priors=None           cli.py:66\n",
      "           initializers=[] dims=None lr=0.1 lr_decay=0.9999                    \n",
      "           dropout=0.5 hidden=100 vocab_size=None                              \n",
      "           data_path: trainsplit.jsonl                                cli.py:68\n",
      "           output directory: train2pl                                 cli.py:69\n",
      "False\n",
      "None\n",
      "[19:42:36] Training Model...                                          cli.py:73\n",
      "{'device': 'cpu', 'num_items': 26206, 'num_subjects': 6723}\n",
      "[19:42:36] Parsed Model Args: {'device': 'cpu', 'num_items':    training.py:124\n",
      "           26206, 'num_subjects': 6723, 'priors': 'vague',                     \n",
      "           'dropout': 0.5, 'hidden': 100, 'vocab_size': None}                  \n",
      "torch.Size([120884]) torch.Size([120884])\n",
      "Training Pyro IRT Model for 2000 epochs\n",
      "+--------------------------------------------------+\n",
      "| Epoch | Loss           | Best Loss      | New LR |\n",
      "|-------+----------------+----------------+--------|\n",
      "| 1     | 132972863.1641 | 132972863.1641 | 0.1000 |\n",
      "| 101   | 1963107.5371   | 1963107.5371   | 0.0990 |\n",
      "| 201   | 872718.8926    | 865191.2373    | 0.0980 |\n",
      "| 301   | 529014.9004    | 520534.6934    | 0.0970 |\n",
      "| 401   | 370346.2910    | 369229.9141    | 0.0961 |\n",
      "| 501   | 284350.1025    | 282745.6416    | 0.0951 |\n",
      "| 601   | 226321.8008    | 226321.8008    | 0.0942 |\n",
      "| 701   | 193796.6470    | 193796.6470    | 0.0932 |\n",
      "| 801   | 169279.6021    | 169279.6021    | 0.0923 |\n",
      "| 901   | 154296.8359    | 153101.8120    | 0.0914 |\n",
      "| 1001  | 141145.0959    | 139454.9723    | 0.0905 |\n",
      "| 1101  | 131022.5323    | 130273.6011    | 0.0896 |\n",
      "| 1201  | 122547.8706    | 122547.8706    | 0.0887 |\n",
      "| 1301  | 116102.9043    | 116034.2329    | 0.0878 |\n",
      "| 1401  | 111368.5352    | 111368.5352    | 0.0869 |\n",
      "| 1501  | 107356.8091    | 107356.8091    | 0.0861 |\n",
      "| 1601  | 104333.3901    | 104316.9712    | 0.0852 |\n",
      "| 1701  | 101147.9404    | 101147.9404    | 0.0844 |\n",
      "| 1801  | 99088.8330     | 99077.3423     | 0.0835 |\n",
      "| 1901  | 97222.0048     | 97222.0048     | 0.0827 |\n",
      "| 2000  | 95473.9515     | 95473.9515     | 0.0819 |\n",
      "+--------------------------------------------------+[19:43:40] Train time: 66.44724488258362                              cli.py:79\n"
     ]
    }
   ],
   "source": [
    "!py-irt train 2pl trainsplit.jsonl train2pl\n"
   ]
  },
  {
   "cell_type": "code",
   "execution_count": 170,
   "id": "254b6d01",
   "metadata": {},
   "outputs": [
    {
     "data": {
      "text/plain": [
       "Index(['question_number_of_choice', 'question_id', 'topic',\n",
       "       'question_difficulty', 'question_type', 'learning_node', 'sub_topic',\n",
       "       'ability', 'diff', 'disc'],\n",
       "      dtype='object')"
      ]
     },
     "execution_count": 170,
     "metadata": {},
     "output_type": "execute_result"
    }
   ],
   "source": [
    "# transform from irt input\n",
    "import json\n",
    "\n",
    "f = open(\"train2pl/best_parameters.json\").read()\n",
    "d = json.loads(f)\n",
    "duid = {int(k): int(v) for k, v in d[\"subject_ids\"].items()}\n",
    "dability = dict(zip(map(int, d[\"subject_ids\"].values()), d[\"ability\"]))\n",
    "ddiff = dict(zip(map(int, d[\"item_ids\"].values()), d[\"diff\"]))\n",
    "ddisc = dict(zip(map(int, d[\"item_ids\"].values()), d[\"disc\"]))\n",
    "\n",
    "train2pl = train.copy()\n",
    "valid2pl = valid.copy()\n",
    "test2pl = test.copy()\n",
    "\n",
    "# transform to irt\n",
    "train2pl[\"ability\"] = train2pl.user_id.map(dability)\n",
    "train2pl[\"diff\"] = train2pl.question_id.map(ddiff)\n",
    "train2pl[\"disc\"] = train2pl.question_id.map(ddisc)\n",
    "# train3['lambdas'] =train3.question_id.map(dlambdas)\n",
    "\n",
    "valid2pl[\"ability\"] = valid2pl.user_id.map(dability)\n",
    "valid2pl[\"diff\"] = valid2pl.question_id.map(ddiff)\n",
    "valid2pl[\"disc\"] = valid2pl.question_id.map(ddisc)\n",
    "# valid3['lambdas'] =valid3.question_id.map(dlambdas)\n",
    "\n",
    "test2pl[\"ability\"] = test2pl.user_id.map(dability)\n",
    "test2pl[\"diff\"] = test2pl.question_id.map(ddiff)\n",
    "test2pl[\"disc\"] = test2pl.question_id.map(ddisc)\n",
    "\n",
    "lis_int2 = list_inter + [\"ability\", \"diff\", \"disc\"]\n",
    "\n",
    "X_train2pl = train2pl[lis_int2].drop(drop_cols, axis=1)\n",
    "y_train2pl = train2pl.is_correct\n",
    "\n",
    "X_valid2pl = valid2pl[lis_int2].drop(drop_cols, axis=1)\n",
    "y_valid2pl = valid2pl.is_correct\n",
    "\n",
    "X_train2pl.columns\n"
   ]
  },
  {
   "cell_type": "code",
   "execution_count": 45,
   "id": "5434709c",
   "metadata": {},
   "outputs": [
    {
     "data": {
      "application/vnd.jupyter.widget-view+json": {
       "model_id": "1ddc255938204ef6837c0eb2df2f0ca9",
       "version_major": 2,
       "version_minor": 0
      },
      "text/plain": [
       "MetricVisualizer(layout=Layout(align_self='stretch', height='500px'))"
      ]
     },
     "metadata": {},
     "output_type": "display_data"
    },
    {
     "data": {
      "text/plain": [
       "<catboost.core.CatBoostClassifier at 0x1ca02b76910>"
      ]
     },
     "execution_count": 45,
     "metadata": {},
     "output_type": "execute_result"
    }
   ],
   "source": [
    "clft2pl = CatBoostClassifier(**CATBOOST_PARAM)\n",
    "clft2pl.fit(\n",
    "    X_train2pl,\n",
    "    y_train2pl,\n",
    "    cat_features,\n",
    "    eval_set=(X_valid2pl, y_valid2pl),\n",
    "    **CATBOOST_FIT_PARAM\n",
    ")\n"
   ]
  },
  {
   "cell_type": "code",
   "execution_count": 171,
   "id": "8a6acd69-3154-4eef-aa12-9da9cf640f10",
   "metadata": {},
   "outputs": [
    {
     "data": {
      "text/html": [
       "<div>\n",
       "<style scoped>\n",
       "    .dataframe tbody tr th:only-of-type {\n",
       "        vertical-align: middle;\n",
       "    }\n",
       "\n",
       "    .dataframe tbody tr th {\n",
       "        vertical-align: top;\n",
       "    }\n",
       "\n",
       "    .dataframe thead th {\n",
       "        text-align: right;\n",
       "    }\n",
       "</style>\n",
       "<table border=\"1\" class=\"dataframe\">\n",
       "  <thead>\n",
       "    <tr style=\"text-align: right;\">\n",
       "      <th></th>\n",
       "      <th>0</th>\n",
       "      <th>1</th>\n",
       "    </tr>\n",
       "  </thead>\n",
       "  <tbody>\n",
       "    <tr>\n",
       "      <th>0</th>\n",
       "      <td>question_number_of_choice</td>\n",
       "      <td>2.71652</td>\n",
       "    </tr>\n",
       "    <tr>\n",
       "      <th>1</th>\n",
       "      <td>question_id</td>\n",
       "      <td>12.48858</td>\n",
       "    </tr>\n",
       "    <tr>\n",
       "      <th>2</th>\n",
       "      <td>topic</td>\n",
       "      <td>10.386266</td>\n",
       "    </tr>\n",
       "    <tr>\n",
       "      <th>3</th>\n",
       "      <td>question_difficulty</td>\n",
       "      <td>1.895613</td>\n",
       "    </tr>\n",
       "    <tr>\n",
       "      <th>4</th>\n",
       "      <td>question_type</td>\n",
       "      <td>0.0</td>\n",
       "    </tr>\n",
       "    <tr>\n",
       "      <th>5</th>\n",
       "      <td>learning_node</td>\n",
       "      <td>7.766993</td>\n",
       "    </tr>\n",
       "    <tr>\n",
       "      <th>6</th>\n",
       "      <td>sub_topic</td>\n",
       "      <td>2.093</td>\n",
       "    </tr>\n",
       "    <tr>\n",
       "      <th>7</th>\n",
       "      <td>ability</td>\n",
       "      <td>32.734463</td>\n",
       "    </tr>\n",
       "    <tr>\n",
       "      <th>8</th>\n",
       "      <td>diff</td>\n",
       "      <td>1.86562</td>\n",
       "    </tr>\n",
       "    <tr>\n",
       "      <th>9</th>\n",
       "      <td>disc</td>\n",
       "      <td>28.052944</td>\n",
       "    </tr>\n",
       "  </tbody>\n",
       "</table>\n",
       "</div>"
      ],
      "text/plain": [
       "                           0          1\n",
       "0  question_number_of_choice    2.71652\n",
       "1                question_id   12.48858\n",
       "2                      topic  10.386266\n",
       "3        question_difficulty   1.895613\n",
       "4              question_type        0.0\n",
       "5              learning_node   7.766993\n",
       "6                  sub_topic      2.093\n",
       "7                    ability  32.734463\n",
       "8                       diff    1.86562\n",
       "9                       disc  28.052944"
      ]
     },
     "execution_count": 171,
     "metadata": {},
     "output_type": "execute_result"
    }
   ],
   "source": [
    "pd.DataFrame([clft2pl.feature_names_,clft2pl.get_feature_importance()]).T "
   ]
  },
  {
   "cell_type": "markdown",
   "id": "c15a9ee0-e75b-43b3-b0a8-b44be5c49fb6",
   "metadata": {},
   "source": [
    "Di sini kita akan melihat performa validation set dan membandingkan skor AUC terbaik dari imputation yang ada:"
   ]
  },
  {
   "cell_type": "markdown",
   "id": "81c91066-060d-4f7b-bc3f-01d5824f4705",
   "metadata": {},
   "source": [
    "#### Validation"
   ]
  },
  {
   "cell_type": "code",
   "execution_count": 172,
   "id": "ddc62d76-6859-45aa-94ec-7d4b2f063c8e",
   "metadata": {},
   "outputs": [
    {
     "name": "stderr",
     "output_type": "stream",
     "text": [
      "C:\\Users\\mrlut\\AppData\\Local\\Temp/ipykernel_7796/3928407146.py:8: FutureWarning: Dropping of nuisance columns in DataFrame reductions (with 'numeric_only=None') is deprecated; in a future version this will raise TypeError.  Select only valid columns before calling the reduction.\n",
      "  yp = clft2pl.predict_proba(X_valid2pl.fillna(X_valid2pl.mean()))\n",
      "C:\\Users\\mrlut\\AppData\\Local\\Temp/ipykernel_7796/3928407146.py:11: FutureWarning: Dropping of nuisance columns in DataFrame reductions (with 'numeric_only=None') is deprecated; in a future version this will raise TypeError.  Select only valid columns before calling the reduction.\n",
      "  yp = clft2pl.predict_proba(X_valid2pl.fillna(X_valid2pl.median()))\n",
      "C:\\Users\\mrlut\\AppData\\Local\\Temp/ipykernel_7796/3928407146.py:15: FutureWarning: Dropping of nuisance columns in DataFrame reductions (with 'numeric_only=None') is deprecated; in a future version this will raise TypeError.  Select only valid columns before calling the reduction.\n",
      "  yp = clft2pl.predict_proba(X_valid2pl.fillna(X_valid2pl.median()))\n"
     ]
    },
    {
     "data": {
      "text/plain": [
       "(0.8358168146587883,\n",
       " 0.7455259127421425,\n",
       " 0.7431934273320104,\n",
       " 0.7433257428390534)"
      ]
     },
     "execution_count": 172,
     "metadata": {},
     "output_type": "execute_result"
    }
   ],
   "source": [
    "yp = clft2pl.predict_proba(X_train2pl)\n",
    "tr = roc_auc_score(y_train2pl, yp[:, 1])\n",
    "\n",
    "\n",
    "yp = clft2pl.predict_proba(X_valid2pl)\n",
    "va1 = roc_auc_score(y_valid2pl, yp[:, 1])\n",
    "\n",
    "yp = clft2pl.predict_proba(X_valid2pl.fillna(X_valid2pl.mean()))\n",
    "va2 = roc_auc_score(y_valid2pl, yp[:, 1])\n",
    "\n",
    "yp = clft2pl.predict_proba(X_valid2pl.fillna(X_valid2pl.median()))\n",
    "va3 = roc_auc_score(y_valid2pl, yp[:, 1])\n",
    "\n",
    "\n",
    "yp = clft2pl.predict_proba(X_valid2pl.fillna(X_valid2pl.median()))\n",
    "va4 = roc_auc_score(y_valid2pl, yp[:, 1])\n",
    "\n",
    "tr, va1, va2, va4\n"
   ]
  },
  {
   "cell_type": "markdown",
   "id": "b3085ba9-c3e8-4b6a-a07f-aa97bad72973",
   "metadata": {},
   "source": [
    "Bagaimana jika kita menggunakan strategi imputasi lain? Tidak dengan median keseluruhan kolom, tapi dengan median per `question_difficulty`  \n",
    "Hipotesis ini berasal dari korelasi mean `diff` IRT terhadap `question_difficulty` dari dataset."
   ]
  },
  {
   "cell_type": "code",
   "execution_count": 173,
   "id": "10b2ca6b-5b68-4fc6-ab36-999bd1dcb384",
   "metadata": {},
   "outputs": [
    {
     "data": {
      "text/plain": [
       "91430    -0.003478\n",
       "266012   -0.006321\n",
       "286230   -0.006321\n",
       "129075   -0.006321\n",
       "70552    -0.006321\n",
       "            ...   \n",
       "264702   -0.003478\n",
       "26200    -0.003478\n",
       "134385   -0.003478\n",
       "190743   -0.003478\n",
       "9951     -0.006321\n",
       "Name: diff, Length: 57378, dtype: float64"
      ]
     },
     "execution_count": 173,
     "metadata": {},
     "output_type": "execute_result"
    }
   ],
   "source": [
    "X_valid2pl.groupby(\"question_difficulty\")[\"diff\"].transform(\"median\")\n"
   ]
  },
  {
   "cell_type": "code",
   "execution_count": 174,
   "id": "83133c46-2860-4c1c-94f6-b1dbdb702332",
   "metadata": {},
   "outputs": [
    {
     "data": {
      "text/plain": [
       "0.746364208172364"
      ]
     },
     "execution_count": 174,
     "metadata": {},
     "output_type": "execute_result"
    }
   ],
   "source": [
    "xx2 = X_valid2pl.copy()\n",
    "xx2[\"diff\"] = X_valid2pl[\"diff\"].fillna(\n",
    "    X_valid2pl.groupby(\"question_difficulty\")[\"diff\"].transform(\"median\")\n",
    ")\n",
    "yp = clft2pl.predict_proba(xx2)\n",
    "roc_auc_score(y_valid2pl, yp[:, 1])\n"
   ]
  },
  {
   "cell_type": "code",
   "execution_count": 175,
   "id": "a774f935-44cd-418d-8805-51f49dbe33be",
   "metadata": {},
   "outputs": [
    {
     "data": {
      "text/plain": [
       "0.7480469192220993"
      ]
     },
     "execution_count": 175,
     "metadata": {},
     "output_type": "execute_result"
    }
   ],
   "source": [
    "xx3 = X_valid2pl.copy()\n",
    "xx3[\"diff\"] = X_valid2pl[\"diff\"].fillna(\n",
    "    X_valid2pl.groupby(\"question_difficulty\")[\"diff\"].transform(\"median\")\n",
    ")\n",
    "xx3[\"disc\"] = X_valid2pl[\"disc\"].fillna(\n",
    "    X_valid2pl.groupby(\"question_difficulty\")[\"disc\"].transform(\"median\")\n",
    ")\n",
    "yp = clft2pl.predict_proba(xx3)\n",
    "roc_auc_score(y_valid2pl, yp[:, 1])\n"
   ]
  },
  {
   "cell_type": "markdown",
   "id": "928b0ac5-1c5a-40c2-b60c-b577ff3ce67d",
   "metadata": {},
   "source": [
    "Dapat dilihat ternyata terjadi peningkatan dengan metode imputasi median_per_kategori dibandingkan median_keseluruhan"
   ]
  },
  {
   "cell_type": "markdown",
   "id": "2fbef3d7-67ed-4e80-b528-673e099ab6b8",
   "metadata": {},
   "source": [
    "#### Test"
   ]
  },
  {
   "cell_type": "code",
   "execution_count": 179,
   "id": "f7205d0e-4791-4bdb-acad-6991bede5c1e",
   "metadata": {},
   "outputs": [
    {
     "name": "stderr",
     "output_type": "stream",
     "text": [
      "C:\\Users\\mrlut\\AppData\\Local\\Temp/ipykernel_7796/574799565.py:11: FutureWarning: Dropping of nuisance columns in DataFrame reductions (with 'numeric_only=None') is deprecated; in a future version this will raise TypeError.  Select only valid columns before calling the reduction.\n",
      "  yp = clft2pl.predict_proba(X_test2pl.fillna(X_test2pl.mean()))\n",
      "C:\\Users\\mrlut\\AppData\\Local\\Temp/ipykernel_7796/574799565.py:14: FutureWarning: Dropping of nuisance columns in DataFrame reductions (with 'numeric_only=None') is deprecated; in a future version this will raise TypeError.  Select only valid columns before calling the reduction.\n",
      "  yp = clft2pl.predict_proba(X_test2pl.fillna(X_test2pl.median()))\n"
     ]
    },
    {
     "data": {
      "text/plain": [
       "(0.8358168146587883,\n",
       " 0.7456632673376229,\n",
       " 0.7425097788840554,\n",
       " 0.7441392583210534)"
      ]
     },
     "execution_count": 179,
     "metadata": {},
     "output_type": "execute_result"
    }
   ],
   "source": [
    "X_test2pl = test2pl[lis_int2].drop(drop_cols, axis=1)\n",
    "y_test2pl = test2pl.is_correct\n",
    "\n",
    "yp = clft2pl.predict_proba(X_train2pl)\n",
    "tr = roc_auc_score(y_train2pl, yp[:, 1])\n",
    "\n",
    "\n",
    "yp = clft2pl.predict_proba(X_test2pl)\n",
    "te1 = roc_auc_score(y_test2pl, yp[:, 1])\n",
    "\n",
    "yp = clft2pl.predict_proba(X_test2pl.fillna(X_test2pl.mean()))\n",
    "te2 = roc_auc_score(y_test2pl, yp[:, 1])\n",
    "\n",
    "yp = clft2pl.predict_proba(X_test2pl.fillna(X_test2pl.median()))\n",
    "te3 = roc_auc_score(y_test2pl, yp[:, 1])\n",
    "# yp2=clf.predict_proba(X_test)\n",
    "# te=roc_auc_score(y_test,yp2[:,1])\n",
    "\n",
    "ypred2plnotmul=yp\n",
    "\n",
    "tr, te1, te2, te3\n"
   ]
  },
  {
   "cell_type": "code",
   "execution_count": 177,
   "id": "e026ce48-a377-4908-a39f-a8b62d00c4ba",
   "metadata": {},
   "outputs": [
    {
     "name": "stdout",
     "output_type": "stream",
     "text": [
      "question_number_of_choice       0\n",
      "question_id                     0\n",
      "topic                           0\n",
      "question_difficulty             0\n",
      "question_type                   0\n",
      "learning_node                   0\n",
      "sub_topic                       0\n",
      "ability                       213\n",
      "diff                         3041\n",
      "disc                         3041\n",
      "dtype: int64\n"
     ]
    },
    {
     "data": {
      "text/plain": [
       "0.7456632673376229"
      ]
     },
     "execution_count": 177,
     "metadata": {},
     "output_type": "execute_result"
    }
   ],
   "source": [
    "xxtest3 = X_test2pl.copy()\n",
    "xxtest3[\"diff\"] = xxtest3[\"diff\"].fillna(\n",
    "    X_valid2pl.groupby(\"question_difficulty\")[\"diff\"].transform(\"median\")\n",
    ")\n",
    "xxtest3[\"disc\"] = xxtest3[\"disc\"].fillna(\n",
    "    X_valid2pl.groupby(\"question_difficulty\")[\"disc\"].transform(\"median\")\n",
    ")\n",
    "# xxtest3=xxtest3.fillna(xxtest3.median())\n",
    "print(xxtest3.isna().sum())\n",
    "yp = clft2pl.predict_proba(xxtest3)\n",
    "roc_auc_score(y_test2pl, yp[:, 1])\n"
   ]
  },
  {
   "cell_type": "code",
   "execution_count": null,
   "id": "6af591ab-72ee-4439-9361-cdffa735944a",
   "metadata": {},
   "outputs": [],
   "source": []
  },
  {
   "cell_type": "markdown",
   "id": "1871ffde-9fc6-4b82-a05e-8aa83f78a53f",
   "metadata": {},
   "source": [
    "### IRT-2PL-multiplied on split"
   ]
  },
  {
   "cell_type": "code",
   "execution_count": 136,
   "id": "df543e2d-8e71-4678-9021-027bfe4ee688",
   "metadata": {},
   "outputs": [
    {
     "data": {
      "text/plain": [
       "Index(['question_number_of_choice', 'question_id', 'topic',\n",
       "       'question_difficulty', 'question_type', 'learning_node', 'sub_topic',\n",
       "       'abilitydisc', 'diffdisc'],\n",
       "      dtype='object')"
      ]
     },
     "execution_count": 136,
     "metadata": {},
     "output_type": "execute_result"
    }
   ],
   "source": [
    "import json\n",
    "\n",
    "f = open(\"train2pl/best_parameters.json\").read()\n",
    "d = json.loads(f)\n",
    "duid = {int(k): int(v) for k, v in d[\"subject_ids\"].items()}\n",
    "dability = dict(zip(map(int, d[\"subject_ids\"].values()), d[\"ability\"]))\n",
    "ddiff = dict(zip(map(int, d[\"item_ids\"].values()), d[\"diff\"]))\n",
    "ddisc = dict(zip(map(int, d[\"item_ids\"].values()), d[\"disc\"]))\n",
    "\n",
    "train2plmul = train.copy()\n",
    "valid2plmul = valid.copy()\n",
    "test2plmul = test.copy()\n",
    "\n",
    "# transform to irt\n",
    "traindisc = train2pl.question_id.map(ddisc)\n",
    "valdisc = valid2pl.question_id.map(ddisc)\n",
    "\n",
    "traindisc = traindisc.fillna(traindisc.median())\n",
    "valdisc = valdisc.fillna(traindisc.median())\n",
    "\n",
    "train2plmul[\"abilitydisc\"] = train2pl.user_id.map(dability) * traindisc\n",
    "train2plmul[\"diffdisc\"] = train2pl.question_id.map(ddiff) * traindisc\n",
    "\n",
    "valid2plmul[\"abilitydisc\"] = valid2pl.user_id.map(dability) * valdisc\n",
    "valid2plmul[\"diffdisc\"] = valid2pl.question_id.map(ddiff) * valdisc\n",
    "\n",
    "# train2plmul[\"abilitydisc\"] = train2pl.user_id.map(dability) * train2pl.question_id.map(ddisc)\n",
    "# train2plmul[\"diffdisc\"] = train2pl.question_id.map(ddiff) * train2pl.question_id.map(ddisc)\n",
    "\n",
    "lis_int3 = list_inter + [\"abilitydisc\", \"diffdisc\",]\n",
    "\n",
    "X_train2plmul = train2plmul[lis_int3].drop(drop_cols, axis=1)\n",
    "y_train2plmul = train2plmul.is_correct\n",
    "\n",
    "X_valid2plmul = valid2plmul[lis_int3].drop(drop_cols, axis=1)\n",
    "y_valid2plmul = valid2plmul.is_correct\n",
    "\n",
    "X_train2plmul.columns\n"
   ]
  },
  {
   "cell_type": "code",
   "execution_count": 137,
   "id": "83bf4a2c-e0eb-4167-ad76-ef578601c830",
   "metadata": {},
   "outputs": [
    {
     "data": {
      "text/plain": [
       "0.02954752743244171"
      ]
     },
     "execution_count": 137,
     "metadata": {},
     "output_type": "execute_result"
    }
   ],
   "source": [
    "train2pl.question_id.map(ddisc).median()"
   ]
  },
  {
   "cell_type": "code",
   "execution_count": 138,
   "id": "d11e2ec0-5a7a-4284-b952-51fd1c4d2a49",
   "metadata": {},
   "outputs": [
    {
     "data": {
      "text/plain": [
       "<seaborn.axisgrid.FacetGrid at 0x1ca6ce74fd0>"
      ]
     },
     "execution_count": 138,
     "metadata": {},
     "output_type": "execute_result"
    },
    {
     "data": {
      "image/png": "[encoded data removed]",
      "text/plain": [
       "<Figure size 360x360 with 1 Axes>"
      ]
     },
     "metadata": {},
     "output_type": "display_data"
    }
   ],
   "source": [
    "sns.displot(train2pl.question_id.map(ddisc))"
   ]
  },
  {
   "cell_type": "code",
   "execution_count": 139,
   "id": "2cc15d57-9ef6-407a-9734-a2b4589128d3",
   "metadata": {},
   "outputs": [
    {
     "data": {
      "text/plain": [
       "user_id                                   0\n",
       "session_id                                0\n",
       "session_no                                0\n",
       "topic                                     0\n",
       "sub_topic                                 0\n",
       "learning_node                             0\n",
       "question_id                               0\n",
       "question_type                             0\n",
       "session_question_no                       0\n",
       "learning_node_question_no                 0\n",
       "question_difficulty                       0\n",
       "question_number_of_choice                 0\n",
       "question_number_of_correct_choice         0\n",
       "question_number_of_correct_selected       0\n",
       "question_number_of_wrong_selected         0\n",
       "ms_first_response                         0\n",
       "is_correct                                0\n",
       "row_id                                    0\n",
       "abilitydisc                             210\n",
       "diffdisc                               2987\n",
       "dtype: int64"
      ]
     },
     "execution_count": 139,
     "metadata": {},
     "output_type": "execute_result"
    }
   ],
   "source": [
    "valid2plmul.isna().sum()"
   ]
  },
  {
   "cell_type": "code",
   "execution_count": 140,
   "id": "a7660233-2317-482a-8c9d-1cf87e645998",
   "metadata": {},
   "outputs": [
    {
     "data": {
      "application/vnd.jupyter.widget-view+json": {
       "model_id": "922f4f09616d452cb576853f3ca29fd8",
       "version_major": 2,
       "version_minor": 0
      },
      "text/plain": [
       "MetricVisualizer(layout=Layout(align_self='stretch', height='500px'))"
      ]
     },
     "metadata": {},
     "output_type": "display_data"
    },
    {
     "data": {
      "text/plain": [
       "<catboost.core.CatBoostClassifier at 0x1ca08e50460>"
      ]
     },
     "execution_count": 140,
     "metadata": {},
     "output_type": "execute_result"
    }
   ],
   "source": [
    "clft2plmul = CatBoostClassifier(**CATBOOST_PARAM)\n",
    "clft2plmul.fit(\n",
    "    X_train2plmul,\n",
    "    y_train2plmul,\n",
    "    cat_features,\n",
    "    eval_set=(X_valid2plmul, y_valid2plmul),\n",
    "    **CATBOOST_FIT_PARAM\n",
    ")\n"
   ]
  },
  {
   "cell_type": "code",
   "execution_count": 144,
   "id": "b5f22bd3-23d4-44bd-8bb2-87013833426a",
   "metadata": {},
   "outputs": [
    {
     "data": {
      "text/html": [
       "<div>\n",
       "<style scoped>\n",
       "    .dataframe tbody tr th:only-of-type {\n",
       "        vertical-align: middle;\n",
       "    }\n",
       "\n",
       "    .dataframe tbody tr th {\n",
       "        vertical-align: top;\n",
       "    }\n",
       "\n",
       "    .dataframe thead th {\n",
       "        text-align: right;\n",
       "    }\n",
       "</style>\n",
       "<table border=\"1\" class=\"dataframe\">\n",
       "  <thead>\n",
       "    <tr style=\"text-align: right;\">\n",
       "      <th></th>\n",
       "      <th>0</th>\n",
       "      <th>1</th>\n",
       "    </tr>\n",
       "  </thead>\n",
       "  <tbody>\n",
       "    <tr>\n",
       "      <th>0</th>\n",
       "      <td>question_number_of_choice</td>\n",
       "      <td>3.58158</td>\n",
       "    </tr>\n",
       "    <tr>\n",
       "      <th>1</th>\n",
       "      <td>question_id</td>\n",
       "      <td>16.511198</td>\n",
       "    </tr>\n",
       "    <tr>\n",
       "      <th>2</th>\n",
       "      <td>topic</td>\n",
       "      <td>12.047959</td>\n",
       "    </tr>\n",
       "    <tr>\n",
       "      <th>3</th>\n",
       "      <td>question_difficulty</td>\n",
       "      <td>1.654876</td>\n",
       "    </tr>\n",
       "    <tr>\n",
       "      <th>4</th>\n",
       "      <td>question_type</td>\n",
       "      <td>0.0</td>\n",
       "    </tr>\n",
       "    <tr>\n",
       "      <th>5</th>\n",
       "      <td>learning_node</td>\n",
       "      <td>13.890644</td>\n",
       "    </tr>\n",
       "    <tr>\n",
       "      <th>6</th>\n",
       "      <td>sub_topic</td>\n",
       "      <td>2.164407</td>\n",
       "    </tr>\n",
       "    <tr>\n",
       "      <th>7</th>\n",
       "      <td>abilitydisc</td>\n",
       "      <td>42.890872</td>\n",
       "    </tr>\n",
       "    <tr>\n",
       "      <th>8</th>\n",
       "      <td>diffdisc</td>\n",
       "      <td>7.258464</td>\n",
       "    </tr>\n",
       "  </tbody>\n",
       "</table>\n",
       "</div>"
      ],
      "text/plain": [
       "                           0          1\n",
       "0  question_number_of_choice    3.58158\n",
       "1                question_id  16.511198\n",
       "2                      topic  12.047959\n",
       "3        question_difficulty   1.654876\n",
       "4              question_type        0.0\n",
       "5              learning_node  13.890644\n",
       "6                  sub_topic   2.164407\n",
       "7                abilitydisc  42.890872\n",
       "8                   diffdisc   7.258464"
      ]
     },
     "execution_count": 144,
     "metadata": {},
     "output_type": "execute_result"
    }
   ],
   "source": [
    "pd.DataFrame([clft2plmul.feature_names_,clft2plmul.get_feature_importance()]).T "
   ]
  },
  {
   "cell_type": "markdown",
   "id": "52aacf10-07d6-496c-847b-4ac347f5fc59",
   "metadata": {},
   "source": [
    "### IRT-4PL-not-multiplied on split"
   ]
  },
  {
   "cell_type": "code",
   "execution_count": 51,
   "id": "12957d86-23a2-4b7f-8ac5-421f8ce6d9c2",
   "metadata": {},
   "outputs": [
    {
     "name": "stdout",
     "output_type": "stream",
     "text": [
      "[19:45:03] config: model_type='4pl' epochs=2000 priors=None           cli.py:66\n",
      "           initializers=[] dims=None lr=0.1 lr_decay=0.9999                    \n",
      "           dropout=0.5 hidden=100 vocab_size=None                              \n",
      "           data_path: trainsplit.jsonl                                cli.py:68\n",
      "           output directory: train4pl                                 cli.py:69\n",
      "False\n",
      "None\n",
      "[19:45:04] Training Model...                                          cli.py:73\n",
      "{'device': 'cpu', 'num_items': 26206, 'num_subjects': 6723}\n",
      "[19:45:04] Parsed Model Args: {'device': 'cpu', 'num_items':    training.py:124\n",
      "           26206, 'num_subjects': 6723, 'priors': 'vague',                     \n",
      "           'dropout': 0.5, 'hidden': 100, 'vocab_size': None}                  \n",
      "torch.Size([120884]) torch.Size([120884])\n",
      "Training Pyro IRT Model for 2000 epochs\n",
      "+----------------------------------------------+\n",
      "| Epoch | Loss         | Best Loss    | New LR |\n",
      "|-------+--------------+--------------+--------|\n",
      "| 1     | 3611002.8442 | 3611002.8442 | 0.1000 |\n",
      "| 101   | 358642.8784  | 221541.8122  | 0.0990 |\n",
      "| 201   | 421593.6762  | 201748.0831  | 0.0980 |\n",
      "| 301   | 773035.4858  | 201748.0831  | 0.0970 |\n",
      "| 401   | 818700.6937  | 171617.0536  | 0.0961 |\n",
      "| 501   | 567866.9557  | 171617.0536  | 0.0951 |\n",
      "| 601   | 265212.9233  | 171617.0536  | 0.0942 |\n",
      "| 701   | 329825.4703  | 165608.5831  | 0.0932 |\n",
      "| 801   | 468565.8215  | 148194.1954  | 0.0923 |\n",
      "| 901   | 388408.1492  | 144260.5151  | 0.0914 |\n",
      "| 1001  | 279800.1484  | 135280.3351  | 0.0905 |\n",
      "| 1101  | 179176.5772  | 135280.3351  | 0.0896 |\n",
      "| 1201  | 262931.3697  | 135280.3351  | 0.0887 |\n",
      "| 1301  | 272206.9678  | 135280.3351  | 0.0878 |\n",
      "| 1401  | 308672.8057  | 132169.8520  | 0.0869 |\n",
      "| 1501  | 272051.6517  | 127808.9487  | 0.0861 |\n",
      "| 1601  | 137428.9891  | 127808.9487  | 0.0852 |\n",
      "| 1701  | 201200.3446  | 118409.2111  | 0.0844 |\n",
      "| 1801  | 260974.6995  | 112499.8783  | 0.0835 |\n",
      "| 1901  | 254386.9105  | 112499.8783  | 0.0827 |\n",
      "| 2000  | 258377.5795  | 103621.6686  | 0.0819 |\n",
      "+----------------------------------------------+[19:46:56] Train time: 112.89697027206421                             cli.py:79\n"
     ]
    }
   ],
   "source": [
    "!py-irt train 4pl trainsplit.jsonl train4pl\n"
   ]
  },
  {
   "cell_type": "code",
   "execution_count": 209,
   "id": "1a4db541-8ee1-4124-af21-de88634427e4",
   "metadata": {},
   "outputs": [
    {
     "data": {
      "text/plain": [
       "(Index(['question_number_of_choice', 'question_id', 'topic',\n",
       "        'question_difficulty', 'question_type', 'learning_node', 'sub_topic',\n",
       "        'ability', 'diff', 'disc', 'lambdas'],\n",
       "       dtype='object'),\n",
       " Index(['question_number_of_choice', 'question_id', 'topic',\n",
       "        'question_difficulty', 'question_type', 'learning_node', 'sub_topic',\n",
       "        'ability', 'diff', 'disc', 'lambdas'],\n",
       "       dtype='object'))"
      ]
     },
     "execution_count": 209,
     "metadata": {},
     "output_type": "execute_result"
    }
   ],
   "source": [
    "# transform from irt input\n",
    "import json\n",
    "\n",
    "f = open(\"train4pl/best_parameters.json\").read()\n",
    "d = json.loads(f)\n",
    "duid = {int(k): int(v) for k, v in d[\"subject_ids\"].items()}\n",
    "dability = dict(zip(map(int, d[\"subject_ids\"].values()), d[\"ability\"]))\n",
    "ddiff = dict(zip(map(int, d[\"item_ids\"].values()), d[\"diff\"]))\n",
    "ddisc = dict(zip(map(int, d[\"item_ids\"].values()), d[\"disc\"]))\n",
    "dlambdas = dict(zip(map(int, d[\"item_ids\"].values()), d[\"lambdas\"]))\n",
    "\n",
    "train4pl = train.copy()\n",
    "valid4pl = valid.copy()\n",
    "test4pl = test.copy()\n",
    "\n",
    "# transform to irt\n",
    "train4pl[\"ability\"] = train4pl.user_id.map(dability)\n",
    "train4pl[\"diff\"] = train4pl.question_id.map(ddiff)\n",
    "train4pl[\"disc\"] = train4pl.question_id.map(ddisc)\n",
    "train4pl[\"lambdas\"] = train4pl.question_id.map(dlambdas)\n",
    "\n",
    "valid4pl[\"ability\"] = valid4pl.user_id.map(dability)\n",
    "valid4pl[\"diff\"] = valid4pl.question_id.map(ddiff)\n",
    "valid4pl[\"disc\"] = valid4pl.question_id.map(ddisc)\n",
    "valid4pl[\"lambdas\"] = valid4pl.question_id.map(dlambdas)\n",
    "\n",
    "test4pl[\"ability\"] = test4pl.user_id.map(dability)\n",
    "test4pl[\"diff\"] = test4pl.question_id.map(ddiff)\n",
    "test4pl[\"disc\"] = test4pl.question_id.map(ddisc)\n",
    "test4pl[\"lambdas\"] = test4pl.question_id.map(dlambdas)\n",
    "\n",
    "lis_int4 = list_inter + [\"ability\", \"diff\", \"disc\", \"lambdas\"]\n",
    "\n",
    "X_train4pl = train4pl[lis_int4].drop(drop_cols, axis=1)\n",
    "y_train4pl = train4pl.is_correct\n",
    "\n",
    "X_valid4pl = valid4pl[lis_int4].drop(drop_cols, axis=1)\n",
    "y_valid4pl = valid4pl.is_correct\n",
    "\n",
    "X_test4pl = test4pl[lis_int4].drop(drop_cols, axis=1)\n",
    "y_test4pl = test4pl.is_correct\n",
    "\n",
    "X_train4pl.columns,X_test4pl.columns\n"
   ]
  },
  {
   "cell_type": "code",
   "execution_count": 207,
   "id": "f8b4fab1-fa7e-4aaf-a4a9-144e80c8f195",
   "metadata": {},
   "outputs": [
    {
     "data": {
      "text/plain": [
       "question_number_of_choice       0\n",
       "question_id                     0\n",
       "topic                           0\n",
       "question_difficulty             0\n",
       "question_type                   0\n",
       "learning_node                   0\n",
       "sub_topic                       0\n",
       "ability                       210\n",
       "diff                         2987\n",
       "disc                         2987\n",
       "lambdas                      2987\n",
       "dtype: int64"
      ]
     },
     "execution_count": 207,
     "metadata": {},
     "output_type": "execute_result"
    }
   ],
   "source": [
    "X_valid4pl.isna().sum()\n"
   ]
  },
  {
   "cell_type": "code",
   "execution_count": 54,
   "id": "0ff120b7-e1fa-4a4b-b142-40a8df3b853e",
   "metadata": {},
   "outputs": [
    {
     "data": {
      "application/vnd.jupyter.widget-view+json": {
       "model_id": "6fcabb2f37564a98bc2dea2b27ab9408",
       "version_major": 2,
       "version_minor": 0
      },
      "text/plain": [
       "MetricVisualizer(layout=Layout(align_self='stretch', height='500px'))"
      ]
     },
     "metadata": {},
     "output_type": "display_data"
    },
    {
     "data": {
      "text/plain": [
       "<catboost.core.CatBoostClassifier at 0x1ca02b86e50>"
      ]
     },
     "execution_count": 54,
     "metadata": {},
     "output_type": "execute_result"
    }
   ],
   "source": [
    "from catboost import CatBoostClassifier\n",
    "\n",
    "clf4pl = CatBoostClassifier(**CATBOOST_PARAM)\n",
    "clf4pl.fit(\n",
    "    X_train4pl,\n",
    "    y_train4pl,\n",
    "    cat_features,\n",
    "    eval_set=(\n",
    "        X_valid4pl,\n",
    "        y_valid4pl,\n",
    "    ),\n",
    "    **CATBOOST_FIT_PARAM\n",
    ")\n"
   ]
  },
  {
   "cell_type": "code",
   "execution_count": 200,
   "id": "799a8af3-e51c-44c0-ada7-61a97e8585f0",
   "metadata": {},
   "outputs": [
    {
     "name": "stderr",
     "output_type": "stream",
     "text": [
      "C:\\Users\\mrlut\\AppData\\Local\\Temp/ipykernel_7796/827199090.py:7: FutureWarning: Dropping of nuisance columns in DataFrame reductions (with 'numeric_only=None') is deprecated; in a future version this will raise TypeError.  Select only valid columns before calling the reduction.\n",
      "  yp = clf4pl.predict_proba(X_valid4pl.fillna(X_valid4pl.mean()))\n",
      "C:\\Users\\mrlut\\AppData\\Local\\Temp/ipykernel_7796/827199090.py:10: FutureWarning: Dropping of nuisance columns in DataFrame reductions (with 'numeric_only=None') is deprecated; in a future version this will raise TypeError.  Select only valid columns before calling the reduction.\n",
      "  yp = clf4pl.predict_proba(X_valid4pl.fillna(X_valid4pl.median()))\n"
     ]
    },
    {
     "data": {
      "text/plain": [
       "(0.8752696367623871,\n",
       " 0.7335351675563863,\n",
       " 0.7280296728272194,\n",
       " 0.7118920346595509)"
      ]
     },
     "execution_count": 200,
     "metadata": {},
     "output_type": "execute_result"
    }
   ],
   "source": [
    "yp = clf4pl.predict_proba(X_train4pl)\n",
    "tr = roc_auc_score(y_train4pl, yp[:, 1])\n",
    "\n",
    "yp = clf4pl.predict_proba(X_valid4pl)\n",
    "va1 = roc_auc_score(y_valid4pl, yp[:, 1])\n",
    "\n",
    "yp = clf4pl.predict_proba(X_valid4pl.fillna(X_valid4pl.mean()))\n",
    "va2 = roc_auc_score(y_valid4pl, yp[:, 1])\n",
    "\n",
    "yp = clf4pl.predict_proba(X_valid4pl.fillna(X_valid4pl.median()))\n",
    "va3 = roc_auc_score(y_valid4pl, yp[:, 1])\n",
    "# yp2=clf.predict_proba(X_test)\n",
    "# te=roc_auc_score(y_test,yp2[:,1])\n",
    "\n",
    "tr, va1, va2, va3\n"
   ]
  },
  {
   "cell_type": "code",
   "execution_count": 201,
   "id": "a8f1a7e0-d676-411b-a6a4-ea343cc9ea11",
   "metadata": {},
   "outputs": [
    {
     "data": {
      "text/plain": [
       "0.7345317393746482"
      ]
     },
     "execution_count": 201,
     "metadata": {},
     "output_type": "execute_result"
    }
   ],
   "source": [
    "xx4 = X_valid4pl.copy()\n",
    "xx4[\"diff\"] = X_valid4pl[\"diff\"].fillna(\n",
    "    X_valid4pl.groupby(\"question_difficulty\")[\"diff\"].transform(\"median\")\n",
    ")\n",
    "xx4[\"disc\"] = X_valid4pl[\"disc\"].fillna(\n",
    "    X_valid4pl.groupby(\"question_difficulty\")[\"disc\"].transform(\"median\")\n",
    ")\n",
    "xx4[\"ability\"] = X_valid4pl[\"ability\"].fillna(X_valid4pl[\"ability\"].median())\n",
    "\n",
    "\n",
    "yp = clf4pl.predict_proba(xx4)\n",
    "roc_auc_score(y_valid4pl, yp[:, 1])\n"
   ]
  },
  {
   "cell_type": "code",
   "execution_count": 211,
   "id": "7aa1ad4c-6d06-404e-ba2f-8fc355d514c6",
   "metadata": {},
   "outputs": [
    {
     "data": {
      "text/plain": [
       "Index(['question_number_of_choice', 'question_id', 'topic',\n",
       "       'question_difficulty', 'question_type', 'learning_node', 'sub_topic',\n",
       "       'ability', 'diff'],\n",
       "      dtype='object')"
      ]
     },
     "execution_count": 211,
     "metadata": {},
     "output_type": "execute_result"
    }
   ],
   "source": [
    "X_test4pl.columns"
   ]
  },
  {
   "cell_type": "markdown",
   "id": "d7b4e536-c729-4fd7-b674-753829b59165",
   "metadata": {},
   "source": [
    "#### Test"
   ]
  },
  {
   "cell_type": "code",
   "execution_count": 212,
   "id": "f9923528-833f-4c6d-a279-e1c29f917257",
   "metadata": {},
   "outputs": [
    {
     "name": "stderr",
     "output_type": "stream",
     "text": [
      "C:\\Users\\mrlut\\AppData\\Local\\Temp/ipykernel_7796/2174251803.py:11: FutureWarning: Dropping of nuisance columns in DataFrame reductions (with 'numeric_only=None') is deprecated; in a future version this will raise TypeError.  Select only valid columns before calling the reduction.\n",
      "  yp = clf4pl.predict_proba(X_test4pl.fillna(X_test4pl.mean()))\n",
      "C:\\Users\\mrlut\\AppData\\Local\\Temp/ipykernel_7796/2174251803.py:14: FutureWarning: Dropping of nuisance columns in DataFrame reductions (with 'numeric_only=None') is deprecated; in a future version this will raise TypeError.  Select only valid columns before calling the reduction.\n",
      "  yp = clf4pl.predict_proba(X_test4pl.fillna(X_test4pl.median()))\n"
     ]
    },
    {
     "data": {
      "text/plain": [
       "(0.8752696367623871,\n",
       " 0.7343600966700442,\n",
       " 0.7267304185567625,\n",
       " 0.7090623833593387)"
      ]
     },
     "execution_count": 212,
     "metadata": {},
     "output_type": "execute_result"
    }
   ],
   "source": [
    "X_test4pl = test4pl[lis_int4].drop(drop_cols, axis=1)\n",
    "y_test4pl = test4pl.is_correct\n",
    "\n",
    "yp = clf4pl.predict_proba(X_train4pl)\n",
    "tr = roc_auc_score(y_train4pl, yp[:, 1])\n",
    "\n",
    "\n",
    "yp = clf4pl.predict_proba(X_test4pl)\n",
    "te1 = roc_auc_score(y_test4pl, yp[:, 1])\n",
    "\n",
    "yp = clf4pl.predict_proba(X_test4pl.fillna(X_test4pl.mean()))\n",
    "te2 = roc_auc_score(y_test4pl, yp[:, 1])\n",
    "\n",
    "yp = clf4pl.predict_proba(X_test4pl.fillna(X_test4pl.median()))\n",
    "ypred4pl=yp\n",
    "te3 = roc_auc_score(y_test4pl, yp[:, 1])\n",
    "# yp2=clf.predict_proba(X_test)\n",
    "# te=roc_auc_score(y_test,yp2[:,1])\n",
    "\n",
    "tr, te1, te2, te3\n"
   ]
  },
  {
   "cell_type": "code",
   "execution_count": 220,
   "id": "b0ab877d-3633-4293-a1a4-8929c8bb1924",
   "metadata": {},
   "outputs": [],
   "source": [
    "# ## Perbandingan distribution plot 2-PL vs 4-PL\n",
    "# sns.distplot(X_valid2pl[\"ability\"])\n",
    "# sns.distplot(X_valid2pl[\"diff\"])\n",
    "# sns.distplot(X_valid2pl[\"disc\"])\n",
    "# sns.distplot(X_valid4pl[\"ability\"])\n",
    "# sns.distplot(X_valid4pl[\"diff\"])\n",
    "# sns.distplot(X_valid4pl[\"disc\"])\n",
    "# sns.distplot(X_valid4pl[\"lambdas\"])\n"
   ]
  },
  {
   "cell_type": "markdown",
   "id": "23e1733f-506d-434b-b6c7-2bc377f0f238",
   "metadata": {},
   "source": [
    "# ROC Curve"
   ]
  },
  {
   "cell_type": "code",
   "execution_count": 217,
   "id": "b22ac3f8-43a5-4864-af7c-faaa698d1ed2",
   "metadata": {},
   "outputs": [
    {
     "data": {
      "image/png": "[encoded data removed]",
      "text/plain": [
       "<Figure size 864x864 with 1 Axes>"
      ]
     },
     "metadata": {},
     "output_type": "display_data"
    }
   ],
   "source": [
    "#ROC Curve\n",
    "from sklearn.metrics import roc_curve\n",
    "import matplotlib.pyplot as plt\n",
    "plt.figure(figsize=(12,12))\n",
    "fprb , tprb, thresholdsb = roc_curve(y_test1pl, ypbaseline)\n",
    "fprcb , tprcb, thresholdscb = roc_curve(y_test1pl, ypredcbonly[:,1])\n",
    "fpr1 , tpr1, thresholds1 = roc_curve(y_test1pl, ypred1pl[:,1])\n",
    "fpr2 , tpr2, thresholds2 = roc_curve(y_test2pl, ypred2plnotmul[:,1])\n",
    "fpr4 , tpr4, thresholds4 = roc_curve(y_test2pl, ypred4pl[:,1])\n",
    "\n",
    "\n",
    "plt.plot([0,1],[0,1], 'k--')\n",
    "plt.plot(fprb, tprb, label= \"Baseline (Aggregate)\")\n",
    "plt.plot(fprcb, tprcb, label= \"Catboost only (without IRT)\")\n",
    "plt.plot(fpr1, tpr1, label= \"IRT-1PL\")\n",
    "plt.plot(fpr2, tpr2, label= \"IRT-2PL (not multiplied)\")\n",
    "plt.plot(fpr4, tpr4, label= \"IRT-4PL\")\n",
    "\n",
    "plt.legend()\n",
    "plt.xlabel(\"FPR\")\n",
    "plt.ylabel(\"TPR\")\n",
    "plt.title('Receiver Operating Characteristic')\n",
    "plt.show()"
   ]
  },
  {
   "cell_type": "markdown",
   "id": "d7bbb9c6-61ef-4b3a-8a9f-c9b26105704e",
   "metadata": {},
   "source": [
    "Pada ROC Curve dapat dilihat bahwa kemampuan model Catboost+IRT jauh lebih baik dari Catboost-only dan Baseline Aggregate.  \n",
    "Sedangkan antar model IRT, walau AUC IRT-2PL sedikit lebih tinggi daripada 1PL dan 4PL, trade off-nya tidak begitu berbeda"
   ]
  },
  {
   "cell_type": "markdown",
   "id": "f366c7ac-a068-4bd1-bce7-adf52a8c323c",
   "metadata": {
    "tags": []
   },
   "source": [
    "# Modelling conclusion\n",
    "\n",
    "Dari hasil eksperimen, ditemukan bahwa:\n",
    "- model IRT sebagai fitur dapat meningkatkan AUC model CatBoost\n",
    "- saat training model, kurva validation AUC yang konvergen hanya dimiliki oleh `CatBoost-only` dan `Catboost + 2PL-IRT-not-multiplied`\n",
    "- AUC terbaik diraih oleh CatBoost dengan 2PL-IRT sebagai fitur, yaitu dengan tambahan fitur `student_ability`, `question_difficulty`, dan `question_discrimination`\n",
    "- rumus IRT-2PL adalah `discrimination(ability - difficulty)`, namun model CatBoost bekerja lebih baik saat `student_ability`, `question_difficulty`, dan `question_discrimination` menjadi fitur terpisah (`model IRT-2PL-not-multiplied`) dibandingkan dikali (`model IRT-2PL-multiplied`)\n",
    "- perkalian antara `ability` dan `discrimination`, membuat lebih banyak missing values karena banyak `discrimination` yang missing. dari hasil eksperimen terlihat imputation pada `discrimination` sebelum dikali, tidak membuat model `model IRT-2PL-not-multiplied` lebih bagus daripada dipisah `model IRT-2PL-not-multiplied`\n",
    "\n",
    "Atas temuan-temuan di atas, terutama dari  smoothness validation AUC curve dan nilai test AUC, Catboost + IRT-2PL-not-multiplied digunakan sebagai model untuk final submission"
   ]
  },
  {
   "cell_type": "markdown",
   "id": "62bd851f",
   "metadata": {},
   "source": [
    "## Tuning iterations\n",
    "\n",
    "Karena  Catboost + IRT-2PL-not-multiplied mampu converge dengan cukup smooth dibandingkan model-model lainnya, maka dilakukan sekali lagi eksperimen untuk mencari jumlah max `iterations` terbaik"
   ]
  },
  {
   "cell_type": "code",
   "execution_count": 146,
   "id": "92b9b733-c041-4e09-9054-4e9e0a2946b8",
   "metadata": {},
   "outputs": [
    {
     "data": {
      "text/plain": [
       "Index(['question_number_of_choice', 'question_id', 'topic',\n",
       "       'question_difficulty', 'question_type', 'learning_node', 'sub_topic',\n",
       "       'ability', 'diff', 'disc'],\n",
       "      dtype='object')"
      ]
     },
     "execution_count": 146,
     "metadata": {},
     "output_type": "execute_result"
    }
   ],
   "source": [
    "# transform from irt input\n",
    "import json\n",
    "\n",
    "f = open(\"train2pl/best_parameters.json\").read()\n",
    "d = json.loads(f)\n",
    "duid = {int(k): int(v) for k, v in d[\"subject_ids\"].items()}\n",
    "dability = dict(zip(map(int, d[\"subject_ids\"].values()), d[\"ability\"]))\n",
    "ddiff = dict(zip(map(int, d[\"item_ids\"].values()), d[\"diff\"]))\n",
    "ddisc = dict(zip(map(int, d[\"item_ids\"].values()), d[\"disc\"]))\n",
    "\n",
    "train2pl = train.copy()\n",
    "valid2pl = valid.copy()\n",
    "test2pl = test.copy()\n",
    "\n",
    "# transform to irt\n",
    "train2pl[\"ability\"] = train2pl.user_id.map(dability)\n",
    "train2pl[\"diff\"] = train2pl.question_id.map(ddiff)\n",
    "train2pl[\"disc\"] = train2pl.question_id.map(ddisc)\n",
    "# train3['lambdas'] =train3.question_id.map(dlambdas)\n",
    "\n",
    "valid2pl[\"ability\"] = valid2pl.user_id.map(dability)\n",
    "valid2pl[\"diff\"] = valid2pl.question_id.map(ddiff)\n",
    "valid2pl[\"disc\"] = valid2pl.question_id.map(ddisc)\n",
    "# valid3['lambdas'] =valid3.question_id.map(dlambdas)\n",
    "\n",
    "test2pl[\"ability\"] = test2pl.user_id.map(dability)\n",
    "test2pl[\"diff\"] = test2pl.question_id.map(ddiff)\n",
    "test2pl[\"disc\"] = test2pl.question_id.map(ddisc)\n",
    "\n",
    "lis_int2 = list_inter + [\"ability\", \"diff\", \"disc\"]\n",
    "\n",
    "X_train2pl = train2pl[lis_int2].drop(drop_cols, axis=1)\n",
    "y_train2pl = train2pl.is_correct\n",
    "\n",
    "X_valid2pl = valid2pl[lis_int2].drop(drop_cols, axis=1)\n",
    "y_valid2pl = valid2pl.is_correct\n",
    "\n",
    "X_train2pl.columns\n"
   ]
  },
  {
   "cell_type": "code",
   "execution_count": 147,
   "id": "a7920102-4545-4be9-aa50-0fd210bad48a",
   "metadata": {
    "tags": []
   },
   "outputs": [
    {
     "data": {
      "application/vnd.jupyter.widget-view+json": {
       "model_id": "c131fad4306f4d189dfbffab11fc8ea6",
       "version_major": 2,
       "version_minor": 0
      },
      "text/plain": [
       "MetricVisualizer(layout=Layout(align_self='stretch', height='500px'))"
      ]
     },
     "metadata": {},
     "output_type": "display_data"
    },
    {
     "data": {
      "text/plain": [
       "<catboost.core.CatBoostClassifier at 0x1ca3e6e06a0>"
      ]
     },
     "execution_count": 147,
     "metadata": {},
     "output_type": "execute_result"
    }
   ],
   "source": [
    "from catboost import CatBoostClassifier\n",
    "\n",
    "clf2pltrainiter = CatBoostClassifier(**{**CATBOOST_PARAM, \"iterations\": 2000})\n",
    "clf2pltrainiter.fit(\n",
    "    X_train2pl,\n",
    "    y_train2pl,\n",
    "    cat_features,\n",
    "    eval_set=(X_valid2pl, y_valid2pl),\n",
    "    **CATBOOST_FIT_PARAM\n",
    ")\n"
   ]
  },
  {
   "cell_type": "markdown",
   "id": "18fd068e-dc52-49e5-a452-1309a192c058",
   "metadata": {},
   "source": [
    "# Final submission"
   ]
  },
  {
   "cell_type": "code",
   "execution_count": 223,
   "id": "7f364ecd-1df5-47d2-ad53-a60168ca79de",
   "metadata": {
    "tags": []
   },
   "outputs": [],
   "source": [
    "dfinal = df.copy()\n",
    "transform_to_irt_input(dfinal, \"final.jsonl\")\n"
   ]
  },
  {
   "cell_type": "code",
   "execution_count": 224,
   "id": "2a4de900-42e8-49b5-a1f5-281c4a9b32de",
   "metadata": {},
   "outputs": [
    {
     "name": "stdout",
     "output_type": "stream",
     "text": [
      "[23:23:45] config: model_type='2pl' epochs=2000 priors=None           cli.py:66\n",
      "           initializers=[] dims=None lr=0.1 lr_decay=0.9999                    \n",
      "           dropout=0.5 hidden=100 vocab_size=None                              \n",
      "           data_path: final.jsonl                                     cli.py:68\n",
      "           output directory: final2pl                                 cli.py:69\n",
      "False\n",
      "None\n",
      "[23:23:46] Training Model...                                          cli.py:73\n",
      "{'device': 'cpu', 'num_items': 30653, 'num_subjects': 7000}\n",
      "[23:23:46] Parsed Model Args: {'device': 'cpu', 'num_items':    training.py:124\n",
      "           30653, 'num_subjects': 7000, 'priors': 'vague',                     \n",
      "           'dropout': 0.5, 'hidden': 100, 'vocab_size': None}                  \n",
      "torch.Size([172995]) torch.Size([172995])\n",
      "Training Pyro IRT Model for 2000 epochs\n",
      "+--------------------------------------------------+\n",
      "| Epoch | Loss           | Best Loss      | New LR |\n",
      "|-------+----------------+----------------+--------|\n",
      "| 1     | 154964289.0234 | 154964289.0234 | 0.1000 |\n",
      "| 101   | 2324823.4912   | 2324823.4912   | 0.0990 |\n",
      "| 201   | 1044702.7676   | 1036287.7529   | 0.0980 |\n",
      "| 301   | 638569.2510    | 629168.3877    | 0.0970 |\n",
      "| 401   | 454863.6162    | 454203.5186    | 0.0961 |\n",
      "| 501   | 356114.6504    | 353320.0352    | 0.0951 |\n",
      "| 601   | 289614.1992    | 288084.6445    | 0.0942 |\n",
      "| 701   | 249151.6553    | 248264.8340    | 0.0932 |\n",
      "| 801   | 221157.9077    | 220245.5000    | 0.0923 |\n",
      "| 901   | 202014.7087    | 199671.0342    | 0.0914 |\n",
      "| 1001  | 186174.8558    | 183033.4911    | 0.0905 |\n",
      "| 1101  | 173140.0658    | 171930.1699    | 0.0896 |\n",
      "| 1201  | 163808.7083    | 163140.6758    | 0.0887 |\n",
      "| 1301  | 158098.4619    | 155512.9863    | 0.0878 |\n",
      "| 1401  | 150524.9580    | 150524.9580    | 0.0869 |\n",
      "| 1501  | 146071.3633    | 145733.4795    | 0.0861 |\n",
      "| 1601  | 142176.1299    | 141925.8691    | 0.0852 |\n",
      "| 1701  | 138757.0469    | 138563.0723    | 0.0844 |\n",
      "| 1801  | 136316.7520    | 135776.9722    | 0.0835 |\n",
      "| 1901  | 134062.1062    | 133628.5842    | 0.0827 |\n",
      "| 2000  | 132337.8243    | 131929.7899    | 0.0819 |\n",
      "+--------------------------------------------------+[23:25:27] Train time: 102.0909583568573                              cli.py:79\n"
     ]
    }
   ],
   "source": [
    "!py-irt train 2pl final.jsonl final2pl\n"
   ]
  },
  {
   "cell_type": "code",
   "execution_count": 225,
   "id": "5be6725d-70e7-413d-962c-21f0453ebd60",
   "metadata": {},
   "outputs": [],
   "source": [
    "# transform from irt input\n",
    "import json\n",
    "\n",
    "f = open(\"final2pl/best_parameters.json\").read()\n",
    "d = json.loads(f)\n",
    "duid = {int(k): int(v) for k, v in d[\"subject_ids\"].items()}\n",
    "dability = dict(zip(map(int, d[\"subject_ids\"].values()), d[\"ability\"]))\n",
    "ddiff = dict(zip(map(int, d[\"item_ids\"].values()), d[\"diff\"]))\n",
    "ddisc = dict(zip(map(int, d[\"item_ids\"].values()), d[\"disc\"]))\n",
    "# dlambdas = dict(zip(map(int,map(remove_q,d['item_ids'].values())), d['lambdas']))\n"
   ]
  },
  {
   "cell_type": "code",
   "execution_count": 226,
   "id": "0d34c580-cfb4-4201-b8bf-4f2584178d56",
   "metadata": {
    "tags": []
   },
   "outputs": [],
   "source": [
    "dfinal2pl = dfinal.copy()\n",
    "\n",
    "# transform to irt\n",
    "dfinal2pl[\"ability\"] = dfinal.user_id.map(dability)\n",
    "dfinal2pl[\"diff\"] = dfinal.question_id.map(ddiff)\n",
    "dfinal2pl[\"disc\"] = dfinal.question_id.map(ddisc)\n"
   ]
  },
  {
   "cell_type": "code",
   "execution_count": 227,
   "id": "eb4624ad-ecff-4295-9f27-fcbfa542e07e",
   "metadata": {
    "tags": []
   },
   "outputs": [
    {
     "data": {
      "text/plain": [
       "user_id                                False\n",
       "session_id                             False\n",
       "session_no                             False\n",
       "topic                                  False\n",
       "sub_topic                              False\n",
       "learning_node                          False\n",
       "question_id                            False\n",
       "question_type                          False\n",
       "session_question_no                    False\n",
       "learning_node_question_no              False\n",
       "question_difficulty                    False\n",
       "question_number_of_choice              False\n",
       "question_number_of_correct_choice      False\n",
       "question_number_of_correct_selected    False\n",
       "question_number_of_wrong_selected      False\n",
       "ms_first_response                      False\n",
       "is_correct                             False\n",
       "row_id                                 False\n",
       "ability                                False\n",
       "diff                                   False\n",
       "disc                                   False\n",
       "dtype: bool"
      ]
     },
     "execution_count": 227,
     "metadata": {},
     "output_type": "execute_result"
    }
   ],
   "source": [
    "dfinal2pl.isna().any()\n"
   ]
  },
  {
   "cell_type": "code",
   "execution_count": 228,
   "id": "6210c7dd-25a2-494e-84ce-53df33744743",
   "metadata": {},
   "outputs": [],
   "source": [
    "lis_int2 = list_inter + [\"ability\", \"diff\", \"disc\"]\n"
   ]
  },
  {
   "cell_type": "code",
   "execution_count": 229,
   "id": "0d6923ba-caad-49e4-b866-c45b3924beca",
   "metadata": {},
   "outputs": [],
   "source": [
    "Xfinal2pl = dfinal2pl[lis_int2].drop(drop_cols, axis=1)\n",
    "yfinal2pl = dfinal2pl.is_correct\n"
   ]
  },
  {
   "cell_type": "code",
   "execution_count": 230,
   "id": "229979bb-f3f9-41c2-9444-dce1518a1537",
   "metadata": {},
   "outputs": [
    {
     "data": {
      "text/plain": [
       "Index(['question_number_of_choice', 'question_id', 'topic',\n",
       "       'question_difficulty', 'question_type', 'learning_node', 'sub_topic',\n",
       "       'ability', 'diff', 'disc'],\n",
       "      dtype='object')"
      ]
     },
     "execution_count": 230,
     "metadata": {},
     "output_type": "execute_result"
    }
   ],
   "source": [
    "Xfinal2pl.columns\n"
   ]
  },
  {
   "cell_type": "code",
   "execution_count": 239,
   "id": "4d2c8694-f76c-4686-94ac-1c67da9341e0",
   "metadata": {
    "tags": []
   },
   "outputs": [
    {
     "data": {
      "application/vnd.jupyter.widget-view+json": {
       "model_id": "a0fccfb5ec2b435593d5cda53563afd1",
       "version_major": 2,
       "version_minor": 0
      },
      "text/plain": [
       "MetricVisualizer(layout=Layout(align_self='stretch', height='500px'))"
      ]
     },
     "metadata": {},
     "output_type": "display_data"
    },
    {
     "name": "stderr",
     "output_type": "stream",
     "text": [
      "You should provide test set for use best model. use_best_model parameter has been switched to false value.\n"
     ]
    },
    {
     "data": {
      "text/plain": [
       "<catboost.core.CatBoostClassifier at 0x1ca414d0250>"
      ]
     },
     "execution_count": 239,
     "metadata": {},
     "output_type": "execute_result"
    }
   ],
   "source": [
    "from catboost import CatBoostClassifier\n",
    "\n",
    "clfinal = CatBoostClassifier(**{**CATBOOST_PARAM,\"iterations\": 433})\n",
    "clfinal.fit(Xfinal2pl, yfinal2pl, cat_features, **CATBOOST_FIT_PARAM)\n"
   ]
  },
  {
   "cell_type": "code",
   "execution_count": 240,
   "id": "edeb2bac-2e97-4308-96a6-73096d732116",
   "metadata": {},
   "outputs": [
    {
     "data": {
      "text/plain": [
       "0.8469196178871268"
      ]
     },
     "execution_count": 240,
     "metadata": {},
     "output_type": "execute_result"
    }
   ],
   "source": [
    "yp = clfinal.predict_proba(Xfinal2pl)\n",
    "tr = roc_auc_score(yfinal2pl, yp[:, 1])\n",
    "\n",
    "\n",
    "tr\n"
   ]
  },
  {
   "cell_type": "code",
   "execution_count": 241,
   "id": "e9eb6e46-f017-46ef-bcef-01cb2c4dbd7a",
   "metadata": {},
   "outputs": [
    {
     "name": "stderr",
     "output_type": "stream",
     "text": [
      "C:\\Users\\mrlut\\AppData\\Local\\Temp/ipykernel_7796/3928223850.py:5: FutureWarning: Dropping of nuisance columns in DataFrame reductions (with 'numeric_only=None') is deprecated; in a future version this will raise TypeError.  Select only valid columns before calling the reduction.\n",
      "  testdf2pl = testdf2pl.fillna(testdf2pl.median())\n"
     ]
    }
   ],
   "source": [
    "testdf2pl = testdf.copy()\n",
    "testdf2pl[\"ability\"] = testdf.user_id.map(dability)\n",
    "testdf2pl[\"diff\"] = testdf.question_id.map(ddiff)\n",
    "testdf2pl[\"disc\"] = testdf.question_id.map(ddisc)\n",
    "testdf2pl = testdf2pl.fillna(testdf2pl.median())\n"
   ]
  },
  {
   "cell_type": "code",
   "execution_count": 242,
   "id": "191389c6-f96e-449d-8c44-d33ad019d986",
   "metadata": {},
   "outputs": [],
   "source": [
    "Xtest2pl = testdf2pl[lis_int2].drop(drop_cols, axis=1)\n"
   ]
  },
  {
   "cell_type": "code",
   "execution_count": 243,
   "id": "5cc9085d-5a4e-4274-bcc6-e6b5b6443e0a",
   "metadata": {},
   "outputs": [
    {
     "data": {
      "text/html": [
       "<div>\n",
       "<style scoped>\n",
       "    .dataframe tbody tr th:only-of-type {\n",
       "        vertical-align: middle;\n",
       "    }\n",
       "\n",
       "    .dataframe tbody tr th {\n",
       "        vertical-align: top;\n",
       "    }\n",
       "\n",
       "    .dataframe thead th {\n",
       "        text-align: right;\n",
       "    }\n",
       "</style>\n",
       "<table border=\"1\" class=\"dataframe\">\n",
       "  <thead>\n",
       "    <tr style=\"text-align: right;\">\n",
       "      <th></th>\n",
       "      <th>question_number_of_choice</th>\n",
       "      <th>question_id</th>\n",
       "      <th>topic</th>\n",
       "      <th>question_difficulty</th>\n",
       "      <th>question_type</th>\n",
       "      <th>learning_node</th>\n",
       "      <th>sub_topic</th>\n",
       "      <th>ability</th>\n",
       "      <th>diff</th>\n",
       "      <th>disc</th>\n",
       "    </tr>\n",
       "  </thead>\n",
       "  <tbody>\n",
       "    <tr>\n",
       "      <th>0</th>\n",
       "      <td>4</td>\n",
       "      <td>2226271822</td>\n",
       "      <td>1064573894</td>\n",
       "      <td>medium</td>\n",
       "      <td>Single choice</td>\n",
       "      <td>1683819444</td>\n",
       "      <td>6164056362</td>\n",
       "      <td>-0.159845</td>\n",
       "      <td>-0.029829</td>\n",
       "      <td>0.200297</td>\n",
       "    </tr>\n",
       "    <tr>\n",
       "      <th>1</th>\n",
       "      <td>4</td>\n",
       "      <td>8350981375</td>\n",
       "      <td>1737274108</td>\n",
       "      <td>medium</td>\n",
       "      <td>Single choice</td>\n",
       "      <td>8772005155</td>\n",
       "      <td>6197171301</td>\n",
       "      <td>0.154840</td>\n",
       "      <td>0.002770</td>\n",
       "      <td>0.033442</td>\n",
       "    </tr>\n",
       "    <tr>\n",
       "      <th>2</th>\n",
       "      <td>4</td>\n",
       "      <td>7911407965</td>\n",
       "      <td>2624511878</td>\n",
       "      <td>other</td>\n",
       "      <td>Single choice</td>\n",
       "      <td>1064446677</td>\n",
       "      <td>5665086549</td>\n",
       "      <td>-0.486006</td>\n",
       "      <td>-0.007871</td>\n",
       "      <td>0.041295</td>\n",
       "    </tr>\n",
       "    <tr>\n",
       "      <th>3</th>\n",
       "      <td>4</td>\n",
       "      <td>2368078655</td>\n",
       "      <td>147927464</td>\n",
       "      <td>other</td>\n",
       "      <td>Single choice</td>\n",
       "      <td>7469873307</td>\n",
       "      <td>5665086549</td>\n",
       "      <td>-0.084017</td>\n",
       "      <td>-0.001599</td>\n",
       "      <td>0.009031</td>\n",
       "    </tr>\n",
       "    <tr>\n",
       "      <th>4</th>\n",
       "      <td>4</td>\n",
       "      <td>6616709393</td>\n",
       "      <td>253258722</td>\n",
       "      <td>medium</td>\n",
       "      <td>Single choice</td>\n",
       "      <td>3261917054</td>\n",
       "      <td>2774427363</td>\n",
       "      <td>0.318915</td>\n",
       "      <td>0.042763</td>\n",
       "      <td>0.013122</td>\n",
       "    </tr>\n",
       "  </tbody>\n",
       "</table>\n",
       "</div>"
      ],
      "text/plain": [
       "   question_number_of_choice  question_id       topic question_difficulty  \\\n",
       "0                          4   2226271822  1064573894              medium   \n",
       "1                          4   8350981375  1737274108              medium   \n",
       "2                          4   7911407965  2624511878               other   \n",
       "3                          4   2368078655   147927464               other   \n",
       "4                          4   6616709393   253258722              medium   \n",
       "\n",
       "   question_type  learning_node   sub_topic   ability      diff      disc  \n",
       "0  Single choice     1683819444  6164056362 -0.159845 -0.029829  0.200297  \n",
       "1  Single choice     8772005155  6197171301  0.154840  0.002770  0.033442  \n",
       "2  Single choice     1064446677  5665086549 -0.486006 -0.007871  0.041295  \n",
       "3  Single choice     7469873307  5665086549 -0.084017 -0.001599  0.009031  \n",
       "4  Single choice     3261917054  2774427363  0.318915  0.042763  0.013122  "
      ]
     },
     "execution_count": 243,
     "metadata": {},
     "output_type": "execute_result"
    }
   ],
   "source": [
    "Xtest2pl.head()\n"
   ]
  },
  {
   "cell_type": "code",
   "execution_count": 244,
   "id": "c3327e4b-6c18-4213-9f80-0068e719680c",
   "metadata": {},
   "outputs": [],
   "source": [
    "ytfinal = clfinal.predict_proba(Xtest2pl)[:, 1]\n"
   ]
  },
  {
   "cell_type": "code",
   "execution_count": 245,
   "id": "50ae43d8-8fbf-4d99-80c9-64819042500d",
   "metadata": {},
   "outputs": [
    {
     "name": "stderr",
     "output_type": "stream",
     "text": [
      "C:\\Users\\mrlut\\AppData\\Local\\Temp/ipykernel_7796/2499768619.py:2: SettingWithCopyWarning: \n",
      "A value is trying to be set on a copy of a slice from a DataFrame.\n",
      "Try using .loc[row_indexer,col_indexer] = value instead\n",
      "\n",
      "See the caveats in the documentation: https://pandas.pydata.org/pandas-docs/stable/user_guide/indexing.html#returning-a-view-versus-a-copy\n",
      "  dfsub[\"is_correct\"] = ytfinal\n"
     ]
    }
   ],
   "source": [
    "dfsub = testdf2pl[[\"row_id\"]]\n",
    "dfsub[\"is_correct\"] = ytfinal\n"
   ]
  },
  {
   "cell_type": "code",
   "execution_count": 246,
   "id": "c359bc00-16e2-4632-92bf-0dea9e4648eb",
   "metadata": {},
   "outputs": [],
   "source": [
    "dfsub.to_csv(\"submission.csv\", index=None)\n"
   ]
  },
  {
   "cell_type": "code",
   "execution_count": null,
   "id": "6668b89b-1b11-4b74-9fe3-824b4527bd20",
   "metadata": {},
   "outputs": [],
   "source": []
  }
 ],
 "metadata": {
  "kernelspec": {
   "display_name": "Python 3 (ipykernel)",
   "language": "python",
   "name": "python3"
  },
  "language_info": {
   "codemirror_mode": {
    "name": "ipython",
    "version": 3
   },
   "file_extension": ".py",
   "mimetype": "text/x-python",
   "name": "python",
   "nbconvert_exporter": "python",
   "pygments_lexer": "ipython3",
   "version": "3.9.7"
  },
  "toc-autonumbering": true,
  "toc-showmarkdowntxt": false
 },
 "nbformat": 4,
 "nbformat_minor": 5
}
